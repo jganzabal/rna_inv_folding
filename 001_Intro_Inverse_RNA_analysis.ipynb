{
 "cells": [
  {
   "cell_type": "markdown",
   "id": "8e8b8b82-9525-47c1-9a84-5f726aedb4e1",
   "metadata": {},
   "source": [
    "# Librería \n",
    "https://www.tbi.univie.ac.at/RNA/ViennaRNA/doc/html/index.html#introduction\n",
    "\n",
    "sudo -E conda install -c bioconda viennarna"
   ]
  },
  {
   "cell_type": "markdown",
   "id": "83b73b90-6f75-4266-ba5e-581678db5a3a",
   "metadata": {},
   "source": [
    "# Paginas\n",
    "\n",
    "https://github.com/automl/learna\n",
    "\n",
    "https://github.com/jadeshi/SentRNA\n",
    "\n",
    "https://github.com/eternagame/EternaBrain\n",
    "\n",
    "https://www.researchgate.net/figure/Performance-of-existing-algorithms-on-the-Eterna100-benchmark-Six-RNA-design-algorithms_fig3_295259018\n",
    "\n",
    "# Papers\n",
    "\n",
    "Inverse RNA with RL\n",
    "\n",
    "https://journals.plos.org/ploscompbiol/article?id=10.1371/journal.pcbi.1006176\n",
    "\n",
    "Inverse RNA Monte Carlo Tree search\n",
    "\n",
    "https://bmcbioinformatics.biomedcentral.com/articles/10.1186/s12859-017-1882-7"
   ]
  },
  {
   "cell_type": "markdown",
   "id": "a9e2527a-d7f7-4ff9-a241-04d8d75f7e4f",
   "metadata": {},
   "source": [
    "# Eterna 100 dataset\n",
    "https://ars.els-cdn.com/content/image/1-s2.0-S0022283615006567-mmc5.txt"
   ]
  },
  {
   "cell_type": "code",
   "execution_count": 1,
   "id": "f0fd1a20-309c-419b-a5d7-ccb42ed810ca",
   "metadata": {},
   "outputs": [],
   "source": [
    "# ! wget https://ars.els-cdn.com/content/image/1-s2.0-S0022283615006567-mmc5.txt"
   ]
  },
  {
   "cell_type": "code",
   "execution_count": 2,
   "id": "0f247aea-b1bd-4884-b547-a351a2145782",
   "metadata": {},
   "outputs": [],
   "source": [
    "import pandas as pd"
   ]
  },
  {
   "cell_type": "code",
   "execution_count": 96,
   "id": "770bb09d-c274-454e-9eff-835efb5e7dca",
   "metadata": {},
   "outputs": [
    {
     "data": {
      "text/html": [
       "<div>\n",
       "<style scoped>\n",
       "    .dataframe tbody tr th:only-of-type {\n",
       "        vertical-align: middle;\n",
       "    }\n",
       "\n",
       "    .dataframe tbody tr th {\n",
       "        vertical-align: top;\n",
       "    }\n",
       "\n",
       "    .dataframe thead th {\n",
       "        text-align: right;\n",
       "    }\n",
       "</style>\n",
       "<table border=\"1\" class=\"dataframe\">\n",
       "  <thead>\n",
       "    <tr style=\"text-align: right;\">\n",
       "      <th></th>\n",
       "      <th>Puzzle #</th>\n",
       "      <th>Puzzle Name</th>\n",
       "      <th>Eterna ID</th>\n",
       "      <th>Author</th>\n",
       "      <th>Secondary Structure</th>\n",
       "      <th>Solvers</th>\n",
       "      <th>Sample Solution (1)</th>\n",
       "      <th>Sample Solution (2)</th>\n",
       "      <th>structure_len</th>\n",
       "    </tr>\n",
       "  </thead>\n",
       "  <tbody>\n",
       "    <tr>\n",
       "      <th>0</th>\n",
       "      <td>1</td>\n",
       "      <td>Simple Hairpin</td>\n",
       "      <td>20111</td>\n",
       "      <td>Sneh</td>\n",
       "      <td>(((((......)))))</td>\n",
       "      <td>59723</td>\n",
       "      <td>GGGGGGGGGGGCCCCC</td>\n",
       "      <td>GGGGGGAAAAACCCCC</td>\n",
       "      <td>16</td>\n",
       "    </tr>\n",
       "    <tr>\n",
       "      <th>1</th>\n",
       "      <td>2</td>\n",
       "      <td>Arabidopsis Thaliana 6 RNA - Difficulty Level 0</td>\n",
       "      <td>215430</td>\n",
       "      <td>Sneh</td>\n",
       "      <td>(((((((....(((...........)))((((((((..((((((((...</td>\n",
       "      <td>22230</td>\n",
       "      <td>GCUUUUGGAAACACAAAAAAAAAAAGUGCUAAAAUGAAGUAAAAAA...</td>\n",
       "      <td>GGGGGGGAAAAGGGAAAAAAAAAAACCCCCCCCCCCAACCCCCUCU...</td>\n",
       "      <td>116</td>\n",
       "    </tr>\n",
       "    <tr>\n",
       "      <th>2</th>\n",
       "      <td>3</td>\n",
       "      <td>Prion Pseudoknot - Difficulty Level 0</td>\n",
       "      <td>15819</td>\n",
       "      <td>Sneh</td>\n",
       "      <td>((((((.((((....))))))).)))..........</td>\n",
       "      <td>15727</td>\n",
       "      <td>CGUGACAUUAUAAAAAUGAGUCGAUGAAAAAAAAAA</td>\n",
       "      <td>CGCCCCACGCCAAAAGGUGGGGAGUGAAAAAAAAAA</td>\n",
       "      <td>36</td>\n",
       "    </tr>\n",
       "    <tr>\n",
       "      <th>3</th>\n",
       "      <td>4</td>\n",
       "      <td>Human Integrated Adenovirus - Difficulty Level 0</td>\n",
       "      <td>15886</td>\n",
       "      <td>Sneh</td>\n",
       "      <td>((((((((((((((.((((((...........((((((((((((.....</td>\n",
       "      <td>13427</td>\n",
       "      <td>GGGGGGGGGGGGUGAGUGUGGAAAAAAAAAAACCCCGGCGGGGGAA...</td>\n",
       "      <td>CGACCCAGUCCGUCACAGUGCAAAAAAAAAACGCCCGAUCGCCGCA...</td>\n",
       "      <td>192</td>\n",
       "    </tr>\n",
       "    <tr>\n",
       "      <th>4</th>\n",
       "      <td>5</td>\n",
       "      <td>The Gammaretrovirus Signal - Difficulty Level 0</td>\n",
       "      <td>15847</td>\n",
       "      <td>Sneh</td>\n",
       "      <td>..(.(..((((((....))))))..).)......((((..(((.((...</td>\n",
       "      <td>10304</td>\n",
       "      <td>AACGCAAGGGGGGAAAACCCCCCAAGGGAAAAAACCCCAAGGGACC...</td>\n",
       "      <td>AACGGGACAUAUAGAAAUGUGUGGACGGAAAAAAGUAUAAUACAGU...</td>\n",
       "      <td>101</td>\n",
       "    </tr>\n",
       "    <tr>\n",
       "      <th>...</th>\n",
       "      <td>...</td>\n",
       "      <td>...</td>\n",
       "      <td>...</td>\n",
       "      <td>...</td>\n",
       "      <td>...</td>\n",
       "      <td>...</td>\n",
       "      <td>...</td>\n",
       "      <td>...</td>\n",
       "      <td>...</td>\n",
       "    </tr>\n",
       "    <tr>\n",
       "      <th>95</th>\n",
       "      <td>96</td>\n",
       "      <td>Cesspool</td>\n",
       "      <td>911841</td>\n",
       "      <td>hoglahoo</td>\n",
       "      <td>(..(..(....)..(((..(.(.(((...)))..)..)..)))..(...</td>\n",
       "      <td>4</td>\n",
       "      <td>GUGGAAGGAAACAAGAUUGGAGAGGCAAAGCCGGCGGCUGGUUAAU...</td>\n",
       "      <td>GUGCAAGGAAACAAGACUGCACACAUAAAAUGGGGGGGUGGUCAAG...</td>\n",
       "      <td>358</td>\n",
       "    </tr>\n",
       "    <tr>\n",
       "      <th>96</th>\n",
       "      <td>97</td>\n",
       "      <td>Hoglafractal</td>\n",
       "      <td>1632102</td>\n",
       "      <td>hoglahoo</td>\n",
       "      <td>..(.((..(((((....(((((......))))))))))((((...(...</td>\n",
       "      <td>3</td>\n",
       "      <td>ACGUCCAAGACUAAAAUGUUAUGAAAAAAUGAUUGGUUGGAGAAAU...</td>\n",
       "      <td>ACGUCCAAUAGAUAAAAUGUAUGAAAAAAUAUAGUCUACAUCAAAU...</td>\n",
       "      <td>400</td>\n",
       "    </tr>\n",
       "    <tr>\n",
       "      <th>97</th>\n",
       "      <td>98</td>\n",
       "      <td>Bullseye</td>\n",
       "      <td>965280</td>\n",
       "      <td>hoglahoo</td>\n",
       "      <td>...(((((((...))))..((((...))))..((((...)))))))...</td>\n",
       "      <td>3</td>\n",
       "      <td>AAAGUCGGAUAAAGUCCAAGUAUAAAGUGCAAGUCCAAAGGAUGAC...</td>\n",
       "      <td>AAAGCCGAGGAAACCUCAAGUAUAAAGUACAACCUAAAAUAGGGGC...</td>\n",
       "      <td>202</td>\n",
       "    </tr>\n",
       "    <tr>\n",
       "      <th>98</th>\n",
       "      <td>99</td>\n",
       "      <td>Shooting Star</td>\n",
       "      <td>913357</td>\n",
       "      <td>Brourd</td>\n",
       "      <td>(((((((((((((((((...(.(..((.(((.(((.((....).))...</td>\n",
       "      <td>2</td>\n",
       "      <td>UAUCGCCCCCGUGACAUAAAGAGUGCCGUGGACCGACCGAAAGCGC...</td>\n",
       "      <td>CUAUAUUCCCGUGUUCCAAGGAUUGAAGUGGACCGACCGAAAGCGC...</td>\n",
       "      <td>364</td>\n",
       "    </tr>\n",
       "    <tr>\n",
       "      <th>99</th>\n",
       "      <td>100</td>\n",
       "      <td>Teslagon</td>\n",
       "      <td>6050904</td>\n",
       "      <td>wawan151</td>\n",
       "      <td>......((.......((.((.......((.((.................</td>\n",
       "      <td>0</td>\n",
       "      <td>None</td>\n",
       "      <td>None</td>\n",
       "      <td>382</td>\n",
       "    </tr>\n",
       "  </tbody>\n",
       "</table>\n",
       "<p>100 rows × 9 columns</p>\n",
       "</div>"
      ],
      "text/plain": [
       "    Puzzle #                                       Puzzle Name  Eterna ID  \\\n",
       "0          1                                    Simple Hairpin      20111   \n",
       "1          2   Arabidopsis Thaliana 6 RNA - Difficulty Level 0     215430   \n",
       "2          3             Prion Pseudoknot - Difficulty Level 0      15819   \n",
       "3          4  Human Integrated Adenovirus - Difficulty Level 0      15886   \n",
       "4          5   The Gammaretrovirus Signal - Difficulty Level 0      15847   \n",
       "..       ...                                               ...        ...   \n",
       "95        96                                          Cesspool     911841   \n",
       "96        97                                      Hoglafractal    1632102   \n",
       "97        98                                          Bullseye     965280   \n",
       "98        99                                     Shooting Star     913357   \n",
       "99       100                                          Teslagon    6050904   \n",
       "\n",
       "      Author                                Secondary Structure  Solvers  \\\n",
       "0       Sneh                                   (((((......)))))    59723   \n",
       "1       Sneh  (((((((....(((...........)))((((((((..((((((((...    22230   \n",
       "2       Sneh               ((((((.((((....))))))).)))..........    15727   \n",
       "3       Sneh  ((((((((((((((.((((((...........((((((((((((.....    13427   \n",
       "4       Sneh  ..(.(..((((((....))))))..).)......((((..(((.((...    10304   \n",
       "..       ...                                                ...      ...   \n",
       "95  hoglahoo  (..(..(....)..(((..(.(.(((...)))..)..)..)))..(...        4   \n",
       "96  hoglahoo  ..(.((..(((((....(((((......))))))))))((((...(...        3   \n",
       "97  hoglahoo  ...(((((((...))))..((((...))))..((((...)))))))...        3   \n",
       "98    Brourd  (((((((((((((((((...(.(..((.(((.(((.((....).))...        2   \n",
       "99  wawan151  ......((.......((.((.......((.((.................        0   \n",
       "\n",
       "                                  Sample Solution (1)  \\\n",
       "0                                    GGGGGGGGGGGCCCCC   \n",
       "1   GCUUUUGGAAACACAAAAAAAAAAAGUGCUAAAAUGAAGUAAAAAA...   \n",
       "2                CGUGACAUUAUAAAAAUGAGUCGAUGAAAAAAAAAA   \n",
       "3   GGGGGGGGGGGGUGAGUGUGGAAAAAAAAAAACCCCGGCGGGGGAA...   \n",
       "4   AACGCAAGGGGGGAAAACCCCCCAAGGGAAAAAACCCCAAGGGACC...   \n",
       "..                                                ...   \n",
       "95  GUGGAAGGAAACAAGAUUGGAGAGGCAAAGCCGGCGGCUGGUUAAU...   \n",
       "96  ACGUCCAAGACUAAAAUGUUAUGAAAAAAUGAUUGGUUGGAGAAAU...   \n",
       "97  AAAGUCGGAUAAAGUCCAAGUAUAAAGUGCAAGUCCAAAGGAUGAC...   \n",
       "98  UAUCGCCCCCGUGACAUAAAGAGUGCCGUGGACCGACCGAAAGCGC...   \n",
       "99                                               None   \n",
       "\n",
       "                                  Sample Solution (2)  structure_len  \n",
       "0                                    GGGGGGAAAAACCCCC             16  \n",
       "1   GGGGGGGAAAAGGGAAAAAAAAAAACCCCCCCCCCCAACCCCCUCU...            116  \n",
       "2                CGCCCCACGCCAAAAGGUGGGGAGUGAAAAAAAAAA             36  \n",
       "3   CGACCCAGUCCGUCACAGUGCAAAAAAAAAACGCCCGAUCGCCGCA...            192  \n",
       "4   AACGGGACAUAUAGAAAUGUGUGGACGGAAAAAAGUAUAAUACAGU...            101  \n",
       "..                                                ...            ...  \n",
       "95  GUGCAAGGAAACAAGACUGCACACAUAAAAUGGGGGGGUGGUCAAG...            358  \n",
       "96  ACGUCCAAUAGAUAAAAUGUAUGAAAAAAUAUAGUCUACAUCAAAU...            400  \n",
       "97  AAAGCCGAGGAAACCUCAAGUAUAAAGUACAACCUAAAAUAGGGGC...            202  \n",
       "98  CUAUAUUCCCGUGUUCCAAGGAUUGAAGUGGACCGACCGAAAGCGC...            364  \n",
       "99                                               None            382  \n",
       "\n",
       "[100 rows x 9 columns]"
      ]
     },
     "execution_count": 96,
     "metadata": {},
     "output_type": "execute_result"
    }
   ],
   "source": [
    "df_eterna_100 = pd.read_csv('eterna100-puzzles.txt', delimiter='\\t')\n",
    "df_eterna_100['structure_len'] = df_eterna_100['Secondary Structure'].apply(len)\n",
    "df_eterna_100"
   ]
  },
  {
   "cell_type": "code",
   "execution_count": 99,
   "id": "96edcdf3-a441-4685-8179-8eff564f5126",
   "metadata": {},
   "outputs": [
    {
     "data": {
      "text/plain": [
       "'(((((((((((((((((...(.(..((.(((.(((.((....).))).)))).).)..))..))))))).(((((..(.(..((.(((.(((((.(((.((((.((....).)))).))))).))).)))).).)..))..)(....)..))))(((((((((...))))).(((((...)))))(.(....).).)))).)))).((((.((((...(((((((...))))))).(((((...)))))))))(((((((...))))))).(((((...)))))))))((((..(....)(..(..(..(.(.(((.((((.((....).)))).)))).)..)..).)..))))).)))))).'"
      ]
     },
     "execution_count": 99,
     "metadata": {},
     "output_type": "execute_result"
    }
   ],
   "source": [
    "df_eterna_100.iloc[98]['Secondary Structure']"
   ]
  },
  {
   "cell_type": "code",
   "execution_count": 100,
   "id": "b8bf9b6f-ac25-480b-81d7-d3c060b1d4ac",
   "metadata": {},
   "outputs": [
    {
     "data": {
      "text/plain": [
       "'UAUCGCCCCCGUGACAUAAAGAGUGCCGUGGACCGACCGAAAGCGCGCGCCAGGAGUGCCGGAUGUCACACUCCCUGGACUGGCGAGGACCUGGACAGACCUGACCGAAAGCGCAGCGCUGCGCAGCGCCUGGACUGGCUGGCGAAAGAAGGAGCUCCGCUUAAAAUAAGCACAUACAAAGUAUGGGGGAAACGCAGGAGAGGGGACUGCAGGGGAAAUAUAAAUAAAAUUUAUAAGCUUAAAAUAAGCCCCCCCUUUUAAAAUAAAAGGACCAGGAAACCUGGGCAGGAGCAACGAAAGGUGGUUGUGGAUGAGGACCGGACCGAAAGCGCCGCGCCUGAGGCUGCUCUGCGCUCAGCGAUAA'"
      ]
     },
     "execution_count": 100,
     "metadata": {},
     "output_type": "execute_result"
    }
   ],
   "source": [
    "df_eterna_100.iloc[98]['Sample Solution (1)']"
   ]
  },
  {
   "cell_type": "markdown",
   "id": "d21b773a-7205-4f79-a54f-3bb1d20c063d",
   "metadata": {},
   "source": [
    "# RNA fold"
   ]
  },
  {
   "cell_type": "code",
   "execution_count": 4,
   "id": "67b44a66-2b63-49b0-8195-7ea77a5f0c61",
   "metadata": {},
   "outputs": [],
   "source": [
    "import RNA\n",
    "from IPython.display import SVG, HTML"
   ]
  },
  {
   "cell_type": "code",
   "execution_count": 5,
   "id": "ef5429ff-26fd-4819-b027-2a2567e6f8cd",
   "metadata": {},
   "outputs": [
    {
     "name": "stdout",
     "output_type": "stream",
     "text": [
      "(((((......)))))\n",
      "GGGGGGGGGGGCCCCC\n",
      "GGGGGGAAAAACCCCC\n"
     ]
    }
   ],
   "source": [
    "N = 0\n",
    "sec_struc_1 = df_eterna_100['Secondary Structure'].iloc[N]\n",
    "print(sec_struc_1)\n",
    "\n",
    "sequence_1 = df_eterna_100['Sample Solution (1)'].iloc[N]\n",
    "print(sequence_1)\n",
    "\n",
    "sequence_1 = df_eterna_100['Sample Solution (2)'].iloc[N]\n",
    "print(sequence_1)"
   ]
  },
  {
   "cell_type": "code",
   "execution_count": 6,
   "id": "aa3979ec-3809-4e7c-bfd4-bfb827049dc6",
   "metadata": {},
   "outputs": [],
   "source": [
    "# sequence_1_list = list(sequence_1)\n",
    "# sequence_1_list[0] = 'U'\n",
    "# sequence_1_list[-1] = 'A'\n",
    "# sequence_1 = ''.join(sequence_1_list)\n",
    "# sequence_1"
   ]
  },
  {
   "cell_type": "code",
   "execution_count": 7,
   "id": "50c83600-6796-4134-aaa9-a6beb3f3faa0",
   "metadata": {},
   "outputs": [],
   "source": [
    "structure_res, energy = RNA.fold(sequence_1)"
   ]
  },
  {
   "cell_type": "code",
   "execution_count": 8,
   "id": "0fa05d8e-6e14-458a-838d-eddc236fe03f",
   "metadata": {},
   "outputs": [
    {
     "name": "stdout",
     "output_type": "stream",
     "text": [
      "(((((......))))) -10.300000190734863 True\n"
     ]
    }
   ],
   "source": [
    "print(structure_res, energy, structure_res == sec_struc_1)"
   ]
  },
  {
   "cell_type": "code",
   "execution_count": 9,
   "id": "731f7c31-b0e8-4c8a-9992-8d1f31e9f995",
   "metadata": {},
   "outputs": [
    {
     "data": {
      "text/html": [
       "<?xml version=\"1.0\" encoding=\"UTF-8\" standalone=\"yes\"?>\n",
       "<svg xmlns=\"http://www.w3.org/2000/svg\" height=\"452\" width=\"452\">\n",
       "<script type=\"text/ecmascript\">\n",
       "      <![CDATA[\n",
       "        var shown = 1;\n",
       "        function click() {\n",
       "             var seq = document.getElementById(\"seq\");\n",
       "             if (shown==1) {\n",
       "               seq.setAttribute(\"style\", \"visibility: hidden\");\n",
       "               shown = 0;\n",
       "             } else {\n",
       "               seq.setAttribute(\"style\", \"visibility: visible\");\n",
       "               shown = 1;\n",
       "             }\n",
       "         }\n",
       "        ]]>\n",
       "</script>\n",
       "  <rect style=\"stroke: white; fill: white\" height=\"452\" x=\"0\" y=\"0\" width=\"452\" onclick=\"click(evt)\" />\n",
       "  <g transform=\"scale(3.998785,3.998785) translate(-43.482830,13.034340)\">\n",
       "    <polyline style=\"stroke: black; fill: none; stroke-width: 1.5\" id=\"outline\" points=\"\n",
       "      92.500,-5.534\n",
       "      92.500,9.466\n",
       "      92.500,24.466\n",
       "      92.500,39.466\n",
       "      92.500,54.466\n",
       "      81.149,65.462\n",
       "      80.982,81.266\n",
       "      92.098,92.500\n",
       "      107.902,92.500\n",
       "      119.018,81.266\n",
       "      118.851,65.462\n",
       "      107.500,54.466\n",
       "      107.500,39.466\n",
       "      107.500,24.466\n",
       "      107.500,9.466\n",
       "      107.500,-5.534\n",
       "    \" />\n",
       "    <g style=\"stroke: black; stroke-width: 1; fill: none;\" id=\"pairs\">\n",
       "      <line id=\"1,16\" x1=\"92.50000\" y1=\"-5.53434\" x2=\"107.50000\" y2=\"-5.53434\" />\n",
       "      <line id=\"2,15\" x1=\"92.50000\" y1=\"9.46566\" x2=\"107.50000\" y2=\"9.46566\" />\n",
       "      <line id=\"3,14\" x1=\"92.50000\" y1=\"24.46566\" x2=\"107.50000\" y2=\"24.46566\" />\n",
       "      <line id=\"4,13\" x1=\"92.50000\" y1=\"39.46566\" x2=\"107.50000\" y2=\"39.46566\" />\n",
       "      <line id=\"5,12\" x1=\"92.50000\" y1=\"54.46566\" x2=\"107.50000\" y2=\"54.46566\" />\n",
       "    </g>\n",
       "    <g style=\"font-family: SansSerif\" transform=\"translate(-4.6, 4)\" id=\"seq\">\n",
       "      <text x=\"92.500\" y=\"-5.534\">G</text>\n",
       "      <text x=\"92.500\" y=\"9.466\">G</text>\n",
       "      <text x=\"92.500\" y=\"24.466\">G</text>\n",
       "      <text x=\"92.500\" y=\"39.466\">G</text>\n",
       "      <text x=\"92.500\" y=\"54.466\">G</text>\n",
       "      <text x=\"81.149\" y=\"65.462\">G</text>\n",
       "      <text x=\"80.982\" y=\"81.266\">A</text>\n",
       "      <text x=\"92.098\" y=\"92.500\">A</text>\n",
       "      <text x=\"107.902\" y=\"92.500\">A</text>\n",
       "      <text x=\"119.018\" y=\"81.266\">A</text>\n",
       "      <text x=\"118.851\" y=\"65.462\">A</text>\n",
       "      <text x=\"107.500\" y=\"54.466\">C</text>\n",
       "      <text x=\"107.500\" y=\"39.466\">C</text>\n",
       "      <text x=\"107.500\" y=\"24.466\">C</text>\n",
       "      <text x=\"107.500\" y=\"9.466\">C</text>\n",
       "      <text x=\"107.500\" y=\"-5.534\">C</text>\n",
       "    </g>\n",
       "  </g>\n",
       "</svg>\n"
      ],
      "text/plain": [
       "<IPython.core.display.HTML object>"
      ]
     },
     "execution_count": 9,
     "metadata": {},
     "output_type": "execute_result"
    }
   ],
   "source": [
    "filename = 'images/test.svg'\n",
    "RNA.svg_rna_plot(sequence_1, structure_res, filename)\n",
    "HTML(filename=filename)"
   ]
  },
  {
   "cell_type": "code",
   "execution_count": 10,
   "id": "36f34496-af6a-408c-9086-a7fdbb8aa6ab",
   "metadata": {},
   "outputs": [],
   "source": [
    "# RNA.file_PS_rnaplot(sequence_1, structure_res, 'hola.ps')"
   ]
  },
  {
   "cell_type": "code",
   "execution_count": 11,
   "id": "89542596-858c-41a7-9fc9-1de8eed2c853",
   "metadata": {},
   "outputs": [
    {
     "data": {
      "text/plain": [
       "('GGGGGGAAAAACCCCC', '(((((......)))))')"
      ]
     },
     "execution_count": 11,
     "metadata": {},
     "output_type": "execute_result"
    }
   ],
   "source": [
    "sequence_1, sec_struc_1"
   ]
  },
  {
   "cell_type": "code",
   "execution_count": 12,
   "id": "209230dd-f242-4ea7-ad16-59b35be824d6",
   "metadata": {},
   "outputs": [
    {
     "data": {
      "text/plain": [
       "-10.300000190734863"
      ]
     },
     "execution_count": 12,
     "metadata": {},
     "output_type": "execute_result"
    }
   ],
   "source": [
    "RNA.eval_structure_simple(sequence_1, sec_struc_1)"
   ]
  },
  {
   "cell_type": "code",
   "execution_count": 13,
   "id": "ef9e3192-0d72-41ac-9524-11b7d0edf999",
   "metadata": {},
   "outputs": [
    {
     "data": {
      "text/plain": [
       "-10.0"
      ]
     },
     "execution_count": 13,
     "metadata": {},
     "output_type": "execute_result"
    }
   ],
   "source": [
    "RNA.eval_structure_simple('GGGGGGGGGGGCCCCC', sec_struc_1, -1)"
   ]
  },
  {
   "cell_type": "code",
   "execution_count": 14,
   "id": "1b705756-6a4f-4ca6-b9fa-395ceef90f44",
   "metadata": {},
   "outputs": [
    {
     "data": {
      "text/plain": [
       "10.0"
      ]
     },
     "execution_count": 14,
     "metadata": {},
     "output_type": "execute_result"
    }
   ],
   "source": [
    "RNA.eval_structure_simple('GGGGGGGGGGGGGGGG', sec_struc_1, 10)"
   ]
  },
  {
   "cell_type": "code",
   "execution_count": 15,
   "id": "91771d88-8212-485f-b4b6-3a574be48abc",
   "metadata": {},
   "outputs": [
    {
     "data": {
      "text/plain": [
       "11.300000190734863"
      ]
     },
     "execution_count": 15,
     "metadata": {},
     "output_type": "execute_result"
    }
   ],
   "source": [
    "RNA.eval_structure_simple('A'*16, sec_struc_1, 10)"
   ]
  },
  {
   "cell_type": "code",
   "execution_count": 16,
   "id": "52e6d1da-072a-4282-97e8-167bbd1c0847",
   "metadata": {},
   "outputs": [
    {
     "data": {
      "text/plain": [
       "100010.796875"
      ]
     },
     "execution_count": 16,
     "metadata": {},
     "output_type": "execute_result"
    }
   ],
   "source": [
    "# https://journals.plos.org/ploscompbiol/article?id=10.1371/journal.pcbi.1005420\n",
    "RNA.eval_circ_structure('A'*16, sec_struc_1)"
   ]
  },
  {
   "cell_type": "code",
   "execution_count": 17,
   "id": "19d0bcbf-2ff3-4805-9020-67658b09d502",
   "metadata": {},
   "outputs": [
    {
     "data": {
      "text/plain": [
       "11.300000190734863"
      ]
     },
     "execution_count": 17,
     "metadata": {},
     "output_type": "execute_result"
    }
   ],
   "source": [
    "# https://en.wikipedia.org/wiki/G-quadruplex\n",
    "RNA.eval_gquad_structure('A'*16, sec_struc_1)"
   ]
  },
  {
   "cell_type": "code",
   "execution_count": 43,
   "id": "0b96b849-fd97-4ec5-bbd1-5060d38283d2",
   "metadata": {},
   "outputs": [],
   "source": [
    "# 'GGGGGGGGGGGCCCCC'[::-1]"
   ]
  },
  {
   "cell_type": "code",
   "execution_count": 45,
   "id": "b39f1eec-e758-4ab0-984f-aaf01388f30b",
   "metadata": {},
   "outputs": [],
   "source": [
    "# RNA.energy_of_move(sec_struc_1, 'GGGGGGGGGGGCCCCC'[::-1], 1, 15)"
   ]
  },
  {
   "cell_type": "code",
   "execution_count": 59,
   "id": "76692eb4-08c9-4da4-9f6e-2e6fc905d495",
   "metadata": {},
   "outputs": [],
   "source": [
    "# RNA.move_standard('GGGGGGGGGGGCCCCC', sec_struc_1, RNA.MOVESET_NO_LP, 0, 10, 1)"
   ]
  },
  {
   "cell_type": "code",
   "execution_count": 60,
   "id": "7e977f0f-313e-4fa8-83eb-c2a1be7bbeb7",
   "metadata": {},
   "outputs": [],
   "source": [
    "# RNA.eval_structure_simple('CGGGGGGGGGGCCCCG', sec_struc_1)"
   ]
  },
  {
   "cell_type": "code",
   "execution_count": 75,
   "id": "bbad2b65-6a80-48dd-b56d-62e99bd201bc",
   "metadata": {},
   "outputs": [],
   "source": [
    "# https://eternagame.org/game/puzzle/6503030/\n",
    "sequence_puzzle_initial = \"GGAAAAAAAGGAUAUACAUGAGGAUCACCCAUGUAAAAAAAAAGAAGGAAAAAAAA\"\n",
    "struct_puzzle = \".....(((....((((((((.((....)))))))......))).....))).....\"\n"
   ]
  },
  {
   "cell_type": "code",
   "execution_count": 76,
   "id": "d78e34f8-2ca7-4044-895f-ab451ad70a27",
   "metadata": {},
   "outputs": [
    {
     "data": {
      "text/plain": [
       "(56, 56)"
      ]
     },
     "execution_count": 76,
     "metadata": {},
     "output_type": "execute_result"
    }
   ],
   "source": [
    "len(struct_puzzle), len(sequence_puzzle)"
   ]
  },
  {
   "cell_type": "code",
   "execution_count": 88,
   "id": "96026151-586a-4ed2-a9a0-7b62c7a6430a",
   "metadata": {},
   "outputs": [
    {
     "data": {
      "text/plain": [
       "3.5"
      ]
     },
     "execution_count": 88,
     "metadata": {},
     "output_type": "execute_result"
    }
   ],
   "source": [
    "RNA.eval_structure_simple(sequence_puzzle_initial, struct_puzzle)"
   ]
  },
  {
   "cell_type": "code",
   "execution_count": 92,
   "id": "30aa6dc0-35de-4a4c-ab7a-87aec3d941d3",
   "metadata": {},
   "outputs": [
    {
     "data": {
      "text/plain": [
       "3.5"
      ]
     },
     "execution_count": 92,
     "metadata": {},
     "output_type": "execute_result"
    }
   ],
   "source": [
    "RNA.eval_gquad_structure(sequence_puzzle_initial, struct_puzzle)"
   ]
  },
  {
   "cell_type": "code",
   "execution_count": 94,
   "id": "1a1a6390-23ab-4cb6-bc46-ef7560258787",
   "metadata": {},
   "outputs": [
    {
     "data": {
      "text/plain": [
       "10.0"
      ]
     },
     "execution_count": 94,
     "metadata": {},
     "output_type": "execute_result"
    }
   ],
   "source": [
    "RNA.eval_circ_gquad_structure(sequence_puzzle_initial, struct_puzzle)"
   ]
  },
  {
   "cell_type": "code",
   "execution_count": 95,
   "id": "f5771dc5-04a9-471c-a925-4935686c14a3",
   "metadata": {},
   "outputs": [
    {
     "data": {
      "text/plain": [
       "10.0"
      ]
     },
     "execution_count": 95,
     "metadata": {},
     "output_type": "execute_result"
    }
   ],
   "source": [
    "RNA.eval_circ_structure(sequence_puzzle_initial, struct_puzzle)"
   ]
  },
  {
   "cell_type": "code",
   "execution_count": 87,
   "id": "e950db7e-c358-4629-a080-c3876f6480a8",
   "metadata": {},
   "outputs": [
    {
     "data": {
      "text/plain": [
       "('.....(((....((((((((.((....)))))))......))).....))).....',\n",
       " -9.300000190734863,\n",
       " True)"
      ]
     },
     "execution_count": 87,
     "metadata": {},
     "output_type": "execute_result"
    }
   ],
   "source": [
    "sequence_puzzle = 'GGAAAGGGAGGAUAUACAUGAGGAUCACCCAUGUAAAAAAGUAGAAGGCCCAAAAA'\n",
    "struct_puzzle_fold, energy = RNA.fold(sequence_puzzle)\n",
    "struct_puzzle_fold, energy, struct_puzzle_fold==struct_puzzle"
   ]
  },
  {
   "cell_type": "code",
   "execution_count": 91,
   "id": "9218a907-1f87-4f5d-9db1-9c5aa576b606",
   "metadata": {},
   "outputs": [
    {
     "data": {
      "text/plain": [
       "-9.300000190734863"
      ]
     },
     "execution_count": 91,
     "metadata": {},
     "output_type": "execute_result"
    }
   ],
   "source": [
    "RNA.eval_structure_simple(sequence_puzzle, struct_puzzle)"
   ]
  },
  {
   "cell_type": "markdown",
   "id": "4ebe6939-65b8-4e9a-8b0e-20a069ca2d23",
   "metadata": {},
   "source": [
    "# Test de librería"
   ]
  },
  {
   "cell_type": "code",
   "execution_count": 10,
   "id": "5b9bd66b-f54d-4145-8a38-72d084390a4f",
   "metadata": {},
   "outputs": [],
   "source": [
    "# from deepchem.models import GraphConvModel\n",
    "from deepchem.models.layers import GraphConv"
   ]
  },
  {
   "cell_type": "code",
   "execution_count": 11,
   "id": "eb17a9c1-49dc-4870-a7c3-137105576129",
   "metadata": {},
   "outputs": [],
   "source": [
    "# GraphConv()"
   ]
  },
  {
   "cell_type": "code",
   "execution_count": 12,
   "id": "07b46239-dc0a-4c78-a56b-ddad10222cd1",
   "metadata": {},
   "outputs": [],
   "source": [
    "# import deepchem.models.tensorgraph.layers as layers"
   ]
  },
  {
   "cell_type": "code",
   "execution_count": 13,
   "id": "84a42d08-179d-47d5-b662-8071b511f0b4",
   "metadata": {},
   "outputs": [
    {
     "ename": "ModuleNotFoundError",
     "evalue": "No module named 'RNA'",
     "output_type": "error",
     "traceback": [
      "\u001b[0;31m---------------------------------------------------------------------------\u001b[0m",
      "\u001b[0;31mModuleNotFoundError\u001b[0m                       Traceback (most recent call last)",
      "\u001b[0;32m<ipython-input-13-ffc1b34e4ad0>\u001b[0m in \u001b[0;36m<module>\u001b[0;34m\u001b[0m\n\u001b[0;32m----> 1\u001b[0;31m \u001b[0;32mfrom\u001b[0m \u001b[0mrnalib\u001b[0m \u001b[0;32mimport\u001b[0m \u001b[0mbracket_to_bonds\u001b[0m\u001b[0;34m\u001b[0m\u001b[0;34m\u001b[0m\u001b[0m\n\u001b[0m",
      "\u001b[0;32m~/Documents/repos/RNA-RL/rnalib.py\u001b[0m in \u001b[0;36m<module>\u001b[0;34m\u001b[0m\n\u001b[1;32m      3\u001b[0m \u001b[0;32mimport\u001b[0m \u001b[0mnumpy\u001b[0m \u001b[0;32mas\u001b[0m \u001b[0mnp\u001b[0m\u001b[0;34m\u001b[0m\u001b[0;34m\u001b[0m\u001b[0m\n\u001b[1;32m      4\u001b[0m \u001b[0;32mimport\u001b[0m \u001b[0mtensorflow\u001b[0m \u001b[0;32mas\u001b[0m \u001b[0mtf\u001b[0m\u001b[0;34m\u001b[0m\u001b[0;34m\u001b[0m\u001b[0m\n\u001b[0;32m----> 5\u001b[0;31m \u001b[0;32mimport\u001b[0m \u001b[0mRNA\u001b[0m\u001b[0;34m\u001b[0m\u001b[0;34m\u001b[0m\u001b[0m\n\u001b[0m\u001b[1;32m      6\u001b[0m \u001b[0;32mimport\u001b[0m \u001b[0mrandom\u001b[0m\u001b[0;34m\u001b[0m\u001b[0;34m\u001b[0m\u001b[0m\n\u001b[1;32m      7\u001b[0m \u001b[0;34m\u001b[0m\u001b[0m\n",
      "\u001b[0;31mModuleNotFoundError\u001b[0m: No module named 'RNA'"
     ]
    }
   ],
   "source": [
    "from rnalib import bracket_to_bonds"
   ]
  },
  {
   "cell_type": "code",
   "execution_count": null,
   "id": "737cc3b3-f103-4a81-92a0-ad01ecf1caf7",
   "metadata": {},
   "outputs": [],
   "source": [
    "hair_pin = df_eterna_100['Secondary Structure'].iloc[0]"
   ]
  },
  {
   "cell_type": "code",
   "execution_count": null,
   "id": "0496416d-abcf-4f1b-9570-840e0460490a",
   "metadata": {},
   "outputs": [],
   "source": [
    "bracket_to_bonds()"
   ]
  },
  {
   "cell_type": "markdown",
   "id": "6f302a8f-9ad5-4295-ba93-90589dbad61d",
   "metadata": {},
   "source": [
    "# Dataset de entrenamiento en paper"
   ]
  },
  {
   "cell_type": "code",
   "execution_count": 26,
   "id": "7c38863c-1464-40f0-ab0b-dd11b8051d1f",
   "metadata": {},
   "outputs": [],
   "source": [
    "f = open('puzzles32.txt')\n",
    "X = []\n",
    "y = []\n",
    "for l in f.readlines():\n",
    "    X_i, y_i = l.strip().split(' ')\n",
    "    X.append(X_i)\n",
    "    y.append(int(y_i))"
   ]
  },
  {
   "cell_type": "code",
   "execution_count": 27,
   "id": "a443e832-2e52-4227-942d-262c070f1dc4",
   "metadata": {},
   "outputs": [
    {
     "data": {
      "text/plain": [
       "(46188, 32)"
      ]
     },
     "execution_count": 27,
     "metadata": {},
     "output_type": "execute_result"
    }
   ],
   "source": [
    "len(X), len(X[0])"
   ]
  },
  {
   "cell_type": "code",
   "execution_count": 30,
   "id": "6ba6412f-43f5-4b1f-bb13-a56b28aa5996",
   "metadata": {},
   "outputs": [
    {
     "data": {
      "text/plain": [
       "87"
      ]
     },
     "execution_count": 30,
     "metadata": {},
     "output_type": "execute_result"
    }
   ],
   "source": [
    "len(set(y))"
   ]
  },
  {
   "cell_type": "code",
   "execution_count": 35,
   "id": "ddacaf05-599a-4ba8-99bc-f0ac88729e97",
   "metadata": {},
   "outputs": [
    {
     "data": {
      "text/plain": [
       "'46188 unique structures'"
      ]
     },
     "execution_count": 35,
     "metadata": {},
     "output_type": "execute_result"
    }
   ],
   "source": [
    "f'{len(data)} unique structures'"
   ]
  },
  {
   "cell_type": "code",
   "execution_count": 32,
   "id": "d5f08db2-b2ef-4732-8282-8bdf522beddd",
   "metadata": {},
   "outputs": [
    {
     "data": {
      "text/plain": [
       "37"
      ]
     },
     "execution_count": 32,
     "metadata": {},
     "output_type": "execute_result"
    }
   ],
   "source": [
    "len(data[0])"
   ]
  },
  {
   "cell_type": "code",
   "execution_count": 36,
   "id": "a5a20bcb-2d6c-4f84-8736-bafec1b25c2f",
   "metadata": {},
   "outputs": [],
   "source": [
    "from collections import Counter"
   ]
  },
  {
   "cell_type": "code",
   "execution_count": 39,
   "id": "38358a83-b486-48e7-9043-1a89a6ed6d57",
   "metadata": {},
   "outputs": [
    {
     "data": {
      "text/plain": [
       "[(1, 34264),\n",
       " (2, 6158),\n",
       " (3, 2195),\n",
       " (4, 1035),\n",
       " (5, 541),\n",
       " (6, 375),\n",
       " (7, 218),\n",
       " (8, 174),\n",
       " (9, 122),\n",
       " (10, 107)]"
      ]
     },
     "execution_count": 39,
     "metadata": {},
     "output_type": "execute_result"
    }
   ],
   "source": [
    "Counter(y).most_common(10)"
   ]
  },
  {
   "cell_type": "code",
   "execution_count": 56,
   "id": "b7c66a86-b4c6-4340-aca7-249b6d0f57bd",
   "metadata": {},
   "outputs": [
    {
     "name": "stdout",
     "output_type": "stream",
     "text": [
      "34264 estructuras aparecen 1 vez\n",
      "6158 estructuras aparecen 2 veces\n",
      "2195 estructuras aparecen 3 veces\n",
      "1 estructuras aparecen 58 veces\n"
     ]
    }
   ],
   "source": [
    "i = 0\n",
    "print(f'{Counter(y).most_common(10)[i][1]} estructuras aparecen {Counter(y).most_common(10)[i][0]} vez')\n",
    "\n",
    "i = 1\n",
    "print(f'{Counter(y).most_common(10)[i][1]} estructuras aparecen {Counter(y).most_common(10)[i][0]} veces')\n",
    "\n",
    "i = 2\n",
    "print(f'{Counter(y).most_common(10)[i][1]} estructuras aparecen {Counter(y).most_common(10)[i][0]} veces')\n",
    "\n",
    "i = -1\n",
    "print(f'{Counter(y).most_common(200)[i][1]} estructuras aparecen {Counter(y).most_common(200)[i][0]} veces')"
   ]
  },
  {
   "cell_type": "code",
   "execution_count": 72,
   "id": "5d3a8053-348c-43bf-9d4f-2bc16de1b9a5",
   "metadata": {},
   "outputs": [
    {
     "name": "stdout",
     "output_type": "stream",
     "text": [
      "hay 4301 combinaciones de bases que generan la estructura ................................\n",
      "hay 125 combinaciones de bases que generan la estructura ((((....))))....................\n",
      "hay 82 combinaciones de bases que generan la estructura ................((((......))))..\n",
      "hay 64 combinaciones de bases que generan la estructura ..............((((......))))....\n",
      "hay 3 combinaciones de bases que generan la estructura ..((((..(((.....)))..)))).......\n"
     ]
    }
   ],
   "source": [
    "i = 0\n",
    "print(f'hay {y[i]} combinaciones de bases que generan la estructura {X[i]}')\n",
    "i = 1\n",
    "print(f'hay {y[i]} combinaciones de bases que generan la estructura {X[i]}')\n",
    "i = 10\n",
    "print(f'hay {y[i]} combinaciones de bases que generan la estructura {X[i]}')\n",
    "i = 50\n",
    "print(f'hay {y[i]} combinaciones de bases que generan la estructura {X[i]}')\n",
    "i = 5000\n",
    "print(f'hay {y[i]} combinaciones de bases que generan la estructura {X[i]}')"
   ]
  },
  {
   "cell_type": "code",
   "execution_count": null,
   "id": "7f57a9c0-1f53-4120-ab31-86d4ed6076de",
   "metadata": {},
   "outputs": [],
   "source": []
  }
 ],
 "metadata": {
  "kernelspec": {
   "display_name": "Python 3",
   "language": "python",
   "name": "python3"
  },
  "language_info": {
   "codemirror_mode": {
    "name": "ipython",
    "version": 3
   },
   "file_extension": ".py",
   "mimetype": "text/x-python",
   "name": "python",
   "nbconvert_exporter": "python",
   "pygments_lexer": "ipython3",
   "version": "3.7.3"
  }
 },
 "nbformat": 4,
 "nbformat_minor": 5
}
