{
 "cells": [
  {
   "cell_type": "code",
   "execution_count": 1,
   "id": "27d1c382-4b9d-4a0f-bf44-d2a102c280a9",
   "metadata": {},
   "outputs": [],
   "source": [
    "%load_ext autoreload\n",
    "%autoreload 2"
   ]
  },
  {
   "cell_type": "code",
   "execution_count": 2,
   "id": "9d4bec74-ef74-4277-ad9d-efded85151bf",
   "metadata": {},
   "outputs": [],
   "source": [
    "import pandas as pd"
   ]
  },
  {
   "cell_type": "code",
   "execution_count": 3,
   "id": "8d9503ee-b749-46da-ba71-bf0e1c70ed99",
   "metadata": {},
   "outputs": [],
   "source": [
    "from RNA_helper import get_puzzle\n",
    "import RNA"
   ]
  },
  {
   "cell_type": "code",
   "execution_count": null,
   "id": "3be7b355-aaca-4c2d-b78b-a8a1fe227778",
   "metadata": {},
   "outputs": [],
   "source": []
  },
  {
   "cell_type": "code",
   "execution_count": null,
   "id": "03f6bad3-07af-48be-833d-23ba372710a3",
   "metadata": {},
   "outputs": [],
   "source": []
  },
  {
   "cell_type": "code",
   "execution_count": 34,
   "id": "83a705f3-d466-4eb0-876a-7d683669040f",
   "metadata": {},
   "outputs": [],
   "source": [
    "df_eterna_100 = pd.read_csv('eterna100-puzzles.txt', delimiter='\\t')"
   ]
  },
  {
   "cell_type": "code",
   "execution_count": 40,
   "id": "0a11ed02-7c57-4f35-9ac4-0e175553547d",
   "metadata": {
    "tags": []
   },
   "outputs": [
    {
     "name": "stdout",
     "output_type": "stream",
     "text": [
      "4 -49.099998474121094 100000.0\n",
      "no\n",
      "\n",
      "5 -209.8000030517578 -209.8000030517578\n",
      "yes\n",
      "\n",
      "6 -33.5 -32.5\n",
      "no\n",
      "\n",
      "8 -128.8000030517578 -128.5\n",
      "no\n",
      "\n",
      "11 -25.5 -22.399999618530273\n",
      "no\n",
      "\n",
      "13 -11.800000190734863 -11.300000190734863\n",
      "no\n",
      "\n",
      "14 -4.0 -4.0\n",
      "yes\n",
      "\n",
      "15 -8.399999618530273 -6.900000095367432\n",
      "no\n",
      "\n",
      "17 -1.7000000476837158 -0.10000000149011612\n",
      "no\n",
      "\n",
      "22 0.0 2.9000000953674316\n",
      "no\n",
      "\n",
      "24 -2.700000047683716 1.600000023841858\n",
      "no\n",
      "\n",
      "26 -5.400000095367432 -4.099999904632568\n",
      "no\n",
      "\n",
      "28 -41.0 -35.599998474121094\n",
      "no\n",
      "\n",
      "29 -1.2999999523162842 -0.699999988079071\n",
      "no\n",
      "\n",
      "30 -16.200000762939453 -16.100000381469727\n",
      "no\n",
      "\n",
      "33 -14.800000190734863 -14.5\n",
      "no\n",
      "\n",
      "34 -14.899999618530273 -7.800000190734863\n",
      "no\n",
      "\n",
      "35 -3.609999895095825 0.10000000149011612\n",
      "no\n",
      "\n",
      "36 -21.799999237060547 -20.899999618530273\n",
      "no\n",
      "\n",
      "37 -18.5 -12.399999618530273\n",
      "no\n",
      "\n",
      "38 -15.600000381469727 -15.300000190734863\n",
      "no\n",
      "\n",
      "40 -0.5 2.700000047683716\n",
      "no\n",
      "\n",
      "43 -4.300000190734863 -3.4000000953674316\n",
      "no\n",
      "\n",
      "46 -1.2000000476837158 1.7999999523162842\n",
      "no\n",
      "\n",
      "48 -23.399999618530273 -23.0\n",
      "no\n",
      "\n",
      "49 -13.5 -8.699999809265137\n",
      "no\n",
      "\n",
      "50 -172.89999389648438 -171.89999389648438\n",
      "no\n",
      "\n",
      "51 -2.0999999046325684 1.2000000476837158\n",
      "no\n",
      "\n",
      "55 -69.5999984741211 -53.099998474121094\n",
      "no\n",
      "\n",
      "56 -2.5 13.800000190734863\n",
      "no\n",
      "\n",
      "57 -58.79999923706055 -57.20000076293945\n",
      "no\n",
      "\n",
      "58 -13.5 -12.300000190734863\n",
      "no\n",
      "\n",
      "59 -23.700000762939453 -22.0\n",
      "no\n",
      "\n",
      "60 -4.099999904632568 0.10000000149011612\n",
      "no\n",
      "\n",
      "61 -2.5999999046325684 1.7000000476837158\n",
      "no\n",
      "\n",
      "62 -44.599998474121094 -35.099998474121094\n",
      "no\n",
      "\n",
      "63 -2.4000000953674316 -1.2000000476837158\n",
      "no\n",
      "\n",
      "64 -2.299999952316284 -1.7999999523162842\n",
      "no\n",
      "\n",
      "65 -1.399999976158142 1.5\n",
      "no\n",
      "\n",
      "66 -0.20000000298023224 0.699999988079071\n",
      "no\n",
      "\n",
      "67 -36.70000076293945 -14.100000381469727\n",
      "no\n",
      "\n",
      "68 -12.199999809265137 -5.300000190734863\n",
      "no\n",
      "\n",
      "69 -21.700000762939453 -6.099999904632568\n",
      "no\n",
      "\n",
      "70 -1.600000023841858 3.200000047683716\n",
      "no\n",
      "\n",
      "71 -9.699999809265137 -8.899999618530273\n",
      "no\n",
      "\n",
      "72 -119.69999694824219 -118.30000305175781\n",
      "no\n",
      "\n",
      "73 -114.69999694824219 42.20000076293945\n",
      "no\n",
      "\n",
      "74 0.0 1.5\n",
      "no\n",
      "\n",
      "75 -87.30000305175781 -81.4000015258789\n",
      "no\n",
      "\n",
      "76 -13.800000190734863 100000.0\n",
      "no\n",
      "\n",
      "77 -101.0 -11.899999618530273\n",
      "no\n",
      "\n",
      "78 -5.699999809265137 -4.400000095367432\n",
      "no\n",
      "\n",
      "79 -22.600000381469727 -16.5\n",
      "no\n",
      "\n",
      "80 -51.900001525878906 -46.099998474121094\n",
      "no\n",
      "\n",
      "81 -35.5 -26.600000381469727\n",
      "no\n",
      "\n",
      "82 -7.199999809265137 8.100000381469727\n",
      "no\n",
      "\n",
      "85 -130.6999969482422 -110.80000305175781\n",
      "no\n",
      "\n",
      "86 -23.100000381469727 -18.0\n",
      "no\n",
      "\n",
      "87 -4.099999904632568 -2.799999952316284\n",
      "no\n",
      "\n",
      "88 -15.600000381469727 -0.20000000298023224\n",
      "no\n",
      "\n",
      "89 -101.69999694824219 -57.29999923706055\n",
      "no\n",
      "\n",
      "90 -18.899999618530273 29.200000762939453\n",
      "no\n",
      "\n",
      "91 -6.199999809265137 -0.30000001192092896\n",
      "no\n",
      "\n",
      "92 -9.0 -4.599999904632568\n",
      "no\n",
      "\n",
      "93 -63.70000076293945 -39.0\n",
      "no\n",
      "\n",
      "94 -43.70000076293945 -42.79999923706055\n",
      "no\n",
      "\n",
      "95 -60.0 56.70000076293945\n",
      "no\n",
      "\n",
      "96 -73.80000305175781 -65.80000305175781\n",
      "no\n",
      "\n",
      "97 -42.900001525878906 -39.20000076293945\n",
      "no\n",
      "\n",
      "98 -122.0 -82.30000305175781\n",
      "no\n",
      "\n",
      "99 0.0 100000.0\n",
      "no\n",
      "\n"
     ]
    }
   ],
   "source": [
    "count = 0\n",
    "solved_puzzles = []\n",
    "for i in range(100):\n",
    "    _, sequence = get_puzzle(df_eterna_100, idx=i, verbose=False)\n",
    "    if sequence is None:\n",
    "        count = count + 1\n",
    "    else:\n",
    "        solved_puzzles.append(i)"
   ]
  },
  {
   "cell_type": "code",
   "execution_count": 6,
   "id": "c8eff2e7-41a2-46a7-84d7-f4e12974ab30",
   "metadata": {},
   "outputs": [
    {
     "data": {
      "text/plain": [
       "71"
      ]
     },
     "execution_count": 6,
     "metadata": {},
     "output_type": "execute_result"
    }
   ],
   "source": [
    "count"
   ]
  },
  {
   "cell_type": "code",
   "execution_count": 7,
   "id": "a17e82fd-3cbd-4051-b731-83c57c4cb515",
   "metadata": {},
   "outputs": [
    {
     "name": "stdout",
     "output_type": "stream",
     "text": [
      "[0, 1, 2, 3, 7, 9, 10, 12, 16, 18, 19, 20, 21, 23, 25, 27, 31, 32, 39, 41, 42, 44, 45, 47, 52, 53, 54, 83, 84]\n"
     ]
    }
   ],
   "source": [
    "print(solved_puzzles)"
   ]
  },
  {
   "cell_type": "code",
   "execution_count": 8,
   "id": "563841be-979d-41a0-872d-917ba7eb22a2",
   "metadata": {},
   "outputs": [
    {
     "name": "stdout",
     "output_type": "stream",
     "text": [
      "Small and Easy 6\n",
      "(((((.....))..((.........)))))\n",
      "GCCGCGAAAAGCAACCGAAAAAAAAGGGGC\n",
      "************************************************** warning **************************************************\n",
      "It seems that RNA.fold(sequence) does not returns the same secundary structure. Sample Solution(1) folds to:\n",
      "GCCGCGAAAAGCAACCGAAAAAAAAGGGGC\n",
      "(((.(....................).)))\n",
      "************************************************** warning **************************************************\n"
     ]
    },
    {
     "data": {
      "text/plain": [
       "('(((((.....))..((.........)))))', None)"
      ]
     },
     "execution_count": 8,
     "metadata": {},
     "output_type": "execute_result"
    }
   ],
   "source": [
    "get_puzzle(df_eterna_100, idx=14, verbose=True)"
   ]
  },
  {
   "cell_type": "code",
   "execution_count": 15,
   "id": "11f2f2a0-fc3a-4bf4-a2f3-ca000e4ba4fe",
   "metadata": {},
   "outputs": [
    {
     "data": {
      "text/plain": [
       "-4.0"
      ]
     },
     "execution_count": 15,
     "metadata": {},
     "output_type": "execute_result"
    }
   ],
   "source": [
    "RNA.eval_structure_simple('GCCGCGAAAAGCAACCGAAAAAAAAGGGGC', '(((((.....))..((.........)))))')"
   ]
  },
  {
   "cell_type": "code",
   "execution_count": 17,
   "id": "fb229736-7174-4014-9807-8d0a6f3366f1",
   "metadata": {},
   "outputs": [
    {
     "data": {
      "text/plain": [
       "-4.0"
      ]
     },
     "execution_count": 17,
     "metadata": {},
     "output_type": "execute_result"
    }
   ],
   "source": [
    "RNA.eval_structure_simple('GCCGCGAAAAGCAACCGAAAAAAAAGGGGC', '(((.(....................).)))')"
   ]
  },
  {
   "cell_type": "code",
   "execution_count": null,
   "id": "a52d2edf-9d86-495b-812d-3066ab1aaf5d",
   "metadata": {},
   "outputs": [],
   "source": []
  },
  {
   "cell_type": "code",
   "execution_count": null,
   "id": "51fc2a24-266a-420f-9eea-b04a91d348fe",
   "metadata": {},
   "outputs": [],
   "source": []
  },
  {
   "cell_type": "code",
   "execution_count": 9,
   "id": "fced9e9c-fcc4-40d5-a9ed-72eb4721c7bc",
   "metadata": {},
   "outputs": [
    {
     "data": {
      "text/plain": [
       "['(((((.....))..((.........)))))', -3.9000000953674316]"
      ]
     },
     "execution_count": 9,
     "metadata": {},
     "output_type": "execute_result"
    }
   ],
   "source": [
    "RNA.fold('GCCGCGAAAAGCAAGGGAAAAAAAACCGGC')"
   ]
  },
  {
   "cell_type": "code",
   "execution_count": 10,
   "id": "a5aa1ee7-ce15-41ca-b8e1-8f79ebbdb20d",
   "metadata": {},
   "outputs": [
    {
     "data": {
      "text/plain": [
       "'GCCGCGAAAAGCAACCGAAAAAAAAGGGGC'"
      ]
     },
     "execution_count": 10,
     "metadata": {},
     "output_type": "execute_result"
    }
   ],
   "source": [
    "'GCCGCGAAAAGCAACCGAAAAAAAAGGGGC'"
   ]
  },
  {
   "cell_type": "code",
   "execution_count": 11,
   "id": "b1ae83c3-0503-41c5-87ae-c38b91745934",
   "metadata": {},
   "outputs": [
    {
     "ename": "NameError",
     "evalue": "name 'GCCGCGAAAAGCAACCGAAAAAAAAGGGGC' is not defined",
     "output_type": "error",
     "traceback": [
      "\u001b[0;31m---------------------------------------------------------------------------\u001b[0m",
      "\u001b[0;31mNameError\u001b[0m                                 Traceback (most recent call last)",
      "\u001b[0;32m<ipython-input-11-31c054b1a1be>\u001b[0m in \u001b[0;36m<module>\u001b[0;34m\u001b[0m\n\u001b[0;32m----> 1\u001b[0;31m \u001b[0mGCCGCGAAAAGCAACCGAAAAAAAAGGGGC\u001b[0m\u001b[0;34m\u001b[0m\u001b[0;34m\u001b[0m\u001b[0m\n\u001b[0m\u001b[1;32m      2\u001b[0m \u001b[0mGCCGCGAAAAGCAAGGGAAAAAAAACCGGC\u001b[0m\u001b[0;34m\u001b[0m\u001b[0;34m\u001b[0m\u001b[0m\n",
      "\u001b[0;31mNameError\u001b[0m: name 'GCCGCGAAAAGCAACCGAAAAAAAAGGGGC' is not defined"
     ]
    }
   ],
   "source": [
    "GCCGCGAAAAGCAACCGAAAAAAAAGGGGC\n",
    "GCCGCGAAAAGCAAGGGAAAAAAAACCGGC"
   ]
  },
  {
   "cell_type": "code",
   "execution_count": 51,
   "id": "b897d37d-f6bc-4269-b932-e93f6e86fd49",
   "metadata": {},
   "outputs": [
    {
     "name": "stdout",
     "output_type": "stream",
     "text": [
      "['(((((.....))..((.........)))))', -3.9000000953674316]\n",
      "['(((.(....................).)))', -4.0]\n"
     ]
    }
   ],
   "source": [
    "print(RNA.fold('GCCGCGAAAAGCAAGGGAAAAAAAACCGGC'))\n",
    "print(RNA.fold('GCCGCGAAAAGCAACCGAAAAAAAAGGGGC'))"
   ]
  },
  {
   "cell_type": "code",
   "execution_count": 59,
   "id": "4f3ab34f-8028-4294-a66f-043cbfc572d7",
   "metadata": {},
   "outputs": [
    {
     "data": {
      "text/plain": [
       "['(((.(....................).)))', -4.0]"
      ]
     },
     "execution_count": 59,
     "metadata": {},
     "output_type": "execute_result"
    }
   ],
   "source": [
    "RNA.fold('GCCGCGAAAAGCAACCGAAAAAAAAGGGGC')"
   ]
  },
  {
   "cell_type": "code",
   "execution_count": 60,
   "id": "f6efeaf8-0a4c-42aa-b560-da26f4b25db3",
   "metadata": {},
   "outputs": [
    {
     "data": {
      "text/plain": [
       "['(((.(....................).)))', 0.0]"
      ]
     },
     "execution_count": 60,
     "metadata": {},
     "output_type": "execute_result"
    }
   ],
   "source": [
    "RNA.circfold('GCCGCGAAAAGCAACCGAAAAAAAAGGGGC')"
   ]
  },
  {
   "cell_type": "code",
   "execution_count": 61,
   "id": "ee0355d3-779d-4d46-9d3e-f6dc649f5e02",
   "metadata": {},
   "outputs": [
    {
     "data": {
      "text/plain": [
       "['(((.(....................).)))', 0.0]"
      ]
     },
     "execution_count": 61,
     "metadata": {},
     "output_type": "execute_result"
    }
   ],
   "source": [
    "RNA.circfold('GCCGCGAAAAGCAACCGAAAAAAAAGGGGC')"
   ]
  },
  {
   "cell_type": "code",
   "execution_count": 9,
   "id": "dd005aa2-6a77-4170-8bae-3f22840ad432",
   "metadata": {},
   "outputs": [],
   "source": [
    "f = RNA.fold_compound('GCCGCGAAAAGCAACCGAAAAAAAAGGGGC')"
   ]
  },
  {
   "cell_type": "code",
   "execution_count": 17,
   "id": "f4fb8e46-7e5c-427f-82cc-90ae0ebde1fd",
   "metadata": {},
   "outputs": [
    {
     "data": {
      "text/plain": [
       "()"
      ]
     },
     "execution_count": 17,
     "metadata": {},
     "output_type": "execute_result"
    }
   ],
   "source": [
    "f.eval_structure_verbose()"
   ]
  },
  {
   "cell_type": "code",
   "execution_count": 24,
   "id": "ce00dd04-a637-4f87-ab30-70d38c7bb898",
   "metadata": {},
   "outputs": [
    {
     "data": {
      "text/plain": [
       "-4.0"
      ]
     },
     "execution_count": 24,
     "metadata": {},
     "output_type": "execute_result"
    }
   ],
   "source": [
    "fi = open('hola.txt', 'w')\n",
    "f.eval_structure_verbose('(((.(....................).)))', fi)"
   ]
  },
  {
   "cell_type": "code",
   "execution_count": 29,
   "id": "9201c2ef-c3d6-4947-8503-3d5d88da3716",
   "metadata": {},
   "outputs": [],
   "source": [
    "f = RNA.fold_compound('GCCGCGAAAAGCAACCGAAAAAAAAGGGGC')"
   ]
  },
  {
   "cell_type": "code",
   "execution_count": 30,
   "id": "cdc4dd03-5a99-4b77-b712-94667df58f05",
   "metadata": {},
   "outputs": [
    {
     "data": {
      "text/plain": [
       "-4.0"
      ]
     },
     "execution_count": 30,
     "metadata": {},
     "output_type": "execute_result"
    }
   ],
   "source": [
    "f.eval_structure_verbose('(((.(....................).)))')"
   ]
  },
  {
   "cell_type": "code",
   "execution_count": 31,
   "id": "c374e0d6-42b2-4deb-b670-dde55be6fb9b",
   "metadata": {},
   "outputs": [
    {
     "data": {
      "text/plain": [
       "-4.0"
      ]
     },
     "execution_count": 31,
     "metadata": {},
     "output_type": "execute_result"
    }
   ],
   "source": [
    "f.eval_structure_verbose('(((((.....))..((.........)))))')"
   ]
  },
  {
   "cell_type": "code",
   "execution_count": 32,
   "id": "d7344dfd-7003-4c3e-ad2e-15e4da8269d8",
   "metadata": {},
   "outputs": [
    {
     "data": {
      "text/plain": [
       "3.299999952316284"
      ]
     },
     "execution_count": 32,
     "metadata": {},
     "output_type": "execute_result"
    }
   ],
   "source": [
    "f.eval_structure_verbose('(((((.....)....(.........)))))')"
   ]
  },
  {
   "cell_type": "code",
   "execution_count": 33,
   "id": "44ed732e-a9f3-46c9-8055-8506fc9b305e",
   "metadata": {},
   "outputs": [
    {
     "data": {
      "text/plain": [
       "-1.7000000476837158"
      ]
     },
     "execution_count": 33,
     "metadata": {},
     "output_type": "execute_result"
    }
   ],
   "source": [
    "f.eval_structure_verbose('.((((.....))..((.........)))).')"
   ]
  },
  {
   "cell_type": "code",
   "execution_count": 14,
   "id": "61464403-db67-4e65-992f-5c70f4b88c57",
   "metadata": {},
   "outputs": [
    {
     "data": {
      "text/plain": [
       "30"
      ]
     },
     "execution_count": 14,
     "metadata": {},
     "output_type": "execute_result"
    }
   ],
   "source": [
    "len('(((((.....))..((.........)))))')"
   ]
  },
  {
   "cell_type": "code",
   "execution_count": null,
   "id": "fb70a89c-7723-4c23-9f29-812cb4ca73b4",
   "metadata": {},
   "outputs": [],
   "source": []
  }
 ],
 "metadata": {
  "kernelspec": {
   "display_name": "Python 3",
   "language": "python",
   "name": "python3"
  },
  "language_info": {
   "codemirror_mode": {
    "name": "ipython",
    "version": 3
   },
   "file_extension": ".py",
   "mimetype": "text/x-python",
   "name": "python",
   "nbconvert_exporter": "python",
   "pygments_lexer": "ipython3",
   "version": "3.7.3"
  }
 },
 "nbformat": 4,
 "nbformat_minor": 5
}
