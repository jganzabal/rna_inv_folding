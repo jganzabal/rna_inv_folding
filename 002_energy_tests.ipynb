{
 "cells": [
  {
   "cell_type": "code",
   "execution_count": 1,
   "id": "a64ace81-bb8b-4ec6-9fa9-0a2f2e6d6f14",
   "metadata": {},
   "outputs": [],
   "source": [
    "%load_ext autoreload\n",
    "%autoreload 2"
   ]
  },
  {
   "cell_type": "code",
   "execution_count": 13,
   "id": "4e00ca8a-82c8-44ad-bf4e-72ab9ed372a0",
   "metadata": {},
   "outputs": [],
   "source": [
    "import RNA\n",
    "from IPython.display import SVG\n",
    "import numpy as np\n",
    "from matplotlib import pyplot as plt\n",
    "from RNA_helper import replace_char_towards_optimal, move_to_optimal, get_initial_guess"
   ]
  },
  {
   "cell_type": "code",
   "execution_count": 8,
   "id": "98ef1182-c37e-4da3-898e-3ef8f2c401de",
   "metadata": {},
   "outputs": [],
   "source": [
    "secundary_structure = '(((((......)))))'\n",
    "final_sequence = 'GGGGGGAAAAACCCCC'\n",
    "\n",
    "secundary_structure = '(((((((((((((((((...(.(..((.(((.(((.((....).))).)))).).)..))..))))))).(((((..(.(..((.(((.(((((.(((.((((.((....).)))).))))).))).)))).).)..))..)(....)..))))(((((((((...))))).(((((...)))))(.(....).).)))).)))).((((.((((...(((((((...))))))).(((((...)))))))))(((((((...))))))).(((((...)))))))))((((..(....)(..(..(..(.(.(((.((((.((....).)))).)))).)..)..).)..))))).)))))).'\n",
    "final_sequence = 'UAUCGCCCCCGUGACAUAAAGAGUGCCGUGGACCGACCGAAAGCGCGCGCCAGGAGUGCCGGAUGUCACACUCCCUGGACUGGCGAGGACCUGGACAGACCUGACCGAAAGCGCAGCGCUGCGCAGCGCCUGGACUGGCUGGCGAAAGAAGGAGCUCCGCUUAAAAUAAGCACAUACAAAGUAUGGGGGAAACGCAGGAGAGGGGACUGCAGGGGAAAUAUAAAUAAAAUUUAUAAGCUUAAAAUAAGCCCCCCCUUUUAAAAUAAAAGGACCAGGAAACCUGGGCAGGAGCAACGAAAGGUGGUUGUGGAUGAGGACCGGACCGAAAGCGCCGCGCCUGAGGCUGCUCUGCGCUCAGCGAUAA'"
   ]
  },
  {
   "cell_type": "code",
   "execution_count": 9,
   "id": "a136b2e3-e977-4057-8fe2-158460a37fe3",
   "metadata": {},
   "outputs": [
    {
     "data": {
      "text/plain": [
       "(364, 364)"
      ]
     },
     "execution_count": 9,
     "metadata": {},
     "output_type": "execute_result"
    }
   ],
   "source": [
    "len(secundary_structure), len(final_sequence)"
   ]
  },
  {
   "cell_type": "code",
   "execution_count": 32,
   "id": "5b06e516-17df-4073-9a68-8dcef0267bec",
   "metadata": {},
   "outputs": [
    {
     "name": "stdout",
     "output_type": "stream",
     "text": [
      "-79.199996948242194\r"
     ]
    }
   ],
   "source": [
    "start_sequence = 'A'*len(secundary_structure)\n",
    "energies, free_energies, sequences = move_to_optimal(start_sequence, final_sequence, secundary_structure, calc_free_energy=True)"
   ]
  },
  {
   "cell_type": "code",
   "execution_count": 33,
   "id": "4e439df3-a5c7-4b71-ae23-a46a5c4f781e",
   "metadata": {},
   "outputs": [
    {
     "data": {
      "image/png": "[encoded data removed]",
      "text/plain": [
       "<Figure size 432x288 with 1 Axes>"
      ]
     },
     "metadata": {
      "needs_background": "light"
     },
     "output_type": "display_data"
    }
   ],
   "source": [
    "plt.plot(energies)\n",
    "plt.show()"
   ]
  },
  {
   "cell_type": "code",
   "execution_count": 34,
   "id": "f205d7e6-f2bf-499c-98f3-d5ae8b754221",
   "metadata": {},
   "outputs": [
    {
     "data": {
      "image/png": "[encoded data removed]",
      "text/plain": [
       "<Figure size 432x288 with 1 Axes>"
      ]
     },
     "metadata": {
      "needs_background": "light"
     },
     "output_type": "display_data"
    }
   ],
   "source": [
    "plt.plot(free_energies)\n",
    "plt.show()"
   ]
  },
  {
   "cell_type": "markdown",
   "id": "a1f44555-e99c-4c89-9f0e-3207974cc327",
   "metadata": {},
   "source": [
    "# Bonds"
   ]
  },
  {
   "cell_type": "code",
   "execution_count": 14,
   "id": "4c0178d4-266e-4590-878e-4b0f1fa06e60",
   "metadata": {},
   "outputs": [],
   "source": [
    "start_sequence = get_initial_guess(secundary_structure)"
   ]
  },
  {
   "cell_type": "code",
   "execution_count": 16,
   "id": "9e43c3bc-4f80-46bd-8f8f-52bc09865024",
   "metadata": {},
   "outputs": [
    {
     "data": {
      "text/plain": [
       "53.599998474121094"
      ]
     },
     "execution_count": 16,
     "metadata": {},
     "output_type": "execute_result"
    }
   ],
   "source": [
    "energy = RNA.eval_structure_simple(start_sequence, secundary_structure)\n",
    "energy"
   ]
  },
  {
   "cell_type": "code",
   "execution_count": 18,
   "id": "d76ebebd-a510-4fde-814c-1fcb298d507a",
   "metadata": {},
   "outputs": [
    {
     "data": {
      "text/plain": [
       "'.(((((.((((((((((((.(((((((.((((.(((.(((((..((((.((((((((((((((((.............))))))))))))).)))))))..(((.(((((.(((((((...........((((((((.......))))))))...)))))))))))).))).)))))....))).)))).))))))).))))))..))))..............)).)))))((((((...(((.((((((((............)))))))).))).)))))).....((((((((((.(((.(((.((...(((((((.(((.....)))))))))))).))).)))...))))))))))..'"
      ]
     },
     "execution_count": 18,
     "metadata": {},
     "output_type": "execute_result"
    }
   ],
   "source": [
    "sec_struct, energy = RNA.fold(start_sequence)\n",
    "sec_struct"
   ]
  },
  {
   "cell_type": "code",
   "execution_count": 78,
   "id": "32bd3d7b-b2c4-456c-a9e9-0f826081ba84",
   "metadata": {},
   "outputs": [
    {
     "data": {
      "text/plain": [
       "-119.30000305175781"
      ]
     },
     "execution_count": 78,
     "metadata": {},
     "output_type": "execute_result"
    }
   ],
   "source": [
    "energy"
   ]
  },
  {
   "cell_type": "code",
   "execution_count": 21,
   "id": "e00d1f8b-4e42-4523-9f55-febd07c46dab",
   "metadata": {},
   "outputs": [
    {
     "name": "stdout",
     "output_type": "stream",
     "text": [
      "-80.599998474121194\r"
     ]
    }
   ],
   "source": [
    "energies, free_energies, sequences = move_to_optimal(start_sequence, final_sequence, secundary_structure)"
   ]
  },
  {
   "cell_type": "code",
   "execution_count": 22,
   "id": "417024b3-fb42-4530-9312-2084b1bab8b6",
   "metadata": {},
   "outputs": [
    {
     "data": {
      "image/png": "[encoded data removed]",
      "text/plain": [
       "<Figure size 432x288 with 1 Axes>"
      ]
     },
     "metadata": {
      "needs_background": "light"
     },
     "output_type": "display_data"
    }
   ],
   "source": [
    "plt.plot(energies)\n",
    "plt.show()"
   ]
  },
  {
   "cell_type": "code",
   "execution_count": 23,
   "id": "29d0bda5-43e0-4591-bafa-a5ebe1388ee6",
   "metadata": {},
   "outputs": [
    {
     "data": {
      "image/png": "[encoded data removed]",
      "text/plain": [
       "<Figure size 432x288 with 1 Axes>"
      ]
     },
     "metadata": {
      "needs_background": "light"
     },
     "output_type": "display_data"
    }
   ],
   "source": [
    "plt.plot(free_energies)\n",
    "plt.show()"
   ]
  },
  {
   "cell_type": "code",
   "execution_count": null,
   "id": "767f6b34-92db-4a70-880c-b4d3d3d67dfb",
   "metadata": {},
   "outputs": [],
   "source": []
  }
 ],
 "metadata": {
  "kernelspec": {
   "display_name": "Python 3",
   "language": "python",
   "name": "python3"
  },
  "language_info": {
   "codemirror_mode": {
    "name": "ipython",
    "version": 3
   },
   "file_extension": ".py",
   "mimetype": "text/x-python",
   "name": "python",
   "nbconvert_exporter": "python",
   "pygments_lexer": "ipython3",
   "version": "3.7.3"
  }
 },
 "nbformat": 4,
 "nbformat_minor": 5
}
