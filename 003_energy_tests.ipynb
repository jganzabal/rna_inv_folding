{
 "cells": [
  {
   "cell_type": "code",
   "execution_count": 1,
   "id": "a64ace81-bb8b-4ec6-9fa9-0a2f2e6d6f14",
   "metadata": {},
   "outputs": [],
   "source": [
    "%load_ext autoreload\n",
    "%autoreload 2"
   ]
  },
  {
   "cell_type": "code",
   "execution_count": 18,
   "id": "4e00ca8a-82c8-44ad-bf4e-72ab9ed372a0",
   "metadata": {},
   "outputs": [],
   "source": [
    "import RNA\n",
    "from IPython.display import SVG\n",
    "import numpy as np\n",
    "import pandas as pd\n",
    "from matplotlib import pyplot as plt\n",
    "from RNA_helper import replace_char_towards_optimal, move_to_optimal, get_initial_guess, get_puzzle, secundary_structures_metric\n",
    "from environment import RNAInvEnvironment"
   ]
  },
  {
   "cell_type": "code",
   "execution_count": 212,
   "id": "b16b6feb-ad03-4d68-a06a-6fc7211270c2",
   "metadata": {},
   "outputs": [],
   "source": [
    "df_eterna_100 = pd.read_csv('eterna100-puzzles.txt', delimiter='\\t')"
   ]
  },
  {
   "cell_type": "code",
   "execution_count": 215,
   "id": "f0a8fce5-4bfc-45c8-96b8-57825653fad7",
   "metadata": {},
   "outputs": [],
   "source": [
    "df_eterna_100['lengths'] = df_eterna_100['Secondary Structure'].apply(len)"
   ]
  },
  {
   "cell_type": "code",
   "execution_count": 244,
   "id": "670c2ac7-ed55-4b22-876e-af8adbeef8e4",
   "metadata": {},
   "outputs": [
    {
     "data": {
      "text/html": [
       "<div>\n",
       "<style scoped>\n",
       "    .dataframe tbody tr th:only-of-type {\n",
       "        vertical-align: middle;\n",
       "    }\n",
       "\n",
       "    .dataframe tbody tr th {\n",
       "        vertical-align: top;\n",
       "    }\n",
       "\n",
       "    .dataframe thead th {\n",
       "        text-align: right;\n",
       "    }\n",
       "</style>\n",
       "<table border=\"1\" class=\"dataframe\">\n",
       "  <thead>\n",
       "    <tr style=\"text-align: right;\">\n",
       "      <th></th>\n",
       "      <th>Puzzle #</th>\n",
       "      <th>Puzzle Name</th>\n",
       "      <th>Eterna ID</th>\n",
       "      <th>Author</th>\n",
       "      <th>Secondary Structure</th>\n",
       "      <th>Solvers</th>\n",
       "      <th>Sample Solution (1)</th>\n",
       "      <th>Sample Solution (2)</th>\n",
       "      <th>lengths</th>\n",
       "    </tr>\n",
       "  </thead>\n",
       "  <tbody>\n",
       "    <tr>\n",
       "      <th>99</th>\n",
       "      <td>100</td>\n",
       "      <td>Teslagon</td>\n",
       "      <td>6050904</td>\n",
       "      <td>wawan151</td>\n",
       "      <td>......((.......((.((.......((.((.................</td>\n",
       "      <td>0</td>\n",
       "      <td>None</td>\n",
       "      <td>None</td>\n",
       "      <td>382</td>\n",
       "    </tr>\n",
       "    <tr>\n",
       "      <th>98</th>\n",
       "      <td>99</td>\n",
       "      <td>Shooting Star</td>\n",
       "      <td>913357</td>\n",
       "      <td>Brourd</td>\n",
       "      <td>(((((((((((((((((...(.(..((.(((.(((.((....).))...</td>\n",
       "      <td>2</td>\n",
       "      <td>UAUCGCCCCCGUGACAUAAAGAGUGCCGUGGACCGACCGAAAGCGC...</td>\n",
       "      <td>CUAUAUUCCCGUGUUCCAAGGAUUGAAGUGGACCGACCGAAAGCGC...</td>\n",
       "      <td>364</td>\n",
       "    </tr>\n",
       "    <tr>\n",
       "      <th>97</th>\n",
       "      <td>98</td>\n",
       "      <td>Bullseye</td>\n",
       "      <td>965280</td>\n",
       "      <td>hoglahoo</td>\n",
       "      <td>...(((((((...))))..((((...))))..((((...)))))))...</td>\n",
       "      <td>3</td>\n",
       "      <td>AAAGUCGGAUAAAGUCCAAGUAUAAAGUGCAAGUCCAAAGGAUGAC...</td>\n",
       "      <td>AAAGCCGAGGAAACCUCAAGUAUAAAGUACAACCUAAAAUAGGGGC...</td>\n",
       "      <td>202</td>\n",
       "    </tr>\n",
       "    <tr>\n",
       "      <th>96</th>\n",
       "      <td>97</td>\n",
       "      <td>Hoglafractal</td>\n",
       "      <td>1632102</td>\n",
       "      <td>hoglahoo</td>\n",
       "      <td>..(.((..(((((....(((((......))))))))))((((...(...</td>\n",
       "      <td>3</td>\n",
       "      <td>ACGUCCAAGACUAAAAUGUUAUGAAAAAAUGAUUGGUUGGAGAAAU...</td>\n",
       "      <td>ACGUCCAAUAGAUAAAAUGUAUGAAAAAAUAUAGUCUACAUCAAAU...</td>\n",
       "      <td>400</td>\n",
       "    </tr>\n",
       "    <tr>\n",
       "      <th>95</th>\n",
       "      <td>96</td>\n",
       "      <td>Cesspool</td>\n",
       "      <td>911841</td>\n",
       "      <td>hoglahoo</td>\n",
       "      <td>(..(..(....)..(((..(.(.(((...)))..)..)..)))..(...</td>\n",
       "      <td>4</td>\n",
       "      <td>GUGGAAGGAAACAAGAUUGGAGAGGCAAAGCCGGCGGCUGGUUAAU...</td>\n",
       "      <td>GUGCAAGGAAACAAGACUGCACACAUAAAAUGGGGGGGUGGUCAAG...</td>\n",
       "      <td>358</td>\n",
       "    </tr>\n",
       "    <tr>\n",
       "      <th>93</th>\n",
       "      <td>94</td>\n",
       "      <td>Looking Back Again</td>\n",
       "      <td>726696</td>\n",
       "      <td>Brourd</td>\n",
       "      <td>(((..(((((((.....((((((...)))))).))))..((((((....</td>\n",
       "      <td>6</td>\n",
       "      <td>UCCAAUCGGUAUAAAAAUGUGAUAAAAUUAUAGGUACAACUCGCUA...</td>\n",
       "      <td>GCCAAGGUGUAAGAAAGAAUUAUAAAGUGAUUAUUACAAGAAGGUA...</td>\n",
       "      <td>389</td>\n",
       "    </tr>\n",
       "    <tr>\n",
       "      <th>90</th>\n",
       "      <td>91</td>\n",
       "      <td>Thunderbolt</td>\n",
       "      <td>908660</td>\n",
       "      <td>Quasispecies</td>\n",
       "      <td>((..(((((........(.((..((.(.....(....).(((((((...</td>\n",
       "      <td>11</td>\n",
       "      <td>AUUGAUUAUAAAAAAAAAGACUGGUGUAAAAAAGAAAUAAUUAUAA...</td>\n",
       "      <td>GUUGGUAUAAAAAAAAAUGGUUGAUGAAAAAAAGAAAUAGUAUAUA...</td>\n",
       "      <td>392</td>\n",
       "    </tr>\n",
       "    <tr>\n",
       "      <th>89</th>\n",
       "      <td>90</td>\n",
       "      <td>Gladius</td>\n",
       "      <td>944766</td>\n",
       "      <td>Quasispecies</td>\n",
       "      <td>(....)..(....(...(..(.(..(...(((.(((...((((......</td>\n",
       "      <td>11</td>\n",
       "      <td>CGAAAGAAGAAAGGAAGGUGCGUUGAAAGAGAAUGCAAAAUUAGAA...</td>\n",
       "      <td>GGAAACAACAAAGCGAAUUGAGAUGAGAAUACAGUCAAAUUUAGAA...</td>\n",
       "      <td>400</td>\n",
       "    </tr>\n",
       "    <tr>\n",
       "      <th>85</th>\n",
       "      <td>86</td>\n",
       "      <td>Methaqualone C16H14N2O Structural Representation</td>\n",
       "      <td>4891834</td>\n",
       "      <td>Malcolm</td>\n",
       "      <td>.......((((.((((.(((.(((....))).(((.(((....)))...</td>\n",
       "      <td>14</td>\n",
       "      <td>AAAAAAACCCCAGGGCAGGCAGGGAAAACCCAGGGAGGGAAAACCC...</td>\n",
       "      <td>AAAAAAAUUACAGUACAGCCAGUUGAAAAACAGACAGUAGAAAUAC...</td>\n",
       "      <td>355</td>\n",
       "    </tr>\n",
       "    <tr>\n",
       "      <th>84</th>\n",
       "      <td>85</td>\n",
       "      <td>Snowflake Necklace ( or v2.0 )</td>\n",
       "      <td>624517</td>\n",
       "      <td>Wobble Dynx</td>\n",
       "      <td>(((((((((((((((.(((((.((.....)).((.....)).((.....</td>\n",
       "      <td>15</td>\n",
       "      <td>GCGCGGCCCGCCCCCACCCCCAGGGAAAACCAGGGAAAACCACCGA...</td>\n",
       "      <td>AUAAUUAUAAUAAUAAGUAUCAGGGAAAACCAGGGAAAACCACCGA...</td>\n",
       "      <td>389</td>\n",
       "    </tr>\n",
       "    <tr>\n",
       "      <th>81</th>\n",
       "      <td>82</td>\n",
       "      <td>Anemone</td>\n",
       "      <td>3058638</td>\n",
       "      <td>wateronthemoon</td>\n",
       "      <td>...((((((....))))))(((((....)))))((((((....)))...</td>\n",
       "      <td>18</td>\n",
       "      <td>AAAGGUAAUGAGAGUUAUUGAUACGAAAGUAUUGAAUAUGAGAGUA...</td>\n",
       "      <td>AAAAUUAAUGAAAAUUAAUGAUAUGAAAAUAUUGAUAAUGAAAAUU...</td>\n",
       "      <td>214</td>\n",
       "    </tr>\n",
       "    <tr>\n",
       "      <th>80</th>\n",
       "      <td>81</td>\n",
       "      <td>Campfire</td>\n",
       "      <td>547104</td>\n",
       "      <td>starryjess</td>\n",
       "      <td>....((((..(((((..((((..((((.....))))((((((...)...</td>\n",
       "      <td>21</td>\n",
       "      <td>AAAAGUACAAGGAUGAAUCAAAAGUUCGAAAAGAAUCACCUAAAAU...</td>\n",
       "      <td>AAAACUCGAAGGUCGAACGCUAAGGGCGAAAAGCCCCCCGCCAAAG...</td>\n",
       "      <td>212</td>\n",
       "    </tr>\n",
       "    <tr>\n",
       "      <th>79</th>\n",
       "      <td>80</td>\n",
       "      <td>Spiral of 5's</td>\n",
       "      <td>474410</td>\n",
       "      <td>Brourd</td>\n",
       "      <td>(....(((((...(((((...(((((....(((((...(((((......</td>\n",
       "      <td>21</td>\n",
       "      <td>GGAAUGUGAGAAAGUGUAAAAGUGUAAAAAGUGGGAAAGUGGGAAA...</td>\n",
       "      <td>GAAAUGUGGAGAGGGUGGGAGGGUGGGAAGGGUGAGAGGGUGAGAG...</td>\n",
       "      <td>397</td>\n",
       "    </tr>\n",
       "    <tr>\n",
       "      <th>77</th>\n",
       "      <td>78</td>\n",
       "      <td>Mat - Lot 2-2 B</td>\n",
       "      <td>451142</td>\n",
       "      <td>mat747</td>\n",
       "      <td>(..(((..((((..((....((..((((....))....))..))))...</td>\n",
       "      <td>23</td>\n",
       "      <td>CUGGGGUGGCCGUGCGAAAAGCUGGGCGGAAACGAAAACCUGGCCG...</td>\n",
       "      <td>GUGGCCUGGCGCUGCGAAAACCUGGCGGGAAACCAAAAGCUGGGCG...</td>\n",
       "      <td>284</td>\n",
       "    </tr>\n",
       "    <tr>\n",
       "      <th>75</th>\n",
       "      <td>76</td>\n",
       "      <td>Snowflake 3</td>\n",
       "      <td>415093</td>\n",
       "      <td>Ding</td>\n",
       "      <td>(((((....)).((((((....)))..((((.((((..(((....)...</td>\n",
       "      <td>23</td>\n",
       "      <td>GGGGGGAAACCAGCGUUGGAAACAAAAGUACAGUACAACUGGAAAC...</td>\n",
       "      <td>CCGCGGAAACGACCGGAUGAAAAUCAAAUCCAGAUCAAUACGAAAG...</td>\n",
       "      <td>393</td>\n",
       "    </tr>\n",
       "    <tr>\n",
       "      <th>72</th>\n",
       "      <td>73</td>\n",
       "      <td>Snowflake 4</td>\n",
       "      <td>415914</td>\n",
       "      <td>Ding</td>\n",
       "      <td>((((...))))(((((((....))(((((..(((((((....))((...</td>\n",
       "      <td>26</td>\n",
       "      <td>ACUCAAAGAGUGUAAGGGGAAACCGAUUCGACCGCCCCGAAAGGCC...</td>\n",
       "      <td>GCUCAAAGAGCCCUGCCCGAAAGGCCUGGAACCUCCGGGAAACCCA...</td>\n",
       "      <td>370</td>\n",
       "    </tr>\n",
       "    <tr>\n",
       "      <th>73</th>\n",
       "      <td>74</td>\n",
       "      <td>Mat - Cuboid</td>\n",
       "      <td>450940</td>\n",
       "      <td>mat747</td>\n",
       "      <td>(..((....((..((....((..((....(..((..((....((.....</td>\n",
       "      <td>26</td>\n",
       "      <td>CUGGCAAAACGUGGUAAAACGAAGGAAAACUGAUUGGGAAAACGUG...</td>\n",
       "      <td>CUGCUAAAACUUGAUAAAAGUUGAUAAAACUGAUUGUGAAAAUUUG...</td>\n",
       "      <td>380</td>\n",
       "    </tr>\n",
       "    <tr>\n",
       "      <th>67</th>\n",
       "      <td>68</td>\n",
       "      <td>Taraxacum officinale</td>\n",
       "      <td>1887121</td>\n",
       "      <td>ariel19_89</td>\n",
       "      <td>((((....).))).((((....).))).((((....).))).((((...</td>\n",
       "      <td>30</td>\n",
       "      <td>GGGGGAAACAUUCAGUGGGAAACAUGCAGUGGGAAACAUACAGGGG...</td>\n",
       "      <td>UAGGGAAACACUAAUAGGGAAACACUAAUACGGAAACAGUAAUACG...</td>\n",
       "      <td>282</td>\n",
       "    </tr>\n",
       "    <tr>\n",
       "      <th>62</th>\n",
       "      <td>63</td>\n",
       "      <td>Fractal star x5</td>\n",
       "      <td>3676828</td>\n",
       "      <td>Crul</td>\n",
       "      <td>.....((((((((..((((....))))..((((....))))..(((...</td>\n",
       "      <td>36</td>\n",
       "      <td>AAAAAGGGUGUGAAAUAAGAAAACUUAAAUUAGGAAACUAAAAUUU...</td>\n",
       "      <td>AAAAAUAUAUAUAAAAUUUGAAAGGAUAAUAAUGAAAGUUAAAUAU...</td>\n",
       "      <td>400</td>\n",
       "    </tr>\n",
       "    <tr>\n",
       "      <th>55</th>\n",
       "      <td>56</td>\n",
       "      <td>JF1</td>\n",
       "      <td>458607</td>\n",
       "      <td>Quasispecies</td>\n",
       "      <td>(((((((((((.(((((..(((((....((((((..(((((...((...</td>\n",
       "      <td>46</td>\n",
       "      <td>GUAUGAUUAUCACAUAUUGGUAUGAAAAUAUAUAGGUAUAAGAGUA...</td>\n",
       "      <td>GAAAAUAAUACAUAUAUUGGUGUGAAAAAUAAAAGGUUUUAAAAAA...</td>\n",
       "      <td>387</td>\n",
       "    </tr>\n",
       "    <tr>\n",
       "      <th>52</th>\n",
       "      <td>53</td>\n",
       "      <td>Documenting repetitious behavior</td>\n",
       "      <td>3194980</td>\n",
       "      <td>paramodic</td>\n",
       "      <td>.......((.........((.........((.........((.......</td>\n",
       "      <td>51</td>\n",
       "      <td>AAAAAAAGGAAAAAAAAAGGAAAAAAAAGCCGAAAAAAAAGGAAAA...</td>\n",
       "      <td>AAAAAAACGGAAAAAAAAGGAAAAAAAAAGGAAAAAAAAAGCAAAA...</td>\n",
       "      <td>400</td>\n",
       "    </tr>\n",
       "    <tr>\n",
       "      <th>50</th>\n",
       "      <td>51</td>\n",
       "      <td>medallion</td>\n",
       "      <td>1398974</td>\n",
       "      <td>mspano</td>\n",
       "      <td>((((((.((((((....)))))).(((....))).(((....)))....</td>\n",
       "      <td>55</td>\n",
       "      <td>CUCCCCAUCUGGGGAAACUCGGGAGUGGAAACGCACUGGAAACGGA...</td>\n",
       "      <td>CCCGACACGGGAGGAAACUUUUGACAGGAAACUGACAGGAAACUGA...</td>\n",
       "      <td>337</td>\n",
       "    </tr>\n",
       "    <tr>\n",
       "      <th>37</th>\n",
       "      <td>38</td>\n",
       "      <td>The Turtle(s) Move(s)</td>\n",
       "      <td>401904</td>\n",
       "      <td>boganis</td>\n",
       "      <td>...((....))....(((((((((.........))))))))).......</td>\n",
       "      <td>85</td>\n",
       "      <td>AAAUGGAAACGAAAAGUUUAUUUUGAAAAAAAAGGGAUAGAUAAAA...</td>\n",
       "      <td>AAAGUGAAAACAAAAAUUGGUUUAGAAAAAAAAUGGAUUAGUAAAA...</td>\n",
       "      <td>316</td>\n",
       "    </tr>\n",
       "    <tr>\n",
       "      <th>27</th>\n",
       "      <td>28</td>\n",
       "      <td>Still Life (Sunflower In A Vase)</td>\n",
       "      <td>404191</td>\n",
       "      <td>boganis</td>\n",
       "      <td>...((((..(((((.....)))))..(((((...)))))..(((((...</td>\n",
       "      <td>110</td>\n",
       "      <td>AAAGCUGAAAAUUCAAAAAGAGUUAACAUACAAAGUAUGAAAUAAC...</td>\n",
       "      <td>AAACGACAACGAGUGAAAAAUUCGAACGUGUAAAAUACGAAGUGCA...</td>\n",
       "      <td>378</td>\n",
       "    </tr>\n",
       "    <tr>\n",
       "      <th>21</th>\n",
       "      <td>22</td>\n",
       "      <td>This is ACTUALLY Small And Easy 6</td>\n",
       "      <td>3084759</td>\n",
       "      <td>steven123505</td>\n",
       "      <td>.................................................</td>\n",
       "      <td>136</td>\n",
       "      <td>AAAAAAAAAAAAAAAAAAAAAAAAAAAAAAAAAAAAAAAAAAAAAA...</td>\n",
       "      <td>UCACCCACCACCCACCAAACCCAAACAACCAAACUCCCACACACAC...</td>\n",
       "      <td>400</td>\n",
       "    </tr>\n",
       "    <tr>\n",
       "      <th>11</th>\n",
       "      <td>12</td>\n",
       "      <td>Mat - Martian 2</td>\n",
       "      <td>399912</td>\n",
       "      <td>mat747</td>\n",
       "      <td>((((....))))...(((((((..(((((((.......))))))))...</td>\n",
       "      <td>172</td>\n",
       "      <td>UAACGAAAGUUAAAAAUAUUUAAAUAGAGAUAAAAAAAAUUUUUAU...</td>\n",
       "      <td>AAUAGAAAUAUUAAAUUGAUGUAAUUUUAUUAAAAAAAAAUAGAAA...</td>\n",
       "      <td>213</td>\n",
       "    </tr>\n",
       "    <tr>\n",
       "      <th>8</th>\n",
       "      <td>9</td>\n",
       "      <td>The Sun</td>\n",
       "      <td>13840</td>\n",
       "      <td>pkinney</td>\n",
       "      <td>(((.(((((((...))))..))))))...(((.(((((((...)))...</td>\n",
       "      <td>241</td>\n",
       "      <td>CCCACCCCCCCAAAGGGGAAGGGGGGAAAGGGAGGCGGCGAAACGC...</td>\n",
       "      <td>GUCUACCGAGCUAAGCUCUAGGUGACAACGACACGGCCUCAGAGAG...</td>\n",
       "      <td>258</td>\n",
       "    </tr>\n",
       "    <tr>\n",
       "      <th>6</th>\n",
       "      <td>7</td>\n",
       "      <td>Fractal 2</td>\n",
       "      <td>13687</td>\n",
       "      <td>pkinney</td>\n",
       "      <td>.....((((((((...((((((((((..((((..........))))...</td>\n",
       "      <td>365</td>\n",
       "      <td>AAAAAUAAAAAAUAAAAUAAAAAAUAAACGACGAAAAAAAAAGUCG...</td>\n",
       "      <td>AAAAACCCCCCCCAAAGGGCCCCCCCAACCCCAAAAAAAAAAGGGG...</td>\n",
       "      <td>284</td>\n",
       "    </tr>\n",
       "    <tr>\n",
       "      <th>5</th>\n",
       "      <td>6</td>\n",
       "      <td>Saccharomyces Cerevisiae - Difficulty Level 0</td>\n",
       "      <td>17811</td>\n",
       "      <td>Sneh</td>\n",
       "      <td>(((((((((((........)))).((...............))......</td>\n",
       "      <td>3252</td>\n",
       "      <td>CGGUGGCCGGCGAAAAAAAGCCGAGGGAAAAAAAAAAAAAACCGAA...</td>\n",
       "      <td>GCGGUGGCUUGGAAAAAAACGGGGGGGAAAAAAAAAAAAAACCAAA...</td>\n",
       "      <td>379</td>\n",
       "    </tr>\n",
       "  </tbody>\n",
       "</table>\n",
       "</div>"
      ],
      "text/plain": [
       "    Puzzle #                                       Puzzle Name  Eterna ID  \\\n",
       "99       100                                          Teslagon    6050904   \n",
       "98        99                                     Shooting Star     913357   \n",
       "97        98                                          Bullseye     965280   \n",
       "96        97                                      Hoglafractal    1632102   \n",
       "95        96                                          Cesspool     911841   \n",
       "93        94                                Looking Back Again     726696   \n",
       "90        91                                       Thunderbolt     908660   \n",
       "89        90                                           Gladius     944766   \n",
       "85        86  Methaqualone C16H14N2O Structural Representation    4891834   \n",
       "84        85                    Snowflake Necklace ( or v2.0 )     624517   \n",
       "81        82                                           Anemone    3058638   \n",
       "80        81                                          Campfire     547104   \n",
       "79        80                                     Spiral of 5's     474410   \n",
       "77        78                                   Mat - Lot 2-2 B     451142   \n",
       "75        76                                       Snowflake 3     415093   \n",
       "72        73                                       Snowflake 4     415914   \n",
       "73        74                                      Mat - Cuboid     450940   \n",
       "67        68                              Taraxacum officinale    1887121   \n",
       "62        63                                   Fractal star x5    3676828   \n",
       "55        56                                               JF1     458607   \n",
       "52        53                  Documenting repetitious behavior    3194980   \n",
       "50        51                                         medallion    1398974   \n",
       "37        38                             The Turtle(s) Move(s)     401904   \n",
       "27        28                  Still Life (Sunflower In A Vase)     404191   \n",
       "21        22                 This is ACTUALLY Small And Easy 6    3084759   \n",
       "11        12                                   Mat - Martian 2     399912   \n",
       "8          9                                           The Sun      13840   \n",
       "6          7                                         Fractal 2      13687   \n",
       "5          6     Saccharomyces Cerevisiae - Difficulty Level 0      17811   \n",
       "\n",
       "            Author                                Secondary Structure  \\\n",
       "99        wawan151  ......((.......((.((.......((.((.................   \n",
       "98          Brourd  (((((((((((((((((...(.(..((.(((.(((.((....).))...   \n",
       "97        hoglahoo  ...(((((((...))))..((((...))))..((((...)))))))...   \n",
       "96        hoglahoo  ..(.((..(((((....(((((......))))))))))((((...(...   \n",
       "95        hoglahoo  (..(..(....)..(((..(.(.(((...)))..)..)..)))..(...   \n",
       "93          Brourd  (((..(((((((.....((((((...)))))).))))..((((((....   \n",
       "90    Quasispecies  ((..(((((........(.((..((.(.....(....).(((((((...   \n",
       "89    Quasispecies  (....)..(....(...(..(.(..(...(((.(((...((((......   \n",
       "85         Malcolm  .......((((.((((.(((.(((....))).(((.(((....)))...   \n",
       "84     Wobble Dynx  (((((((((((((((.(((((.((.....)).((.....)).((.....   \n",
       "81  wateronthemoon  ...((((((....))))))(((((....)))))((((((....)))...   \n",
       "80      starryjess  ....((((..(((((..((((..((((.....))))((((((...)...   \n",
       "79          Brourd  (....(((((...(((((...(((((....(((((...(((((......   \n",
       "77          mat747  (..(((..((((..((....((..((((....))....))..))))...   \n",
       "75            Ding  (((((....)).((((((....)))..((((.((((..(((....)...   \n",
       "72            Ding  ((((...))))(((((((....))(((((..(((((((....))((...   \n",
       "73          mat747  (..((....((..((....((..((....(..((..((....((.....   \n",
       "67      ariel19_89  ((((....).))).((((....).))).((((....).))).((((...   \n",
       "62            Crul  .....((((((((..((((....))))..((((....))))..(((...   \n",
       "55    Quasispecies  (((((((((((.(((((..(((((....((((((..(((((...((...   \n",
       "52       paramodic  .......((.........((.........((.........((.......   \n",
       "50          mspano  ((((((.((((((....)))))).(((....))).(((....)))....   \n",
       "37         boganis  ...((....))....(((((((((.........))))))))).......   \n",
       "27         boganis  ...((((..(((((.....)))))..(((((...)))))..(((((...   \n",
       "21    steven123505  .................................................   \n",
       "11          mat747  ((((....))))...(((((((..(((((((.......))))))))...   \n",
       "8          pkinney  (((.(((((((...))))..))))))...(((.(((((((...)))...   \n",
       "6          pkinney  .....((((((((...((((((((((..((((..........))))...   \n",
       "5             Sneh  (((((((((((........)))).((...............))......   \n",
       "\n",
       "    Solvers                                Sample Solution (1)  \\\n",
       "99        0                                               None   \n",
       "98        2  UAUCGCCCCCGUGACAUAAAGAGUGCCGUGGACCGACCGAAAGCGC...   \n",
       "97        3  AAAGUCGGAUAAAGUCCAAGUAUAAAGUGCAAGUCCAAAGGAUGAC...   \n",
       "96        3  ACGUCCAAGACUAAAAUGUUAUGAAAAAAUGAUUGGUUGGAGAAAU...   \n",
       "95        4  GUGGAAGGAAACAAGAUUGGAGAGGCAAAGCCGGCGGCUGGUUAAU...   \n",
       "93        6  UCCAAUCGGUAUAAAAAUGUGAUAAAAUUAUAGGUACAACUCGCUA...   \n",
       "90       11  AUUGAUUAUAAAAAAAAAGACUGGUGUAAAAAAGAAAUAAUUAUAA...   \n",
       "89       11  CGAAAGAAGAAAGGAAGGUGCGUUGAAAGAGAAUGCAAAAUUAGAA...   \n",
       "85       14  AAAAAAACCCCAGGGCAGGCAGGGAAAACCCAGGGAGGGAAAACCC...   \n",
       "84       15  GCGCGGCCCGCCCCCACCCCCAGGGAAAACCAGGGAAAACCACCGA...   \n",
       "81       18  AAAGGUAAUGAGAGUUAUUGAUACGAAAGUAUUGAAUAUGAGAGUA...   \n",
       "80       21  AAAAGUACAAGGAUGAAUCAAAAGUUCGAAAAGAAUCACCUAAAAU...   \n",
       "79       21  GGAAUGUGAGAAAGUGUAAAAGUGUAAAAAGUGGGAAAGUGGGAAA...   \n",
       "77       23  CUGGGGUGGCCGUGCGAAAAGCUGGGCGGAAACGAAAACCUGGCCG...   \n",
       "75       23  GGGGGGAAACCAGCGUUGGAAACAAAAGUACAGUACAACUGGAAAC...   \n",
       "72       26  ACUCAAAGAGUGUAAGGGGAAACCGAUUCGACCGCCCCGAAAGGCC...   \n",
       "73       26  CUGGCAAAACGUGGUAAAACGAAGGAAAACUGAUUGGGAAAACGUG...   \n",
       "67       30  GGGGGAAACAUUCAGUGGGAAACAUGCAGUGGGAAACAUACAGGGG...   \n",
       "62       36  AAAAAGGGUGUGAAAUAAGAAAACUUAAAUUAGGAAACUAAAAUUU...   \n",
       "55       46  GUAUGAUUAUCACAUAUUGGUAUGAAAAUAUAUAGGUAUAAGAGUA...   \n",
       "52       51  AAAAAAAGGAAAAAAAAAGGAAAAAAAAGCCGAAAAAAAAGGAAAA...   \n",
       "50       55  CUCCCCAUCUGGGGAAACUCGGGAGUGGAAACGCACUGGAAACGGA...   \n",
       "37       85  AAAUGGAAACGAAAAGUUUAUUUUGAAAAAAAAGGGAUAGAUAAAA...   \n",
       "27      110  AAAGCUGAAAAUUCAAAAAGAGUUAACAUACAAAGUAUGAAAUAAC...   \n",
       "21      136  AAAAAAAAAAAAAAAAAAAAAAAAAAAAAAAAAAAAAAAAAAAAAA...   \n",
       "11      172  UAACGAAAGUUAAAAAUAUUUAAAUAGAGAUAAAAAAAAUUUUUAU...   \n",
       "8       241  CCCACCCCCCCAAAGGGGAAGGGGGGAAAGGGAGGCGGCGAAACGC...   \n",
       "6       365  AAAAAUAAAAAAUAAAAUAAAAAAUAAACGACGAAAAAAAAAGUCG...   \n",
       "5      3252  CGGUGGCCGGCGAAAAAAAGCCGAGGGAAAAAAAAAAAAAACCGAA...   \n",
       "\n",
       "                                  Sample Solution (2)  lengths  \n",
       "99                                               None      382  \n",
       "98  CUAUAUUCCCGUGUUCCAAGGAUUGAAGUGGACCGACCGAAAGCGC...      364  \n",
       "97  AAAGCCGAGGAAACCUCAAGUAUAAAGUACAACCUAAAAUAGGGGC...      202  \n",
       "96  ACGUCCAAUAGAUAAAAUGUAUGAAAAAAUAUAGUCUACAUCAAAU...      400  \n",
       "95  GUGCAAGGAAACAAGACUGCACACAUAAAAUGGGGGGGUGGUCAAG...      358  \n",
       "93  GCCAAGGUGUAAGAAAGAAUUAUAAAGUGAUUAUUACAAGAAGGUA...      389  \n",
       "90  GUUGGUAUAAAAAAAAAUGGUUGAUGAAAAAAAGAAAUAGUAUAUA...      392  \n",
       "89  GGAAACAACAAAGCGAAUUGAGAUGAGAAUACAGUCAAAUUUAGAA...      400  \n",
       "85  AAAAAAAUUACAGUACAGCCAGUUGAAAAACAGACAGUAGAAAUAC...      355  \n",
       "84  AUAAUUAUAAUAAUAAGUAUCAGGGAAAACCAGGGAAAACCACCGA...      389  \n",
       "81  AAAAUUAAUGAAAAUUAAUGAUAUGAAAAUAUUGAUAAUGAAAAUU...      214  \n",
       "80  AAAACUCGAAGGUCGAACGCUAAGGGCGAAAAGCCCCCCGCCAAAG...      212  \n",
       "79  GAAAUGUGGAGAGGGUGGGAGGGUGGGAAGGGUGAGAGGGUGAGAG...      397  \n",
       "77  GUGGCCUGGCGCUGCGAAAACCUGGCGGGAAACCAAAAGCUGGGCG...      284  \n",
       "75  CCGCGGAAACGACCGGAUGAAAAUCAAAUCCAGAUCAAUACGAAAG...      393  \n",
       "72  GCUCAAAGAGCCCUGCCCGAAAGGCCUGGAACCUCCGGGAAACCCA...      370  \n",
       "73  CUGCUAAAACUUGAUAAAAGUUGAUAAAACUGAUUGUGAAAAUUUG...      380  \n",
       "67  UAGGGAAACACUAAUAGGGAAACACUAAUACGGAAACAGUAAUACG...      282  \n",
       "62  AAAAAUAUAUAUAAAAUUUGAAAGGAUAAUAAUGAAAGUUAAAUAU...      400  \n",
       "55  GAAAAUAAUACAUAUAUUGGUGUGAAAAAUAAAAGGUUUUAAAAAA...      387  \n",
       "52  AAAAAAACGGAAAAAAAAGGAAAAAAAAAGGAAAAAAAAAGCAAAA...      400  \n",
       "50  CCCGACACGGGAGGAAACUUUUGACAGGAAACUGACAGGAAACUGA...      337  \n",
       "37  AAAGUGAAAACAAAAAUUGGUUUAGAAAAAAAAUGGAUUAGUAAAA...      316  \n",
       "27  AAACGACAACGAGUGAAAAAUUCGAACGUGUAAAAUACGAAGUGCA...      378  \n",
       "21  UCACCCACCACCCACCAAACCCAAACAACCAAACUCCCACACACAC...      400  \n",
       "11  AAUAGAAAUAUUAAAUUGAUGUAAUUUUAUUAAAAAAAAAUAGAAA...      213  \n",
       "8   GUCUACCGAGCUAAGCUCUAGGUGACAACGACACGGCCUCAGAGAG...      258  \n",
       "6   AAAAACCCCCCCCAAAGGGCCCCCCCAACCCCAAAAAAAAAAGGGG...      284  \n",
       "5   GCGGUGGCUUGGAAAAAAACGGGGGGGAAAAAAAAAAAAAACCAAA...      379  "
      ]
     },
     "execution_count": 244,
     "metadata": {},
     "output_type": "execute_result"
    }
   ],
   "source": [
    "df_eterna_100[df_eterna_100['lengths'] > 200].sort_values('Solvers')"
   ]
  },
  {
   "cell_type": "code",
   "execution_count": 222,
   "id": "96de409a-90c7-46a4-93ff-62d1a084e7f0",
   "metadata": {},
   "outputs": [
    {
     "data": {
      "text/html": [
       "<div>\n",
       "<style scoped>\n",
       "    .dataframe tbody tr th:only-of-type {\n",
       "        vertical-align: middle;\n",
       "    }\n",
       "\n",
       "    .dataframe tbody tr th {\n",
       "        vertical-align: top;\n",
       "    }\n",
       "\n",
       "    .dataframe thead th {\n",
       "        text-align: right;\n",
       "    }\n",
       "</style>\n",
       "<table border=\"1\" class=\"dataframe\">\n",
       "  <thead>\n",
       "    <tr style=\"text-align: right;\">\n",
       "      <th></th>\n",
       "      <th>Puzzle #</th>\n",
       "      <th>Puzzle Name</th>\n",
       "      <th>Eterna ID</th>\n",
       "      <th>Author</th>\n",
       "      <th>Secondary Structure</th>\n",
       "      <th>Solvers</th>\n",
       "      <th>Sample Solution (1)</th>\n",
       "      <th>Sample Solution (2)</th>\n",
       "      <th>lengths</th>\n",
       "    </tr>\n",
       "  </thead>\n",
       "  <tbody>\n",
       "    <tr>\n",
       "      <th>62</th>\n",
       "      <td>63</td>\n",
       "      <td>Fractal star x5</td>\n",
       "      <td>3676828</td>\n",
       "      <td>Crul</td>\n",
       "      <td>.....((((((((..((((....))))..((((....))))..(((...</td>\n",
       "      <td>36</td>\n",
       "      <td>AAAAAGGGUGUGAAAUAAGAAAACUUAAAUUAGGAAACUAAAAUUU...</td>\n",
       "      <td>AAAAAUAUAUAUAAAAUUUGAAAGGAUAAUAAUGAAAGUUAAAUAU...</td>\n",
       "      <td>400</td>\n",
       "    </tr>\n",
       "    <tr>\n",
       "      <th>52</th>\n",
       "      <td>53</td>\n",
       "      <td>Documenting repetitious behavior</td>\n",
       "      <td>3194980</td>\n",
       "      <td>paramodic</td>\n",
       "      <td>.......((.........((.........((.........((.......</td>\n",
       "      <td>51</td>\n",
       "      <td>AAAAAAAGGAAAAAAAAAGGAAAAAAAAGCCGAAAAAAAAGGAAAA...</td>\n",
       "      <td>AAAAAAACGGAAAAAAAAGGAAAAAAAAAGGAAAAAAAAAGCAAAA...</td>\n",
       "      <td>400</td>\n",
       "    </tr>\n",
       "    <tr>\n",
       "      <th>96</th>\n",
       "      <td>97</td>\n",
       "      <td>Hoglafractal</td>\n",
       "      <td>1632102</td>\n",
       "      <td>hoglahoo</td>\n",
       "      <td>..(.((..(((((....(((((......))))))))))((((...(...</td>\n",
       "      <td>3</td>\n",
       "      <td>ACGUCCAAGACUAAAAUGUUAUGAAAAAAUGAUUGGUUGGAGAAAU...</td>\n",
       "      <td>ACGUCCAAUAGAUAAAAUGUAUGAAAAAAUAUAGUCUACAUCAAAU...</td>\n",
       "      <td>400</td>\n",
       "    </tr>\n",
       "    <tr>\n",
       "      <th>89</th>\n",
       "      <td>90</td>\n",
       "      <td>Gladius</td>\n",
       "      <td>944766</td>\n",
       "      <td>Quasispecies</td>\n",
       "      <td>(....)..(....(...(..(.(..(...(((.(((...((((......</td>\n",
       "      <td>11</td>\n",
       "      <td>CGAAAGAAGAAAGGAAGGUGCGUUGAAAGAGAAUGCAAAAUUAGAA...</td>\n",
       "      <td>GGAAACAACAAAGCGAAUUGAGAUGAGAAUACAGUCAAAUUUAGAA...</td>\n",
       "      <td>400</td>\n",
       "    </tr>\n",
       "    <tr>\n",
       "      <th>21</th>\n",
       "      <td>22</td>\n",
       "      <td>This is ACTUALLY Small And Easy 6</td>\n",
       "      <td>3084759</td>\n",
       "      <td>steven123505</td>\n",
       "      <td>.................................................</td>\n",
       "      <td>136</td>\n",
       "      <td>AAAAAAAAAAAAAAAAAAAAAAAAAAAAAAAAAAAAAAAAAAAAAA...</td>\n",
       "      <td>UCACCCACCACCCACCAAACCCAAACAACCAAACUCCCACACACAC...</td>\n",
       "      <td>400</td>\n",
       "    </tr>\n",
       "    <tr>\n",
       "      <th>79</th>\n",
       "      <td>80</td>\n",
       "      <td>Spiral of 5's</td>\n",
       "      <td>474410</td>\n",
       "      <td>Brourd</td>\n",
       "      <td>(....(((((...(((((...(((((....(((((...(((((......</td>\n",
       "      <td>21</td>\n",
       "      <td>GGAAUGUGAGAAAGUGUAAAAGUGUAAAAAGUGGGAAAGUGGGAAA...</td>\n",
       "      <td>GAAAUGUGGAGAGGGUGGGAGGGUGGGAAGGGUGAGAGGGUGAGAG...</td>\n",
       "      <td>397</td>\n",
       "    </tr>\n",
       "    <tr>\n",
       "      <th>75</th>\n",
       "      <td>76</td>\n",
       "      <td>Snowflake 3</td>\n",
       "      <td>415093</td>\n",
       "      <td>Ding</td>\n",
       "      <td>(((((....)).((((((....)))..((((.((((..(((....)...</td>\n",
       "      <td>23</td>\n",
       "      <td>GGGGGGAAACCAGCGUUGGAAACAAAAGUACAGUACAACUGGAAAC...</td>\n",
       "      <td>CCGCGGAAACGACCGGAUGAAAAUCAAAUCCAGAUCAAUACGAAAG...</td>\n",
       "      <td>393</td>\n",
       "    </tr>\n",
       "    <tr>\n",
       "      <th>90</th>\n",
       "      <td>91</td>\n",
       "      <td>Thunderbolt</td>\n",
       "      <td>908660</td>\n",
       "      <td>Quasispecies</td>\n",
       "      <td>((..(((((........(.((..((.(.....(....).(((((((...</td>\n",
       "      <td>11</td>\n",
       "      <td>AUUGAUUAUAAAAAAAAAGACUGGUGUAAAAAAGAAAUAAUUAUAA...</td>\n",
       "      <td>GUUGGUAUAAAAAAAAAUGGUUGAUGAAAAAAAGAAAUAGUAUAUA...</td>\n",
       "      <td>392</td>\n",
       "    </tr>\n",
       "    <tr>\n",
       "      <th>93</th>\n",
       "      <td>94</td>\n",
       "      <td>Looking Back Again</td>\n",
       "      <td>726696</td>\n",
       "      <td>Brourd</td>\n",
       "      <td>(((..(((((((.....((((((...)))))).))))..((((((....</td>\n",
       "      <td>6</td>\n",
       "      <td>UCCAAUCGGUAUAAAAAUGUGAUAAAAUUAUAGGUACAACUCGCUA...</td>\n",
       "      <td>GCCAAGGUGUAAGAAAGAAUUAUAAAGUGAUUAUUACAAGAAGGUA...</td>\n",
       "      <td>389</td>\n",
       "    </tr>\n",
       "    <tr>\n",
       "      <th>84</th>\n",
       "      <td>85</td>\n",
       "      <td>Snowflake Necklace ( or v2.0 )</td>\n",
       "      <td>624517</td>\n",
       "      <td>Wobble Dynx</td>\n",
       "      <td>(((((((((((((((.(((((.((.....)).((.....)).((.....</td>\n",
       "      <td>15</td>\n",
       "      <td>GCGCGGCCCGCCCCCACCCCCAGGGAAAACCAGGGAAAACCACCGA...</td>\n",
       "      <td>AUAAUUAUAAUAAUAAGUAUCAGGGAAAACCAGGGAAAACCACCGA...</td>\n",
       "      <td>389</td>\n",
       "    </tr>\n",
       "    <tr>\n",
       "      <th>55</th>\n",
       "      <td>56</td>\n",
       "      <td>JF1</td>\n",
       "      <td>458607</td>\n",
       "      <td>Quasispecies</td>\n",
       "      <td>(((((((((((.(((((..(((((....((((((..(((((...((...</td>\n",
       "      <td>46</td>\n",
       "      <td>GUAUGAUUAUCACAUAUUGGUAUGAAAAUAUAUAGGUAUAAGAGUA...</td>\n",
       "      <td>GAAAAUAAUACAUAUAUUGGUGUGAAAAAUAAAAGGUUUUAAAAAA...</td>\n",
       "      <td>387</td>\n",
       "    </tr>\n",
       "    <tr>\n",
       "      <th>99</th>\n",
       "      <td>100</td>\n",
       "      <td>Teslagon</td>\n",
       "      <td>6050904</td>\n",
       "      <td>wawan151</td>\n",
       "      <td>......((.......((.((.......((.((.................</td>\n",
       "      <td>0</td>\n",
       "      <td>None</td>\n",
       "      <td>None</td>\n",
       "      <td>382</td>\n",
       "    </tr>\n",
       "    <tr>\n",
       "      <th>73</th>\n",
       "      <td>74</td>\n",
       "      <td>Mat - Cuboid</td>\n",
       "      <td>450940</td>\n",
       "      <td>mat747</td>\n",
       "      <td>(..((....((..((....((..((....(..((..((....((.....</td>\n",
       "      <td>26</td>\n",
       "      <td>CUGGCAAAACGUGGUAAAACGAAGGAAAACUGAUUGGGAAAACGUG...</td>\n",
       "      <td>CUGCUAAAACUUGAUAAAAGUUGAUAAAACUGAUUGUGAAAAUUUG...</td>\n",
       "      <td>380</td>\n",
       "    </tr>\n",
       "    <tr>\n",
       "      <th>5</th>\n",
       "      <td>6</td>\n",
       "      <td>Saccharomyces Cerevisiae - Difficulty Level 0</td>\n",
       "      <td>17811</td>\n",
       "      <td>Sneh</td>\n",
       "      <td>(((((((((((........)))).((...............))......</td>\n",
       "      <td>3252</td>\n",
       "      <td>CGGUGGCCGGCGAAAAAAAGCCGAGGGAAAAAAAAAAAAAACCGAA...</td>\n",
       "      <td>GCGGUGGCUUGGAAAAAAACGGGGGGGAAAAAAAAAAAAAACCAAA...</td>\n",
       "      <td>379</td>\n",
       "    </tr>\n",
       "    <tr>\n",
       "      <th>27</th>\n",
       "      <td>28</td>\n",
       "      <td>Still Life (Sunflower In A Vase)</td>\n",
       "      <td>404191</td>\n",
       "      <td>boganis</td>\n",
       "      <td>...((((..(((((.....)))))..(((((...)))))..(((((...</td>\n",
       "      <td>110</td>\n",
       "      <td>AAAGCUGAAAAUUCAAAAAGAGUUAACAUACAAAGUAUGAAAUAAC...</td>\n",
       "      <td>AAACGACAACGAGUGAAAAAUUCGAACGUGUAAAAUACGAAGUGCA...</td>\n",
       "      <td>378</td>\n",
       "    </tr>\n",
       "    <tr>\n",
       "      <th>72</th>\n",
       "      <td>73</td>\n",
       "      <td>Snowflake 4</td>\n",
       "      <td>415914</td>\n",
       "      <td>Ding</td>\n",
       "      <td>((((...))))(((((((....))(((((..(((((((....))((...</td>\n",
       "      <td>26</td>\n",
       "      <td>ACUCAAAGAGUGUAAGGGGAAACCGAUUCGACCGCCCCGAAAGGCC...</td>\n",
       "      <td>GCUCAAAGAGCCCUGCCCGAAAGGCCUGGAACCUCCGGGAAACCCA...</td>\n",
       "      <td>370</td>\n",
       "    </tr>\n",
       "    <tr>\n",
       "      <th>98</th>\n",
       "      <td>99</td>\n",
       "      <td>Shooting Star</td>\n",
       "      <td>913357</td>\n",
       "      <td>Brourd</td>\n",
       "      <td>(((((((((((((((((...(.(..((.(((.(((.((....).))...</td>\n",
       "      <td>2</td>\n",
       "      <td>UAUCGCCCCCGUGACAUAAAGAGUGCCGUGGACCGACCGAAAGCGC...</td>\n",
       "      <td>CUAUAUUCCCGUGUUCCAAGGAUUGAAGUGGACCGACCGAAAGCGC...</td>\n",
       "      <td>364</td>\n",
       "    </tr>\n",
       "    <tr>\n",
       "      <th>95</th>\n",
       "      <td>96</td>\n",
       "      <td>Cesspool</td>\n",
       "      <td>911841</td>\n",
       "      <td>hoglahoo</td>\n",
       "      <td>(..(..(....)..(((..(.(.(((...)))..)..)..)))..(...</td>\n",
       "      <td>4</td>\n",
       "      <td>GUGGAAGGAAACAAGAUUGGAGAGGCAAAGCCGGCGGCUGGUUAAU...</td>\n",
       "      <td>GUGCAAGGAAACAAGACUGCACACAUAAAAUGGGGGGGUGGUCAAG...</td>\n",
       "      <td>358</td>\n",
       "    </tr>\n",
       "    <tr>\n",
       "      <th>85</th>\n",
       "      <td>86</td>\n",
       "      <td>Methaqualone C16H14N2O Structural Representation</td>\n",
       "      <td>4891834</td>\n",
       "      <td>Malcolm</td>\n",
       "      <td>.......((((.((((.(((.(((....))).(((.(((....)))...</td>\n",
       "      <td>14</td>\n",
       "      <td>AAAAAAACCCCAGGGCAGGCAGGGAAAACCCAGGGAGGGAAAACCC...</td>\n",
       "      <td>AAAAAAAUUACAGUACAGCCAGUUGAAAAACAGACAGUAGAAAUAC...</td>\n",
       "      <td>355</td>\n",
       "    </tr>\n",
       "    <tr>\n",
       "      <th>50</th>\n",
       "      <td>51</td>\n",
       "      <td>medallion</td>\n",
       "      <td>1398974</td>\n",
       "      <td>mspano</td>\n",
       "      <td>((((((.((((((....)))))).(((....))).(((....)))....</td>\n",
       "      <td>55</td>\n",
       "      <td>CUCCCCAUCUGGGGAAACUCGGGAGUGGAAACGCACUGGAAACGGA...</td>\n",
       "      <td>CCCGACACGGGAGGAAACUUUUGACAGGAAACUGACAGGAAACUGA...</td>\n",
       "      <td>337</td>\n",
       "    </tr>\n",
       "  </tbody>\n",
       "</table>\n",
       "</div>"
      ],
      "text/plain": [
       "    Puzzle #                                       Puzzle Name  Eterna ID  \\\n",
       "62        63                                   Fractal star x5    3676828   \n",
       "52        53                  Documenting repetitious behavior    3194980   \n",
       "96        97                                      Hoglafractal    1632102   \n",
       "89        90                                           Gladius     944766   \n",
       "21        22                 This is ACTUALLY Small And Easy 6    3084759   \n",
       "79        80                                     Spiral of 5's     474410   \n",
       "75        76                                       Snowflake 3     415093   \n",
       "90        91                                       Thunderbolt     908660   \n",
       "93        94                                Looking Back Again     726696   \n",
       "84        85                    Snowflake Necklace ( or v2.0 )     624517   \n",
       "55        56                                               JF1     458607   \n",
       "99       100                                          Teslagon    6050904   \n",
       "73        74                                      Mat - Cuboid     450940   \n",
       "5          6     Saccharomyces Cerevisiae - Difficulty Level 0      17811   \n",
       "27        28                  Still Life (Sunflower In A Vase)     404191   \n",
       "72        73                                       Snowflake 4     415914   \n",
       "98        99                                     Shooting Star     913357   \n",
       "95        96                                          Cesspool     911841   \n",
       "85        86  Methaqualone C16H14N2O Structural Representation    4891834   \n",
       "50        51                                         medallion    1398974   \n",
       "\n",
       "          Author                                Secondary Structure  Solvers  \\\n",
       "62          Crul  .....((((((((..((((....))))..((((....))))..(((...       36   \n",
       "52     paramodic  .......((.........((.........((.........((.......       51   \n",
       "96      hoglahoo  ..(.((..(((((....(((((......))))))))))((((...(...        3   \n",
       "89  Quasispecies  (....)..(....(...(..(.(..(...(((.(((...((((......       11   \n",
       "21  steven123505  .................................................      136   \n",
       "79        Brourd  (....(((((...(((((...(((((....(((((...(((((......       21   \n",
       "75          Ding  (((((....)).((((((....)))..((((.((((..(((....)...       23   \n",
       "90  Quasispecies  ((..(((((........(.((..((.(.....(....).(((((((...       11   \n",
       "93        Brourd  (((..(((((((.....((((((...)))))).))))..((((((....        6   \n",
       "84   Wobble Dynx  (((((((((((((((.(((((.((.....)).((.....)).((.....       15   \n",
       "55  Quasispecies  (((((((((((.(((((..(((((....((((((..(((((...((...       46   \n",
       "99      wawan151  ......((.......((.((.......((.((.................        0   \n",
       "73        mat747  (..((....((..((....((..((....(..((..((....((.....       26   \n",
       "5           Sneh  (((((((((((........)))).((...............))......     3252   \n",
       "27       boganis  ...((((..(((((.....)))))..(((((...)))))..(((((...      110   \n",
       "72          Ding  ((((...))))(((((((....))(((((..(((((((....))((...       26   \n",
       "98        Brourd  (((((((((((((((((...(.(..((.(((.(((.((....).))...        2   \n",
       "95      hoglahoo  (..(..(....)..(((..(.(.(((...)))..)..)..)))..(...        4   \n",
       "85       Malcolm  .......((((.((((.(((.(((....))).(((.(((....)))...       14   \n",
       "50        mspano  ((((((.((((((....)))))).(((....))).(((....)))....       55   \n",
       "\n",
       "                                  Sample Solution (1)  \\\n",
       "62  AAAAAGGGUGUGAAAUAAGAAAACUUAAAUUAGGAAACUAAAAUUU...   \n",
       "52  AAAAAAAGGAAAAAAAAAGGAAAAAAAAGCCGAAAAAAAAGGAAAA...   \n",
       "96  ACGUCCAAGACUAAAAUGUUAUGAAAAAAUGAUUGGUUGGAGAAAU...   \n",
       "89  CGAAAGAAGAAAGGAAGGUGCGUUGAAAGAGAAUGCAAAAUUAGAA...   \n",
       "21  AAAAAAAAAAAAAAAAAAAAAAAAAAAAAAAAAAAAAAAAAAAAAA...   \n",
       "79  GGAAUGUGAGAAAGUGUAAAAGUGUAAAAAGUGGGAAAGUGGGAAA...   \n",
       "75  GGGGGGAAACCAGCGUUGGAAACAAAAGUACAGUACAACUGGAAAC...   \n",
       "90  AUUGAUUAUAAAAAAAAAGACUGGUGUAAAAAAGAAAUAAUUAUAA...   \n",
       "93  UCCAAUCGGUAUAAAAAUGUGAUAAAAUUAUAGGUACAACUCGCUA...   \n",
       "84  GCGCGGCCCGCCCCCACCCCCAGGGAAAACCAGGGAAAACCACCGA...   \n",
       "55  GUAUGAUUAUCACAUAUUGGUAUGAAAAUAUAUAGGUAUAAGAGUA...   \n",
       "99                                               None   \n",
       "73  CUGGCAAAACGUGGUAAAACGAAGGAAAACUGAUUGGGAAAACGUG...   \n",
       "5   CGGUGGCCGGCGAAAAAAAGCCGAGGGAAAAAAAAAAAAAACCGAA...   \n",
       "27  AAAGCUGAAAAUUCAAAAAGAGUUAACAUACAAAGUAUGAAAUAAC...   \n",
       "72  ACUCAAAGAGUGUAAGGGGAAACCGAUUCGACCGCCCCGAAAGGCC...   \n",
       "98  UAUCGCCCCCGUGACAUAAAGAGUGCCGUGGACCGACCGAAAGCGC...   \n",
       "95  GUGGAAGGAAACAAGAUUGGAGAGGCAAAGCCGGCGGCUGGUUAAU...   \n",
       "85  AAAAAAACCCCAGGGCAGGCAGGGAAAACCCAGGGAGGGAAAACCC...   \n",
       "50  CUCCCCAUCUGGGGAAACUCGGGAGUGGAAACGCACUGGAAACGGA...   \n",
       "\n",
       "                                  Sample Solution (2)  lengths  \n",
       "62  AAAAAUAUAUAUAAAAUUUGAAAGGAUAAUAAUGAAAGUUAAAUAU...      400  \n",
       "52  AAAAAAACGGAAAAAAAAGGAAAAAAAAAGGAAAAAAAAAGCAAAA...      400  \n",
       "96  ACGUCCAAUAGAUAAAAUGUAUGAAAAAAUAUAGUCUACAUCAAAU...      400  \n",
       "89  GGAAACAACAAAGCGAAUUGAGAUGAGAAUACAGUCAAAUUUAGAA...      400  \n",
       "21  UCACCCACCACCCACCAAACCCAAACAACCAAACUCCCACACACAC...      400  \n",
       "79  GAAAUGUGGAGAGGGUGGGAGGGUGGGAAGGGUGAGAGGGUGAGAG...      397  \n",
       "75  CCGCGGAAACGACCGGAUGAAAAUCAAAUCCAGAUCAAUACGAAAG...      393  \n",
       "90  GUUGGUAUAAAAAAAAAUGGUUGAUGAAAAAAAGAAAUAGUAUAUA...      392  \n",
       "93  GCCAAGGUGUAAGAAAGAAUUAUAAAGUGAUUAUUACAAGAAGGUA...      389  \n",
       "84  AUAAUUAUAAUAAUAAGUAUCAGGGAAAACCAGGGAAAACCACCGA...      389  \n",
       "55  GAAAAUAAUACAUAUAUUGGUGUGAAAAAUAAAAGGUUUUAAAAAA...      387  \n",
       "99                                               None      382  \n",
       "73  CUGCUAAAACUUGAUAAAAGUUGAUAAAACUGAUUGUGAAAAUUUG...      380  \n",
       "5   GCGGUGGCUUGGAAAAAAACGGGGGGGAAAAAAAAAAAAAACCAAA...      379  \n",
       "27  AAACGACAACGAGUGAAAAAUUCGAACGUGUAAAAUACGAAGUGCA...      378  \n",
       "72  GCUCAAAGAGCCCUGCCCGAAAGGCCUGGAACCUCCGGGAAACCCA...      370  \n",
       "98  CUAUAUUCCCGUGUUCCAAGGAUUGAAGUGGACCGACCGAAAGCGC...      364  \n",
       "95  GUGCAAGGAAACAAGACUGCACACAUAAAAUGGGGGGGUGGUCAAG...      358  \n",
       "85  AAAAAAAUUACAGUACAGCCAGUUGAAAAACAGACAGUAGAAAUAC...      355  \n",
       "50  CCCGACACGGGAGGAAACUUUUGACAGGAAACUGACAGGAAACUGA...      337  "
      ]
     },
     "execution_count": 222,
     "metadata": {},
     "output_type": "execute_result"
    }
   ],
   "source": [
    "df_eterna_100.sort_values('lengths', ascending=False).head(-20)"
   ]
  },
  {
   "cell_type": "code",
   "execution_count": 6,
   "id": "a9799f5c-9a12-4d84-bb1b-58544ff84ab2",
   "metadata": {},
   "outputs": [],
   "source": [
    "# df_eterna_100.to_csv('eterna100-puzzles.csv', index=False)"
   ]
  },
  {
   "cell_type": "code",
   "execution_count": 7,
   "id": "91f9a3a0-a2e9-4e06-af5b-c265c8d5f888",
   "metadata": {},
   "outputs": [],
   "source": [
    "# \n",
    "solved_puzzles = [0, 1, 2, 3, 7, 9, 10, 12, 16, 18, 19, 20, 21, 23, 25, 27, 31, 32, 39, 41, 42, 44, 45, 47, 52, 53, 54, 83, 84]"
   ]
  },
  {
   "cell_type": "markdown",
   "id": "8c168236-d0e3-4725-9f2e-786bf37e71b7",
   "metadata": {},
   "source": [
    "# Simple Hairpin"
   ]
  },
  {
   "cell_type": "code",
   "execution_count": null,
   "id": "f9ba2498-e072-4afa-a135-1490fcb183fd",
   "metadata": {},
   "outputs": [],
   "source": [
    "# 52, 31, 27"
   ]
  },
  {
   "cell_type": "code",
   "execution_count": 206,
   "id": "2b8e60b9-6c44-4e4b-8de1-e877adcd84e2",
   "metadata": {},
   "outputs": [
    {
     "name": "stdout",
     "output_type": "stream",
     "text": [
      "Human Integrated Adenovirus - Difficulty Level 0\n",
      "((((((((((((((.((((((...........((((((((((((.....((((((((....(((((((((((((........))))))))))....))))))))....))))))....)))))...((((((.......))))))))))............)))))).))))....))))))...))))...\n",
      "GGGGGGGGGGGGUGAGUGUGGAAAAAAAAAAACCCCGGCGGGGGAAAAAGGCGGGGCAAAAGGGGGGGGGGGGGAAAAAAAACCCCCCCCCCAAAACCCGCCCCAAAAGCCCCCAAAACCGCCAAAGCCCCCAAAAAAAGGGGGCGGGGAAAAAAAAAAAACCGCGCACGCCAAAACCUCCCAAACCCCAAA\n"
     ]
    },
    {
     "data": {
      "text/plain": [
       "192"
      ]
     },
     "execution_count": 206,
     "metadata": {},
     "output_type": "execute_result"
    }
   ],
   "source": [
    "eterna_id = 20111 # Simple Hairpin\n",
    "eterna_id = 15819 # Prion Pseudoknot - Difficulty Level 0\n",
    "# secundary_structure, final_sequence = get_puzzle(eterna_id=eterna_id)\n",
    "# El 5 parece complicado\n",
    "secundary_structure, final_sequence = get_puzzle(df_eterna_100, idx=3, solution=1)\n",
    "len(secundary_structure)"
   ]
  },
  {
   "cell_type": "code",
   "execution_count": 209,
   "id": "477e43ef-6650-4186-89a6-658a0403b083",
   "metadata": {},
   "outputs": [
    {
     "name": "stdout",
     "output_type": "stream",
     "text": [
      "((((((((((((((.((((((...........((((((((((((.....((((((((....(((((((((((((........))))))))))....))))))))....))))))....)))))...((((((.......))))))))))............)))))).))))....))))))...))))...\n"
     ]
    }
   ],
   "source": [
    "print(secundary_structure)"
   ]
  },
  {
   "cell_type": "code",
   "execution_count": null,
   "id": "b232fc9d-cd87-439c-8b66-7f8fe54e6b13",
   "metadata": {},
   "outputs": [],
   "source": []
  },
  {
   "cell_type": "code",
   "execution_count": 21,
   "id": "e33780de-2e90-4ed7-b677-e1b28bda1065",
   "metadata": {},
   "outputs": [
    {
     "data": {
      "text/plain": [
       "-154.60000610351562"
      ]
     },
     "execution_count": 21,
     "metadata": {},
     "output_type": "execute_result"
    }
   ],
   "source": [
    "RNA.eval_structure_simple(\n",
    "    final_sequence,\n",
    "    secundary_structure\n",
    ")"
   ]
  },
  {
   "cell_type": "code",
   "execution_count": 23,
   "id": "11ae5e96-9958-4cbe-9638-7cce6947cd60",
   "metadata": {},
   "outputs": [],
   "source": [
    "env = RNAInvEnvironment(secundary_structure)"
   ]
  },
  {
   "cell_type": "code",
   "execution_count": 180,
   "id": "da909911-abec-4bc2-a92a-13bb41b7382e",
   "metadata": {},
   "outputs": [
    {
     "data": {
      "text/plain": [
       "37.5"
      ]
     },
     "execution_count": 180,
     "metadata": {},
     "output_type": "execute_result"
    }
   ],
   "source": [
    "RNA.eval_structure_simple(\n",
    "    env.sample_random_action(),\n",
    "    secundary_structure\n",
    ")"
   ]
  },
  {
   "cell_type": "code",
   "execution_count": 170,
   "id": "24ccefde-b6a8-477e-8397-7a1175051c05",
   "metadata": {},
   "outputs": [
    {
     "data": {
      "text/plain": [
       "188.60000610351562"
      ]
     },
     "execution_count": 170,
     "metadata": {},
     "output_type": "execute_result"
    }
   ],
   "source": [
    "RNA.eval_structure_simple(\n",
    "    get_initial_guess(secundary_structure, bonds_initial_type='low_energy_bonds'),\n",
    "    secundary_structure\n",
    ")"
   ]
  },
  {
   "cell_type": "code",
   "execution_count": 162,
   "id": "ce0bdd03-5b8d-414f-87f4-b7faf282e381",
   "metadata": {},
   "outputs": [
    {
     "name": "stdout",
     "output_type": "stream",
     "text": [
      "All As\n"
     ]
    },
    {
     "data": {
      "text/plain": [
       "286.5"
      ]
     },
     "execution_count": 162,
     "metadata": {},
     "output_type": "execute_result"
    }
   ],
   "source": [
    "RNA.eval_structure_simple(\n",
    "    get_initial_guess(secundary_structure, bonds_initial_type='all_As'),\n",
    "    secundary_structure\n",
    ")"
   ]
  },
  {
   "cell_type": "code",
   "execution_count": 27,
   "id": "4dc48029-30e2-4b9a-8f79-854bae93d977",
   "metadata": {},
   "outputs": [],
   "source": [
    "# 99 --> 382\n",
    "# 98 --> 364\n",
    "# 84 --> 389"
   ]
  },
  {
   "cell_type": "code",
   "execution_count": 10,
   "id": "a9654ae8-191f-4a25-a754-2500303207ed",
   "metadata": {},
   "outputs": [
    {
     "data": {
      "text/plain": [
       "389"
      ]
     },
     "execution_count": 10,
     "metadata": {},
     "output_type": "execute_result"
    }
   ],
   "source": [
    "len(secundary_structure)\n",
    "# 364\n",
    "# "
   ]
  },
  {
   "cell_type": "code",
   "execution_count": 14,
   "id": "5b06e516-17df-4073-9a68-8dcef0267bec",
   "metadata": {
    "tags": []
   },
   "outputs": [
    {
     "name": "stdout",
     "output_type": "stream",
     "text": [
      "high energy bonds pairs list\n",
      "GGCCGGCGCGCGCGCGCGGCGCCGUAGACCGUGCCCUCAGCCGCAAGGGGCAGGAAGAGCCCGCCCCACGCUCGCCGUGGGAUUCCCCCUGCGCGCGCCCACUGCGCCAGACUGGCCGGCUGCCGUGGCUAUGCCGCCGCAGAGGACGCGCCGGCACUCGGCCAGGCCGUCCCGCGCGGUCGCAUCACGUGCUUCACGCACCCUACGGGCGCGAAAGGCUCGGCCGCCGCAGUCCGGCGGCCGGCCAGGACGGCGCUAAAGGCCCCCCUAUGGUCGGCUACCGACCGACACGGACGGCCCCGGGUUGUCCGGGGCGCACCGAAGAGGGGCGUGGGGCUCCCCGGCGGGCCUUAUCGGCCCGCGUCGGUGCGCCUGCGCGCGCGCCGGCC\n",
      "Found alternative sequence:60975609756195\n",
      "GCGCGGCCCGCCCCCACCCCCAGGGAAAACCAGGGAAAACCACCGAAAAGGAGCGAAAAGCCGCGAAAAGCAGGGGGACGGGAAAACCGAGCCGCACCGAACAGGACCGAAAAGGAGGGAAAACCAGCGAAAAGCAGCGAAAAGCAGCGGCAGCCGAAAAGGCACGCGCACCGAAAAGGAGGGAAAACCAGGGAAAACCAGCGAAAAGCAGCGAAAAGCAGCGCGAGGGGAAAACCCAGGGCCACCGAAAAGGACCGAAAAGGAGGGAAAACCAGCGAAAAGCAGCGAAAAGCAGGCCCAGCGGAAAACGCACCGGCAGGGAAAACCAGGGAAAACCACCGAAAAGGAGCGAAAAGCAGCGAAAAGCAGCCGGAGGGGGCGGGCCGCGC\n",
      "-154.10000610351562\n",
      "\n",
      "1.0\n"
     ]
    }
   ],
   "source": [
    "# start_sequence = get_initial_guess(secundary_structure, bonds_initial_type='all_As')\n",
    "start_sequence = get_initial_guess(secundary_structure, bonds_initial_type='high_energy_bonds')\n",
    "# start_sequence = get_initial_guess(secundary_structure, bonds_initial_type='high_energy_bonds')\n",
    "print(start_sequence)\n",
    "energies, free_energies, sequences, sec_struct_metric = move_to_optimal(start_sequence, final_sequence, secundary_structure)"
   ]
  },
  {
   "cell_type": "code",
   "execution_count": 15,
   "id": "4e439df3-a5c7-4b71-ae23-a46a5c4f781e",
   "metadata": {},
   "outputs": [
    {
     "data": {
      "image/png": "[encoded data removed]",
      "text/plain": [
       "<Figure size 432x288 with 1 Axes>"
      ]
     },
     "metadata": {
      "needs_background": "light"
     },
     "output_type": "display_data"
    },
    {
     "data": {
      "image/png": "[encoded data removed]",
      "text/plain": [
       "<Figure size 432x288 with 1 Axes>"
      ]
     },
     "metadata": {
      "needs_background": "light"
     },
     "output_type": "display_data"
    }
   ],
   "source": [
    "plt.plot(energies)\n",
    "plt.show()\n",
    "plt.plot(sec_struct_metric)\n",
    "plt.show()"
   ]
  },
  {
   "cell_type": "code",
   "execution_count": null,
   "id": "eb770295-6f22-4a17-9ae2-ea81737257e6",
   "metadata": {},
   "outputs": [],
   "source": []
  },
  {
   "cell_type": "code",
   "execution_count": 413,
   "id": "f205d7e6-f2bf-499c-98f3-d5ae8b754221",
   "metadata": {},
   "outputs": [
    {
     "data": {
      "image/png": "[encoded data removed]",
      "text/plain": [
       "<Figure size 432x288 with 1 Axes>"
      ]
     },
     "metadata": {
      "needs_background": "light"
     },
     "output_type": "display_data"
    }
   ],
   "source": [
    "plt.plot(free_energies)\n",
    "plt.show()"
   ]
  },
  {
   "cell_type": "markdown",
   "id": "a1f44555-e99c-4c89-9f0e-3207974cc327",
   "metadata": {},
   "source": [
    "# Shooting Star"
   ]
  },
  {
   "cell_type": "code",
   "execution_count": 146,
   "id": "ea7b4188-13b6-4872-b42c-7f37f0ed2a10",
   "metadata": {},
   "outputs": [
    {
     "name": "stdout",
     "output_type": "stream",
     "text": [
      "Shooting Star\n",
      "(((((((((((((((((...(.(..((.(((.(((.((....).))).)))).).)..))..))))))).(((((..(.(..((.(((.(((((.(((.((((.((....).)))).))))).))).)))).).)..))..)(....)..))))(((((((((...))))).(((((...)))))(.(....).).)))).)))).((((.((((...(((((((...))))))).(((((...)))))))))(((((((...))))))).(((((...)))))))))((((..(....)(..(..(..(.(.(((.((((.((....).)))).)))).)..)..).)..))))).)))))).\n",
      "UAUCGCCCCCGUGACAUAAAGAGUGCCGUGGACCGACCGAAAGCGCGCGCCAGGAGUGCCGGAUGUCACACUCCCUGGACUGGCGAGGACCUGGACAGACCUGACCGAAAGCGCAGCGCUGCGCAGCGCCUGGACUGGCUGGCGAAAGAAGGAGCUCCGCUUAAAAUAAGCACAUACAAAGUAUGGGGGAAACGCAGGAGAGGGGACUGCAGGGGAAAUAUAAAUAAAAUUUAUAAGCUUAAAAUAAGCCCCCCCUUUUAAAAUAAAAGGACCAGGAAACCUGGGCAGGAGCAACGAAAGGUGGUUGUGGAUGAGGACCGGACCGAAAGCGCCGCGCCUGAGGCUGCUCUGCGCUCAGCGAUAA\n"
     ]
    }
   ],
   "source": [
    "Etherna_id = 913357\n",
    "secundary_structure, final_sequence = get_puzzle_by_id(Etherna_id)"
   ]
  },
  {
   "cell_type": "code",
   "execution_count": 210,
   "id": "1c41c151-785f-47e4-accd-737cc729f1d8",
   "metadata": {},
   "outputs": [
    {
     "data": {
      "text/plain": [
       "192"
      ]
     },
     "execution_count": 210,
     "metadata": {},
     "output_type": "execute_result"
    }
   ],
   "source": [
    "len(secundary_structure)"
   ]
  },
  {
   "cell_type": "code",
   "execution_count": 147,
   "id": "4c0178d4-266e-4590-878e-4b0f1fa06e60",
   "metadata": {},
   "outputs": [],
   "source": [
    "start_sequence = get_initial_guess(secundary_structure)"
   ]
  },
  {
   "cell_type": "code",
   "execution_count": 148,
   "id": "9e43c3bc-4f80-46bd-8f8f-52bc09865024",
   "metadata": {},
   "outputs": [
    {
     "data": {
      "text/plain": [
       "57.099998474121094"
      ]
     },
     "execution_count": 148,
     "metadata": {},
     "output_type": "execute_result"
    }
   ],
   "source": [
    "energy = RNA.eval_structure_simple(start_sequence, secundary_structure)\n",
    "energy"
   ]
  },
  {
   "cell_type": "code",
   "execution_count": 149,
   "id": "d76ebebd-a510-4fde-814c-1fcb298d507a",
   "metadata": {},
   "outputs": [
    {
     "data": {
      "text/plain": [
       "'..((((((((....(((((((.......((((........)))))))))))((((((((...........))))))))....(((((((..((.((.((.(((((((..((((.((((((((...............(((((((((((..........(((((...)))))((((((...)))))).))))))).))))..((((.((((((...((((((((((...))))))))))........(((((((((((....))))))))))))))))).)))).......)).)))))).)))).))))))).)).)).)))))))))...((((..((((...)))).))))..)))))))).'"
      ]
     },
     "execution_count": 149,
     "metadata": {},
     "output_type": "execute_result"
    }
   ],
   "source": [
    "sec_struct, energy = RNA.fold(start_sequence)\n",
    "sec_struct"
   ]
  },
  {
   "cell_type": "code",
   "execution_count": 150,
   "id": "32bd3d7b-b2c4-456c-a9e9-0f826081ba84",
   "metadata": {},
   "outputs": [
    {
     "data": {
      "text/plain": [
       "-125.19999694824219"
      ]
     },
     "execution_count": 150,
     "metadata": {},
     "output_type": "execute_result"
    }
   ],
   "source": [
    "energy"
   ]
  },
  {
   "cell_type": "code",
   "execution_count": 151,
   "id": "e00d1f8b-4e42-4523-9f55-febd07c46dab",
   "metadata": {},
   "outputs": [
    {
     "name": "stdout",
     "output_type": "stream",
     "text": [
      "-4.50000004768371664\r"
     ]
    },
    {
     "ename": "KeyboardInterrupt",
     "evalue": "",
     "output_type": "error",
     "traceback": [
      "\u001b[0;31m---------------------------------------------------------------------------\u001b[0m",
      "\u001b[0;31mKeyboardInterrupt\u001b[0m                         Traceback (most recent call last)",
      "\u001b[0;32m<ipython-input-151-6cfe62f60eb3>\u001b[0m in \u001b[0;36m<module>\u001b[0;34m\u001b[0m\n\u001b[0;32m----> 1\u001b[0;31m \u001b[0menergies\u001b[0m\u001b[0;34m,\u001b[0m \u001b[0mfree_energies\u001b[0m\u001b[0;34m,\u001b[0m \u001b[0msequences\u001b[0m \u001b[0;34m=\u001b[0m \u001b[0mmove_to_optimal\u001b[0m\u001b[0;34m(\u001b[0m\u001b[0mstart_sequence\u001b[0m\u001b[0;34m,\u001b[0m \u001b[0mfinal_sequence\u001b[0m\u001b[0;34m,\u001b[0m \u001b[0msecundary_structure\u001b[0m\u001b[0;34m,\u001b[0m \u001b[0mcalc_free_energy\u001b[0m\u001b[0;34m=\u001b[0m\u001b[0;32mTrue\u001b[0m\u001b[0;34m)\u001b[0m\u001b[0;34m\u001b[0m\u001b[0;34m\u001b[0m\u001b[0m\n\u001b[0m",
      "\u001b[0;32m~/rna_inv_folding/RNA_helper.py\u001b[0m in \u001b[0;36mmove_to_optimal\u001b[0;34m(start_sequence, final_sequence, secundary_structure, calc_free_energy)\u001b[0m\n\u001b[1;32m     59\u001b[0m \u001b[0;34m\u001b[0m\u001b[0m\n\u001b[1;32m     60\u001b[0m         \u001b[0;32mif\u001b[0m \u001b[0mcalc_free_energy\u001b[0m\u001b[0;34m:\u001b[0m\u001b[0;34m\u001b[0m\u001b[0;34m\u001b[0m\u001b[0m\n\u001b[0;32m---> 61\u001b[0;31m             \u001b[0mactual_secundary_structure\u001b[0m\u001b[0;34m,\u001b[0m \u001b[0mfree_energy\u001b[0m \u001b[0;34m=\u001b[0m \u001b[0mRNA\u001b[0m\u001b[0;34m.\u001b[0m\u001b[0mfold\u001b[0m\u001b[0;34m(\u001b[0m\u001b[0msequence\u001b[0m\u001b[0;34m)\u001b[0m\u001b[0;34m\u001b[0m\u001b[0;34m\u001b[0m\u001b[0m\n\u001b[0m\u001b[1;32m     62\u001b[0m             \u001b[0mfree_energies\u001b[0m\u001b[0;34m.\u001b[0m\u001b[0mappend\u001b[0m\u001b[0;34m(\u001b[0m\u001b[0mfree_energy\u001b[0m\u001b[0;34m)\u001b[0m\u001b[0;34m\u001b[0m\u001b[0;34m\u001b[0m\u001b[0m\n\u001b[1;32m     63\u001b[0m             \u001b[0;32mif\u001b[0m \u001b[0mactual_secundary_structure\u001b[0m \u001b[0;34m==\u001b[0m \u001b[0msecundary_structure\u001b[0m\u001b[0;34m:\u001b[0m\u001b[0;34m\u001b[0m\u001b[0;34m\u001b[0m\u001b[0m\n",
      "\u001b[0;31mKeyboardInterrupt\u001b[0m: "
     ]
    }
   ],
   "source": [
    "energies, free_energies, sequences = move_to_optimal(start_sequence, final_sequence, secundary_structure, calc_free_energy=True)"
   ]
  },
  {
   "cell_type": "code",
   "execution_count": 133,
   "id": "417024b3-fb42-4530-9312-2084b1bab8b6",
   "metadata": {},
   "outputs": [
    {
     "data": {
      "image/png": "[encoded data removed]",
      "text/plain": [
       "<Figure size 432x288 with 1 Axes>"
      ]
     },
     "metadata": {
      "needs_background": "light"
     },
     "output_type": "display_data"
    }
   ],
   "source": [
    "plt.plot(energies)\n",
    "plt.show()"
   ]
  },
  {
   "cell_type": "code",
   "execution_count": 134,
   "id": "29d0bda5-43e0-4591-bafa-a5ebe1388ee6",
   "metadata": {},
   "outputs": [
    {
     "data": {
      "image/png": "[encoded data removed]",
      "text/plain": [
       "<Figure size 432x288 with 1 Axes>"
      ]
     },
     "metadata": {
      "needs_background": "light"
     },
     "output_type": "display_data"
    }
   ],
   "source": [
    "plt.plot(free_energies)\n",
    "plt.show()"
   ]
  },
  {
   "cell_type": "code",
   "execution_count": null,
   "id": "c977effd-f590-4656-a3a6-256afeea0e3e",
   "metadata": {},
   "outputs": [],
   "source": []
  }
 ],
 "metadata": {
  "kernelspec": {
   "display_name": "Python 3",
   "language": "python",
   "name": "python3"
  },
  "language_info": {
   "codemirror_mode": {
    "name": "ipython",
    "version": 3
   },
   "file_extension": ".py",
   "mimetype": "text/x-python",
   "name": "python",
   "nbconvert_exporter": "python",
   "pygments_lexer": "ipython3",
   "version": "3.7.3"
  }
 },
 "nbformat": 4,
 "nbformat_minor": 5
}
