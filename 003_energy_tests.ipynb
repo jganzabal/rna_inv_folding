{
 "cells": [
  {
   "cell_type": "code",
   "execution_count": 1,
   "id": "a64ace81-bb8b-4ec6-9fa9-0a2f2e6d6f14",
   "metadata": {},
   "outputs": [],
   "source": [
    "%load_ext autoreload\n",
    "%autoreload 2"
   ]
  },
  {
   "cell_type": "code",
   "execution_count": 2,
   "id": "4e00ca8a-82c8-44ad-bf4e-72ab9ed372a0",
   "metadata": {},
   "outputs": [],
   "source": [
    "import RNA\n",
    "from IPython.display import SVG\n",
    "import numpy as np\n",
    "import pandas as pd\n",
    "from matplotlib import pyplot as plt\n",
    "from RNA_helper import replace_char_towards_optimal, move_to_optimal, get_initial_guess, get_puzzle, secundary_structures_metric"
   ]
  },
  {
   "cell_type": "code",
   "execution_count": 3,
   "id": "b16b6feb-ad03-4d68-a06a-6fc7211270c2",
   "metadata": {},
   "outputs": [],
   "source": [
    "df_eterna_100 = pd.read_csv('eterna100-puzzles.txt', delimiter='\\t')"
   ]
  },
  {
   "cell_type": "code",
   "execution_count": 4,
   "id": "f38c27d3-2305-47b7-b939-e18a97023922",
   "metadata": {},
   "outputs": [
    {
     "name": "stdout",
     "output_type": "stream",
     "text": [
      "..(.(..((((((....))))))..).)......((((..(((.((((((.(((....)))))....)))))))))))..((((((((....))))))))..\n",
      "..(.(..((((((....))))))..).)......((((..(((.(((((((((....)))))....)))))))))))..((((((((....))))))))..\n"
     ]
    }
   ],
   "source": [
    "print('..(.(..((((((....))))))..).)......((((..(((.((((((.(((....)))))....)))))))))))..((((((((....))))))))..')\n",
    "print(df_eterna_100.loc[4]['Secondary Structure'])"
   ]
  },
  {
   "cell_type": "code",
   "execution_count": 5,
   "id": "f42f78c7-b50e-43d8-b376-465903585cce",
   "metadata": {},
   "outputs": [],
   "source": [
    "df_eterna_100.loc[5, 'Secondary Structure'] = '(((((((((((........)))).((...............))....(((((.......))))))))))))....(((((((..((((........))))(((.............)))....(((((.......))))))))))))....(((((((..((((........))))((((((.......))))))....(((((.......))))))))))))....(((((((..((((........))))((((((.......))))))....(((((.......))))))))))))....(((((((...(((........)))(((((((.......)))))))...(((((.......))))))))))))....'"
   ]
  },
  {
   "cell_type": "code",
   "execution_count": 6,
   "id": "a9799f5c-9a12-4d84-bb1b-58544ff84ab2",
   "metadata": {},
   "outputs": [],
   "source": [
    "df_eterna_100.to_csv('eterna100-puzzles.csv', index=False)"
   ]
  },
  {
   "cell_type": "code",
   "execution_count": 7,
   "id": "91f9a3a0-a2e9-4e06-af5b-c265c8d5f888",
   "metadata": {},
   "outputs": [],
   "source": [
    "# \n",
    "solved_puzzles = [0, 1, 2, 3, 7, 9, 10, 12, 16, 18, 19, 20, 21, 23, 25, 27, 31, 32, 39, 41, 42, 44, 45, 47, 52, 53, 54, 83, 84]"
   ]
  },
  {
   "cell_type": "markdown",
   "id": "8c168236-d0e3-4725-9f2e-786bf37e71b7",
   "metadata": {},
   "source": [
    "# Simple Hairpin"
   ]
  },
  {
   "cell_type": "code",
   "execution_count": 9,
   "id": "2b8e60b9-6c44-4e4b-8de1-e877adcd84e2",
   "metadata": {},
   "outputs": [
    {
     "name": "stdout",
     "output_type": "stream",
     "text": [
      "Simple Hairpin\n",
      "(((((......)))))\n",
      "GGGGGGGGGGGCCCCC\n"
     ]
    }
   ],
   "source": [
    "eterna_id = 20111 # Simple Hairpin\n",
    "eterna_id = 15819 # Prion Pseudoknot - Difficulty Level 0\n",
    "# secundary_structure, final_sequence = get_puzzle(eterna_id=eterna_id)\n",
    "# El 5 parece complicado\n",
    "secundary_structure, final_sequence = get_puzzle(df_eterna_100, idx=0, solution=1)"
   ]
  },
  {
   "cell_type": "code",
   "execution_count": 54,
   "id": "497f029c-f6f3-445c-852e-2851bc42044f",
   "metadata": {},
   "outputs": [],
   "source": [
    "f1 = '(((((((((((........)))).((...............))....(((((.......))))))))))))....(((((((..((((........))))(((.............)))....(((((.......))))))))))))....(((((((..((((........))))((((((.......))))))....(((((.......))))))))))))....(((((((..((((........))))((((((.......))))))....(((((.......))))))))))))....(((((((...(((........)))(((((((.......)))))))...(((((.......))))))))))))....'"
   ]
  },
  {
   "cell_type": "code",
   "execution_count": 55,
   "id": "8816c532-afb1-4685-bacb-c55cc4fafacb",
   "metadata": {},
   "outputs": [],
   "source": [
    "f2 = '(((((((((((........)))).((...............))....(((((.......))))))))))))....(((((((..((((........))))(((.............)))....(((((.......))))))))))))....(((((((..((((........))))((((((.......))))))....(((((.......))))))))))))....(((((((..((((........))))((((((.......))))))....(((((.......))))))))))))....(((((((..((((........))))((((((.......))))))....(((((.......))))))))))))....'"
   ]
  },
  {
   "cell_type": "code",
   "execution_count": null,
   "id": "aadd67ab-012c-40b9-bf0b-2fa17dfafdc0",
   "metadata": {},
   "outputs": [],
   "source": [
    "'(((((((((((........)))).((...............))....(((((.......))))))))))))....(((((((..((((........))))(((.............)))....(((((.......))))))))))))....(((((((..((((........))))((((((.......))))))....(((((.......))))))))))))....(((((((..((((........))))((((((.......))))))....(((((.......))))))))))))....(((((((...(((........)))(((((((.......)))))))...(((((.......))))))))))))....'\n",
    "'(((((((((((........)))).((...............))....(((((.......))))))))))))....(((((((..((((........))))(((.............)))....(((((.......))))))))))))....(((((((..((((........))))((((((.......))))))....(((((.......))))))))))))....(((((((..((((........))))((((((.......))))))....(((((.......))))))))))))....(((((((..((((........))))((((((.......))))))....(((((.......))))))))))))....'"
   ]
  },
  {
   "cell_type": "code",
   "execution_count": 59,
   "id": "6d47d8b0-47bb-4a2a-8353-026725acc690",
   "metadata": {},
   "outputs": [
    {
     "data": {
      "text/plain": [
       "(379, 379)"
      ]
     },
     "execution_count": 59,
     "metadata": {},
     "output_type": "execute_result"
    }
   ],
   "source": [
    "len(f1), len(f2)"
   ]
  },
  {
   "cell_type": "code",
   "execution_count": 58,
   "id": "be9f6476-a8fa-429a-95d3-e4fc158f7a99",
   "metadata": {},
   "outputs": [
    {
     "data": {
      "text/plain": [
       "0.9902912621359223"
      ]
     },
     "execution_count": 58,
     "metadata": {},
     "output_type": "execute_result"
    }
   ],
   "source": [
    "secundary_structures_metric(f1, f2)"
   ]
  },
  {
   "cell_type": "code",
   "execution_count": null,
   "id": "b5581f3f-1996-4fdd-b4f9-7d5d0c1a4739",
   "metadata": {},
   "outputs": [],
   "source": [
    "filename = 'images/test.svg'\n",
    "RNA.svg_rna_plot(final_sequence, secundary_structure, filename)\n",
    "HTML(filename=filename)"
   ]
  },
  {
   "cell_type": "code",
   "execution_count": 535,
   "id": "5b06e516-17df-4073-9a68-8dcef0267bec",
   "metadata": {
    "tags": []
   },
   "outputs": [
    {
     "name": "stdout",
     "output_type": "stream",
     "text": [
      "low energy bonds pairs list\n",
      "GGUUGGUUUGUGGGUAUUUUUAGUAAAAAGUAGUAAAAAGUAGUAAAAAGUAUUAAAAAGGAGGAAAAAUUAGGGGGAGGGAAAAAUUUAGUGGUAUUAAAAAGGAGGAAAAAUUAGUAAAAAGUAGGAAAAAUUAUUAAAAAGGAGUUGUAUGGAAAAAUUGAUUUUUAUGAAAAAUGAUGAAAAAUGAGUAAAAAGUAGUAAAAAGUAGGAAAAAUUAGGGGGAUUUAAAAAGGGAUUGGUAUUAAAAAGGAUGAAAAAUGAGGAAAAAUUAUUAAAAAGGAUGAAAAAUGAGUUGGAUGUAAAAAGUGAUUUGGAGUAAAAAGUAUGAAAAAUGAGGAAAAAUUAGGAAAAAUUAUUAAAAAGGAUUGGGAGUUUGUGGGUUGGUU\n",
      "Found alternative sequence:784313725490258\n",
      "GCGCGGCCCGCCCCCACCCCCAGGGAAAACCAGGGAAAACCACCGAAAAGGAGCGAAAAGCAGCGAAAAGCAGGGGGACGGGAAAACCGAGCCGCACCGAAAAGGACCGAAAAGGAGGGAAAACCAGCGAAAAGCAGCGAAAAGCAGCGGCAGCCGAAAAGGCACGCGCACCGAAAAGGAGGGAAAACCAGGAAAAACCAGCGAAAAGCAGCGAAAAGCAGCGCGAGGGGAAAACCCAGGGCCACCGAAAAGGACCGAAAAGGAGGGAAAACCAGCGAAAAGCAGCGAAAAGCAGGCCCAGCGGAAAACGCACCGGCAGGGAAAACCAGGGAAAACCACCGAAAAGGAGCGAAAAGCAGCAAAAAGCAGCCGGAGGGGGCGGGCCGCGC\n",
      "-152.39999389648438\n",
      "\n",
      "1.0\n"
     ]
    }
   ],
   "source": [
    "# start_sequence = get_initial_guess(secundary_structure, bonds_initial_type='all_As')\n",
    "start_sequence = get_initial_guess(secundary_structure, bonds_initial_type='low_energy_bonds')\n",
    "# start_sequence = get_initial_guess(secundary_structure, bonds_initial_type='high_energy_bonds')\n",
    "print(start_sequence)\n",
    "energies, free_energies, sequences, sec_struct_metric = move_to_optimal(start_sequence, final_sequence, secundary_structure)"
   ]
  },
  {
   "cell_type": "code",
   "execution_count": 536,
   "id": "4e439df3-a5c7-4b71-ae23-a46a5c4f781e",
   "metadata": {},
   "outputs": [
    {
     "data": {
      "image/png": "[encoded data removed]",
      "text/plain": [
       "<Figure size 432x288 with 1 Axes>"
      ]
     },
     "metadata": {
      "needs_background": "light"
     },
     "output_type": "display_data"
    },
    {
     "data": {
      "image/png": "[encoded data removed]",
      "text/plain": [
       "<Figure size 432x288 with 1 Axes>"
      ]
     },
     "metadata": {
      "needs_background": "light"
     },
     "output_type": "display_data"
    }
   ],
   "source": [
    "plt.plot(energies)\n",
    "plt.show()\n",
    "plt.plot(sec_struct_metric)\n",
    "plt.show()"
   ]
  },
  {
   "cell_type": "code",
   "execution_count": null,
   "id": "eb770295-6f22-4a17-9ae2-ea81737257e6",
   "metadata": {},
   "outputs": [],
   "source": []
  },
  {
   "cell_type": "code",
   "execution_count": 413,
   "id": "f205d7e6-f2bf-499c-98f3-d5ae8b754221",
   "metadata": {},
   "outputs": [
    {
     "data": {
      "image/png": "[encoded data removed]",
      "text/plain": [
       "<Figure size 432x288 with 1 Axes>"
      ]
     },
     "metadata": {
      "needs_background": "light"
     },
     "output_type": "display_data"
    }
   ],
   "source": [
    "plt.plot(free_energies)\n",
    "plt.show()"
   ]
  },
  {
   "cell_type": "markdown",
   "id": "a1f44555-e99c-4c89-9f0e-3207974cc327",
   "metadata": {},
   "source": [
    "# Shooting Star"
   ]
  },
  {
   "cell_type": "code",
   "execution_count": 146,
   "id": "ea7b4188-13b6-4872-b42c-7f37f0ed2a10",
   "metadata": {},
   "outputs": [
    {
     "name": "stdout",
     "output_type": "stream",
     "text": [
      "Shooting Star\n",
      "(((((((((((((((((...(.(..((.(((.(((.((....).))).)))).).)..))..))))))).(((((..(.(..((.(((.(((((.(((.((((.((....).)))).))))).))).)))).).)..))..)(....)..))))(((((((((...))))).(((((...)))))(.(....).).)))).)))).((((.((((...(((((((...))))))).(((((...)))))))))(((((((...))))))).(((((...)))))))))((((..(....)(..(..(..(.(.(((.((((.((....).)))).)))).)..)..).)..))))).)))))).\n",
      "UAUCGCCCCCGUGACAUAAAGAGUGCCGUGGACCGACCGAAAGCGCGCGCCAGGAGUGCCGGAUGUCACACUCCCUGGACUGGCGAGGACCUGGACAGACCUGACCGAAAGCGCAGCGCUGCGCAGCGCCUGGACUGGCUGGCGAAAGAAGGAGCUCCGCUUAAAAUAAGCACAUACAAAGUAUGGGGGAAACGCAGGAGAGGGGACUGCAGGGGAAAUAUAAAUAAAAUUUAUAAGCUUAAAAUAAGCCCCCCCUUUUAAAAUAAAAGGACCAGGAAACCUGGGCAGGAGCAACGAAAGGUGGUUGUGGAUGAGGACCGGACCGAAAGCGCCGCGCCUGAGGCUGCUCUGCGCUCAGCGAUAA\n"
     ]
    }
   ],
   "source": [
    "Etherna_id = 913357\n",
    "secundary_structure, final_sequence = get_puzzle_by_id(Etherna_id)"
   ]
  },
  {
   "cell_type": "code",
   "execution_count": 147,
   "id": "4c0178d4-266e-4590-878e-4b0f1fa06e60",
   "metadata": {},
   "outputs": [],
   "source": [
    "start_sequence = get_initial_guess(secundary_structure)"
   ]
  },
  {
   "cell_type": "code",
   "execution_count": 148,
   "id": "9e43c3bc-4f80-46bd-8f8f-52bc09865024",
   "metadata": {},
   "outputs": [
    {
     "data": {
      "text/plain": [
       "57.099998474121094"
      ]
     },
     "execution_count": 148,
     "metadata": {},
     "output_type": "execute_result"
    }
   ],
   "source": [
    "energy = RNA.eval_structure_simple(start_sequence, secundary_structure)\n",
    "energy"
   ]
  },
  {
   "cell_type": "code",
   "execution_count": 149,
   "id": "d76ebebd-a510-4fde-814c-1fcb298d507a",
   "metadata": {},
   "outputs": [
    {
     "data": {
      "text/plain": [
       "'..((((((((....(((((((.......((((........)))))))))))((((((((...........))))))))....(((((((..((.((.((.(((((((..((((.((((((((...............(((((((((((..........(((((...)))))((((((...)))))).))))))).))))..((((.((((((...((((((((((...))))))))))........(((((((((((....))))))))))))))))).)))).......)).)))))).)))).))))))).)).)).)))))))))...((((..((((...)))).))))..)))))))).'"
      ]
     },
     "execution_count": 149,
     "metadata": {},
     "output_type": "execute_result"
    }
   ],
   "source": [
    "sec_struct, energy = RNA.fold(start_sequence)\n",
    "sec_struct"
   ]
  },
  {
   "cell_type": "code",
   "execution_count": 150,
   "id": "32bd3d7b-b2c4-456c-a9e9-0f826081ba84",
   "metadata": {},
   "outputs": [
    {
     "data": {
      "text/plain": [
       "-125.19999694824219"
      ]
     },
     "execution_count": 150,
     "metadata": {},
     "output_type": "execute_result"
    }
   ],
   "source": [
    "energy"
   ]
  },
  {
   "cell_type": "code",
   "execution_count": 151,
   "id": "e00d1f8b-4e42-4523-9f55-febd07c46dab",
   "metadata": {},
   "outputs": [
    {
     "name": "stdout",
     "output_type": "stream",
     "text": [
      "-4.50000004768371664\r"
     ]
    },
    {
     "ename": "KeyboardInterrupt",
     "evalue": "",
     "output_type": "error",
     "traceback": [
      "\u001b[0;31m---------------------------------------------------------------------------\u001b[0m",
      "\u001b[0;31mKeyboardInterrupt\u001b[0m                         Traceback (most recent call last)",
      "\u001b[0;32m<ipython-input-151-6cfe62f60eb3>\u001b[0m in \u001b[0;36m<module>\u001b[0;34m\u001b[0m\n\u001b[0;32m----> 1\u001b[0;31m \u001b[0menergies\u001b[0m\u001b[0;34m,\u001b[0m \u001b[0mfree_energies\u001b[0m\u001b[0;34m,\u001b[0m \u001b[0msequences\u001b[0m \u001b[0;34m=\u001b[0m \u001b[0mmove_to_optimal\u001b[0m\u001b[0;34m(\u001b[0m\u001b[0mstart_sequence\u001b[0m\u001b[0;34m,\u001b[0m \u001b[0mfinal_sequence\u001b[0m\u001b[0;34m,\u001b[0m \u001b[0msecundary_structure\u001b[0m\u001b[0;34m,\u001b[0m \u001b[0mcalc_free_energy\u001b[0m\u001b[0;34m=\u001b[0m\u001b[0;32mTrue\u001b[0m\u001b[0;34m)\u001b[0m\u001b[0;34m\u001b[0m\u001b[0;34m\u001b[0m\u001b[0m\n\u001b[0m",
      "\u001b[0;32m~/rna_inv_folding/RNA_helper.py\u001b[0m in \u001b[0;36mmove_to_optimal\u001b[0;34m(start_sequence, final_sequence, secundary_structure, calc_free_energy)\u001b[0m\n\u001b[1;32m     59\u001b[0m \u001b[0;34m\u001b[0m\u001b[0m\n\u001b[1;32m     60\u001b[0m         \u001b[0;32mif\u001b[0m \u001b[0mcalc_free_energy\u001b[0m\u001b[0;34m:\u001b[0m\u001b[0;34m\u001b[0m\u001b[0;34m\u001b[0m\u001b[0m\n\u001b[0;32m---> 61\u001b[0;31m             \u001b[0mactual_secundary_structure\u001b[0m\u001b[0;34m,\u001b[0m \u001b[0mfree_energy\u001b[0m \u001b[0;34m=\u001b[0m \u001b[0mRNA\u001b[0m\u001b[0;34m.\u001b[0m\u001b[0mfold\u001b[0m\u001b[0;34m(\u001b[0m\u001b[0msequence\u001b[0m\u001b[0;34m)\u001b[0m\u001b[0;34m\u001b[0m\u001b[0;34m\u001b[0m\u001b[0m\n\u001b[0m\u001b[1;32m     62\u001b[0m             \u001b[0mfree_energies\u001b[0m\u001b[0;34m.\u001b[0m\u001b[0mappend\u001b[0m\u001b[0;34m(\u001b[0m\u001b[0mfree_energy\u001b[0m\u001b[0;34m)\u001b[0m\u001b[0;34m\u001b[0m\u001b[0;34m\u001b[0m\u001b[0m\n\u001b[1;32m     63\u001b[0m             \u001b[0;32mif\u001b[0m \u001b[0mactual_secundary_structure\u001b[0m \u001b[0;34m==\u001b[0m \u001b[0msecundary_structure\u001b[0m\u001b[0;34m:\u001b[0m\u001b[0;34m\u001b[0m\u001b[0;34m\u001b[0m\u001b[0m\n",
      "\u001b[0;31mKeyboardInterrupt\u001b[0m: "
     ]
    }
   ],
   "source": [
    "energies, free_energies, sequences = move_to_optimal(start_sequence, final_sequence, secundary_structure, calc_free_energy=True)"
   ]
  },
  {
   "cell_type": "code",
   "execution_count": 133,
   "id": "417024b3-fb42-4530-9312-2084b1bab8b6",
   "metadata": {},
   "outputs": [
    {
     "data": {
      "image/png": "[encoded data removed]",
      "text/plain": [
       "<Figure size 432x288 with 1 Axes>"
      ]
     },
     "metadata": {
      "needs_background": "light"
     },
     "output_type": "display_data"
    }
   ],
   "source": [
    "plt.plot(energies)\n",
    "plt.show()"
   ]
  },
  {
   "cell_type": "code",
   "execution_count": 134,
   "id": "29d0bda5-43e0-4591-bafa-a5ebe1388ee6",
   "metadata": {},
   "outputs": [
    {
     "data": {
      "image/png": "[encoded data removed]",
      "text/plain": [
       "<Figure size 432x288 with 1 Axes>"
      ]
     },
     "metadata": {
      "needs_background": "light"
     },
     "output_type": "display_data"
    }
   ],
   "source": [
    "plt.plot(free_energies)\n",
    "plt.show()"
   ]
  },
  {
   "cell_type": "code",
   "execution_count": null,
   "id": "c977effd-f590-4656-a3a6-256afeea0e3e",
   "metadata": {},
   "outputs": [],
   "source": []
  }
 ],
 "metadata": {
  "kernelspec": {
   "display_name": "Python 3",
   "language": "python",
   "name": "python3"
  },
  "language_info": {
   "codemirror_mode": {
    "name": "ipython",
    "version": 3
   },
   "file_extension": ".py",
   "mimetype": "text/x-python",
   "name": "python",
   "nbconvert_exporter": "python",
   "pygments_lexer": "ipython3",
   "version": "3.7.3"
  }
 },
 "nbformat": 4,
 "nbformat_minor": 5
}
