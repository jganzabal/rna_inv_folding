{
 "cells": [
  {
   "cell_type": "code",
   "execution_count": 1,
   "id": "7cbe24e5-9e03-4570-a535-ed023a69ba3d",
   "metadata": {},
   "outputs": [],
   "source": [
    "%load_ext autoreload\n",
    "%autoreload 2"
   ]
  },
  {
   "cell_type": "code",
   "execution_count": 41,
   "id": "7b370f57-62f8-4bb9-b3c8-1b1eca0ee747",
   "metadata": {},
   "outputs": [],
   "source": [
    "import RNA\n",
    "from IPython.display import SVG\n",
    "import numpy as np\n",
    "import pandas as pd\n",
    "from matplotlib import pyplot as plt\n",
    "from RNA_helper import replace_char_towards_optimal, move_to_optimal, get_initial_guess, get_puzzle, secundary_structures_metric"
   ]
  },
  {
   "cell_type": "code",
   "execution_count": 46,
   "id": "02370273-0a0b-4ad0-b08e-3999571d4682",
   "metadata": {},
   "outputs": [
    {
     "name": "stdout",
     "output_type": "stream",
     "text": [
      "Shooting Star\n",
      "(((((((((((((((((...(.(..((.(((.(((.((....).))).)))).).)..))..))))))).(((((..(.(..((.(((.(((((.(((.((((.((....).)))).))))).))).)))).).)..))..)(....)..))))(((((((((...))))).(((((...)))))(.(....).).)))).)))).((((.((((...(((((((...))))))).(((((...)))))))))(((((((...))))))).(((((...)))))))))((((..(....)(..(..(..(.(.(((.((((.((....).)))).)))).)..)..).)..))))).)))))).\n",
      "UAUCGCCCCCGUGACAUAAAGAGUGCCGUGGACCGACCGAAAGCGCGCGCCAGGAGUGCCGGAUGUCACACUCCCUGGACUGGCGAGGACCUGGACAGACCUGACCGAAAGCGCAGCGCUGCGCAGCGCCUGGACUGGCUGGCGAAAGAAGGAGCUCCGCUUAAAAUAAGCACAUACAAAGUAUGGGGGAAACGCAGGAGAGGGGACUGCAGGGGAAAUAUAAAUAAAAUUUAUAAGCUUAAAAUAAGCCCCCCCUUUUAAAAUAAAAGGACCAGGAAACCUGGGCAGGAGCAACGAAAGGUGGUUGUGGAUGAGGACCGGACCGAAAGCGCCGCGCCUGAGGCUGCUCUGCGCUCAGCGAUAA\n"
     ]
    }
   ],
   "source": [
    "df_eterna_100 = pd.read_csv('eterna100-puzzles.txt', delimiter='\\t')\n",
    "objective_secundary_structure, final_sequence = get_puzzle(df_eterna_100, idx=98)"
   ]
  },
  {
   "cell_type": "code",
   "execution_count": 47,
   "id": "cac6e2f4-a8e9-44cf-8a06-04a51a1435f5",
   "metadata": {},
   "outputs": [
    {
     "name": "stdout",
     "output_type": "stream",
     "text": [
      "low energy bonds pairs list\n",
      "All As\n"
     ]
    }
   ],
   "source": [
    "start_sequence = get_initial_guess(objective_secundary_structure, bonds_initial_type='low_energy_bonds')\n",
    "start_sequence = get_initial_guess(objective_secundary_structure, bonds_initial_type='all_As')"
   ]
  },
  {
   "cell_type": "code",
   "execution_count": 48,
   "id": "abdd9d87-edf0-43cb-869e-1bc18b6eb4c5",
   "metadata": {},
   "outputs": [
    {
     "data": {
      "text/plain": [
       "'AAAAAAAAAAAAAAAAAAAAAAAAAAAAAAAAAAAAAAAAAAAAAAAAAAAAAAAAAAAAAAAAAAAAAAAAAAAAAAAAAAAAAAAAAAAAAAAAAAAAAAAAAAAAAAAAAAAAAAAAAAAAAAAAAAAAAAAAAAAAAAAAAAAAAAAAAAAAAAAAAAAAAAAAAAAAAAAAAAAAAAAAAAAAAAAAAAAAAAAAAAAAAAAAAAAAAAAAAAAAAAAAAAAAAAAAAAAAAAAAAAAAAAAAAAAAAAAAAAAAAAAAAAAAAAAAAAAAAAAAAAAAAAAAAAAAAAAAAAAAAAAAAAAAAAAAAAAAAAAAAAAAAAAAAAAAAAAAAAAAAAAAAAAAAAAAAAAAAAAAAAAA'"
      ]
     },
     "execution_count": 48,
     "metadata": {},
     "output_type": "execute_result"
    }
   ],
   "source": [
    "start_sequence"
   ]
  },
  {
   "cell_type": "code",
   "execution_count": 49,
   "id": "9f40a9e5-ca0d-410a-be0f-1bc48929a1af",
   "metadata": {},
   "outputs": [],
   "source": [
    "initial_secundary_structure , energy = RNA.fold(start_sequence)"
   ]
  },
  {
   "cell_type": "code",
   "execution_count": 50,
   "id": "53673d0f-c8e3-42f1-b0c8-2f604080ba0e",
   "metadata": {},
   "outputs": [
    {
     "data": {
      "text/plain": [
       "False"
      ]
     },
     "execution_count": 50,
     "metadata": {},
     "output_type": "execute_result"
    }
   ],
   "source": [
    "initial_secundary_structure == objective_secundary_structure"
   ]
  },
  {
   "cell_type": "code",
   "execution_count": 51,
   "id": "4e26271c-86ad-4190-97d4-304c86121660",
   "metadata": {},
   "outputs": [
    {
     "data": {
      "text/plain": [
       "1.0"
      ]
     },
     "execution_count": 51,
     "metadata": {},
     "output_type": "execute_result"
    }
   ],
   "source": [
    "secundary_structures_metric(objective_secundary_structure, objective_secundary_structure)"
   ]
  },
  {
   "cell_type": "code",
   "execution_count": null,
   "id": "181423a8-e866-4c38-bc09-06b7e7a1e406",
   "metadata": {},
   "outputs": [],
   "source": []
  }
 ],
 "metadata": {
  "kernelspec": {
   "display_name": "Python 3",
   "language": "python",
   "name": "python3"
  },
  "language_info": {
   "codemirror_mode": {
    "name": "ipython",
    "version": 3
   },
   "file_extension": ".py",
   "mimetype": "text/x-python",
   "name": "python",
   "nbconvert_exporter": "python",
   "pygments_lexer": "ipython3",
   "version": "3.7.3"
  }
 },
 "nbformat": 4,
 "nbformat_minor": 5
}
