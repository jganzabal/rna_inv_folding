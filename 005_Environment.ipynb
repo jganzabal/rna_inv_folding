{
 "cells": [
  {
   "cell_type": "code",
   "execution_count": 35,
   "id": "d515f0f1-c31c-4f3c-902d-ad4482bba2e9",
   "metadata": {},
   "outputs": [
    {
     "name": "stdout",
     "output_type": "stream",
     "text": [
      "The autoreload extension is already loaded. To reload it, use:\n",
      "  %reload_ext autoreload\n"
     ]
    }
   ],
   "source": [
    "%load_ext autoreload\n",
    "%autoreload 2"
   ]
  },
  {
   "cell_type": "code",
   "execution_count": 283,
   "id": "595934e8-fd6b-41ea-ba8c-1eb99f88f8f3",
   "metadata": {},
   "outputs": [],
   "source": [
    "import gym\n",
    "import numpy as np\n",
    "import RNA"
   ]
  },
  {
   "cell_type": "code",
   "execution_count": 40,
   "id": "b0ed7d40-2a07-44db-b24a-0dc77248b7df",
   "metadata": {},
   "outputs": [
    {
     "data": {
      "text/plain": [
       "MultiDiscrete([4 4])"
      ]
     },
     "execution_count": 40,
     "metadata": {},
     "output_type": "execute_result"
    }
   ],
   "source": [
    "gym.spaces.MultiDiscrete([4, 4])"
   ]
  },
  {
   "cell_type": "code",
   "execution_count": null,
   "id": "9ce86215-b769-4399-b1bf-3ede53719c84",
   "metadata": {},
   "outputs": [],
   "source": [
    "gym.spaces.MultiDiscrete()"
   ]
  },
  {
   "cell_type": "code",
   "execution_count": 284,
   "id": "49bff413-06e5-4e2f-807d-c80755d416c5",
   "metadata": {},
   "outputs": [],
   "source": [
    "from RNA_helper import get_initial_guess, bracket_to_bonds, secundary_structures_metric"
   ]
  },
  {
   "cell_type": "code",
   "execution_count": 164,
   "id": "2ff1e7e0-6b77-4eb1-9707-c273d2f67017",
   "metadata": {},
   "outputs": [],
   "source": [
    "def bracket_to_bonds_and_singles(structure):\n",
    "    bond_tuples = []\n",
    "    opening = []\n",
    "    singles = []\n",
    "    for i,c in enumerate(structure):\n",
    "        if c == '(':\n",
    "            opening.append(i)\n",
    "        elif c == ')':\n",
    "            j = opening.pop()\n",
    "            assert j < i\n",
    "            bond_tuples.append((j, i))\n",
    "        elif c == '.':\n",
    "            singles.append(i)\n",
    "        else:\n",
    "            # No debería entrar\n",
    "            assert False\n",
    "    assert len(singles) +  2*len(bond_tuples) == len(structure)\n",
    "    return bond_tuples, singles"
   ]
  },
  {
   "cell_type": "code",
   "execution_count": 356,
   "id": "7a6ba528-9fde-4c09-825e-c1400a5dc624",
   "metadata": {},
   "outputs": [],
   "source": [
    "class RNAInvEnvironment(gym.Env):\n",
    "    def __init__(self, objective_structure, policy='random', max_steps=100):\n",
    "        self.pairs_list = np.array(['CG', 'GC', 'AU', 'UA', 'GU', 'UG'])\n",
    "        self.bases_list = np.array(['G', 'U', 'A', 'C'])\n",
    "        self.N_pairs = len(self.pairs_list)\n",
    "        self.N_bases = len(self.bases_list)\n",
    "        self.objective_structure = objective_structure\n",
    "        self.N = len(objective_structure)\n",
    "        self.bonds = bracket_to_bonds(objective_structure)\n",
    "        self.bond_tuples, self.singles = bracket_to_bonds_and_singles(objective_structure)\n",
    "        self.pairs_count = len(self.bond_tuples)\n",
    "        self.single_count = len(self.singles)\n",
    "        self.action_space = gym.spaces.MultiDiscrete([self.N_pairs]*self.pairs_count + [self.N_bases]*self.single_count)\n",
    "        self.observation_space = gym.spaces.Tuple(\n",
    "            tuple([gym.spaces.Discrete(self.N_bases) if i is None else gym.spaces.Discrete(self.N_pairs) for i in self.bonds])\n",
    "        )\n",
    "        self.max_steps = max_steps\n",
    "\n",
    "    def action_to_state(self, action):\n",
    "        pair_predictions = self.pairs_list[action[:self.pairs_count]]\n",
    "        single_predictions = self.bases_list[action[self.pairs_count:]]\n",
    "        output = [None]*self.N\n",
    "        for k, (i, j) in enumerate(rna_inv_env.bond_tuples):\n",
    "            output[i] = pair_predictions[k][0]\n",
    "            output[j] = pair_predictions[k][1]\n",
    "        for k, i in enumerate(self.singles):\n",
    "            output[i] = single_predictions[k]\n",
    "        return ''.join(output)\n",
    "    \n",
    "    def sample_random_action(self):\n",
    "        action = self.action_space.sample()\n",
    "        return self.action_to_state(action)\n",
    "        \n",
    "    \n",
    "    def reset(self):\n",
    "#         self.state = get_initial_guess(self.objective_structure, 'low_energy_bonds')\n",
    "        self.state = self.sample_random_action()\n",
    "        self.steps = 0\n",
    "        return self.state\n",
    "    \n",
    "    def step(self, action):\n",
    "        self.steps = self.steps + 1\n",
    "        self.state = self.action_to_state(action)\n",
    "        current_structure, energy = RNA.fold(self.state)\n",
    "        done = (current_structure == self.objective_structure) or (self.steps >= self.max_steps)\n",
    "        reward = secundary_structures_metric(current_structure, self.objective_structure)\n",
    "        return self.state, reward, done, None"
   ]
  },
  {
   "cell_type": "code",
   "execution_count": 389,
   "id": "a2b3cfa1-23be-40c3-bc18-a926db8c0ebb",
   "metadata": {},
   "outputs": [],
   "source": [
    "objective_structure = '(((((((((((((((.(((((.((.....)).((.....)).((.....)).((.....)).((.....)).))))).(((.....))).(((((.((.....)).((.....)).((.....)).((.....)).((.....)).))))).(((.....))).(((((.((.....)).((.....)).((.....)).((.....)).((.....)).))))).(((.....))).(((((.((.....)).((.....)).((.....)).((.....)).((.....)).))))).(((.....))).(((((.((.....)).((.....)).((.....)).((.....)).((.....)).))))).)))))))))))))))'\n",
    "# objective_structure = '(((((......)))))'"
   ]
  },
  {
   "cell_type": "code",
   "execution_count": 390,
   "id": "0edbf4a5-9959-4589-9e47-0b4f9de9f9e8",
   "metadata": {},
   "outputs": [],
   "source": [
    "rna_inv_env = RNAInvEnvironment(objective_structure)"
   ]
  },
  {
   "cell_type": "code",
   "execution_count": 391,
   "id": "6513fa11-1863-4336-b187-1074eadfe288",
   "metadata": {},
   "outputs": [
    {
     "name": "stdout",
     "output_type": "stream",
     "text": [
      "GGUUACGAGCGAAGGGGGCCGGGGUGCGUCUUCUCUUGUAGUGUCUCUAGCCUGGCUUACAACUUAAUAAGCUGGCCGUUGCCAUGUGGCUGGUACUCCUUUCGGGCUCGUAGGGCGUAGUCUACGUUGUGCAAGUCUGUCAAAGAUACUAUUGGCAUUGCCGUGUUACAGGACGAACCCUGAUGCACGGACCCCGCGUUCUGCUUGAGCAUCGUUUGUUGUGGCCGUCAAUGAGAUGACCAGAAUGUUUCAUUUUUUGAAGAACGUGAAACGCAUCUUUGAUAUAAUGUAUGUUUGGUUGGAGUCAUUUUUGUGUUGUUGAAGUGAGUGCAGGCUAUUCUUUUGGGUUUUGGAAGGCCCAUAACGGUGGUAUUUUUUCGCUUGUAAUU\n"
     ]
    }
   ],
   "source": [
    "done = False\n",
    "obs = rna_inv_env.reset()\n",
    "print(obs)\n",
    "rewards = []\n",
    "while not done:\n",
    "    action = rna_inv_env.action_space.sample()\n",
    "    obs, reward, done, _ = rna_inv_env.step(action)\n",
    "    rewards.append(reward)"
   ]
  },
  {
   "cell_type": "code",
   "execution_count": 392,
   "id": "6e7d21d4-d525-4bb2-be57-23f90c9622f4",
   "metadata": {},
   "outputs": [],
   "source": [
    "from matplotlib import pyplot as plt"
   ]
  },
  {
   "cell_type": "code",
   "execution_count": 394,
   "id": "1a71fb08-97f3-40f8-935d-bb9d75aef14e",
   "metadata": {},
   "outputs": [],
   "source": [
    "# rewards, done"
   ]
  },
  {
   "cell_type": "code",
   "execution_count": null,
   "id": "1cc52836-4fbe-46d9-9b67-eba52831d93c",
   "metadata": {},
   "outputs": [],
   "source": []
  },
  {
   "cell_type": "code",
   "execution_count": 395,
   "id": "882a1575-f621-4737-8fe6-48d544a18573",
   "metadata": {},
   "outputs": [
    {
     "data": {
      "text/plain": [
       "[<matplotlib.lines.Line2D at 0x7f99eb838278>]"
      ]
     },
     "execution_count": 395,
     "metadata": {},
     "output_type": "execute_result"
    },
    {
     "data": {
      "image/png": "[encoded data removed]",
      "text/plain": [
       "<Figure size 432x288 with 1 Axes>"
      ]
     },
     "metadata": {
      "needs_background": "light"
     },
     "output_type": "display_data"
    }
   ],
   "source": [
    "plt.plot(rewards)"
   ]
  },
  {
   "cell_type": "code",
   "execution_count": null,
   "id": "b370f3fd-3547-4c71-be65-873f875c27a4",
   "metadata": {},
   "outputs": [],
   "source": []
  },
  {
   "cell_type": "code",
   "execution_count": 295,
   "id": "4adf322d-4a4d-4856-8825-b1c9c2bcf0c2",
   "metadata": {},
   "outputs": [
    {
     "data": {
      "text/plain": [
       "'CCACACUCAGAAGUGAUAACGACAUUUACUGCCGAGAUCCGUUGCAACAUAUCUAUACAGGAUCCGGCAGGUCGUUAGCGCCCAGUGUGGCUUGUGGAGGCAGUCAGGGACUAUCGGUGCAUGGUCGGCUGAGCUCUUUUUGGGGGACAAGAACUUUGAAAGUUGGUUUUCUGGCAGAGAUUUUGGGAAGGUCCCGAGCCACCCAGUGUCGUGCUAUACGGGGCCCUGUAGGUCACACGUGUGCCGCCCAGCGCGCCAUACGUCGUAUUAUGCCUUAGUAGAACCUGACAAAGGCGUAUACGUAAGGUAUGAGUUGACUUUCUGGAAAUUGACAGAAGUGCUGUAUGGUUACUGAAAUUGGAACACACUCAAUAUAUUUUUGGGUGUGG'"
      ]
     },
     "execution_count": 295,
     "metadata": {},
     "output_type": "execute_result"
    }
   ],
   "source": [
    "rna_inv_env.sample_random_action()"
   ]
  },
  {
   "cell_type": "code",
   "execution_count": 190,
   "id": "d32dbd03-833b-4459-a12f-27fb6d4f7757",
   "metadata": {},
   "outputs": [
    {
     "data": {
      "text/plain": [
       "(287,)"
      ]
     },
     "execution_count": 190,
     "metadata": {},
     "output_type": "execute_result"
    }
   ],
   "source": [
    "rna_inv_env.action_space.shape"
   ]
  },
  {
   "cell_type": "code",
   "execution_count": 196,
   "id": "75d8aba0-a6af-40f8-8ae8-6463bb821c36",
   "metadata": {},
   "outputs": [],
   "source": [
    "actions = rna_inv_env.action_space.sample()"
   ]
  },
  {
   "cell_type": "code",
   "execution_count": 205,
   "id": "8db57a51-d88f-4e90-a792-38a52953150f",
   "metadata": {
    "tags": []
   },
   "outputs": [],
   "source": [
    "sampled = list(rna_inv_env.pairs_list[actions[:rna_inv_env.pairs_count]]) + list(rna_inv_env.bases_list[actions[rna_inv_env.pairs_count:]])"
   ]
  },
  {
   "cell_type": "code",
   "execution_count": 207,
   "id": "47b756a4-e0c1-468a-bd58-96f49fc0e454",
   "metadata": {},
   "outputs": [
    {
     "name": "stdout",
     "output_type": "stream",
     "text": [
      "['GC', 'UA', 'UG', 'GC', 'UA', 'AU', 'UG', 'AU', 'UG', 'AU', 'AU', 'AU', 'CG', 'UG', 'UA', 'GU', 'GU', 'CG', 'CG', 'CG', 'AU', 'GU', 'GU', 'GU', 'GU', 'GU', 'UA', 'UG', 'AU', 'GU', 'GU', 'GU', 'AU', 'GC', 'UA', 'UG', 'CG', 'CG', 'GU', 'CG', 'CG', 'GC', 'AU', 'GU', 'GU', 'GU', 'UG', 'CG', 'GC', 'GC', 'AU', 'UA', 'UG', 'GU', 'GU', 'UG', 'AU', 'CG', 'UG', 'UA', 'UA', 'AU', 'UA', 'GC', 'UG', 'UG', 'UG', 'UA', 'AU', 'UA', 'AU', 'AU', 'UG', 'AU', 'AU', 'GU', 'GU', 'CG', 'AU', 'CG', 'AU', 'GC', 'GU', 'GU', 'GU', 'AU', 'UA', 'CG', 'UG', 'GC', 'GC', 'AU', 'GU', 'AU', 'AU', 'GU', 'UG', 'UA', 'GU', 'UA', 'UG', 'UG', 'A', 'U', 'G', 'A', 'A', 'G', 'U', 'C', 'G', 'G', 'U', 'C', 'C', 'U', 'A', 'G', 'A', 'G', 'U', 'A', 'C', 'G', 'G', 'A', 'C', 'A', 'G', 'U', 'U', 'U', 'C', 'U', 'C', 'U', 'G', 'G', 'U', 'A', 'G', 'A', 'C', 'U', 'G', 'U', 'G', 'A', 'C', 'U', 'G', 'U', 'C', 'A', 'C', 'C', 'U', 'G', 'G', 'C', 'C', 'G', 'C', 'A', 'U', 'G', 'U', 'G', 'A', 'U', 'G', 'U', 'C', 'A', 'C', 'G', 'A', 'C', 'A', 'G', 'C', 'G', 'U', 'C', 'C', 'U', 'U', 'U', 'C', 'U', 'G', 'U', 'G', 'A', 'G', 'U', 'G', 'C', 'G', 'U', 'A', 'G', 'G', 'G', 'C', 'U', 'C', 'G', 'A', 'G', 'C', 'A', 'C', 'C', 'C', 'C', 'C', 'U', 'C', 'C', 'G', 'C', 'C', 'G', 'C', 'A', 'A', 'U', 'A', 'G', 'G', 'G', 'A', 'C', 'A', 'U', 'U', 'G', 'G', 'C', 'G', 'U', 'A', 'G', 'G', 'C', 'A', 'C', 'G', 'A', 'U', 'G', 'A', 'U', 'C', 'C', 'A', 'U', 'G', 'A', 'G', 'U', 'A', 'U', 'U', 'A', 'G', 'A', 'C', 'U', 'A', 'A', 'C', 'U', 'C', 'A', 'G', 'U', 'U', 'A', 'A', 'A', 'C', 'A', 'U', 'A', 'C']\n"
     ]
    }
   ],
   "source": [
    "print(sampled)"
   ]
  },
  {
   "cell_type": "code",
   "execution_count": 219,
   "id": "055728d2-83fd-48f5-aea4-a10321f658ce",
   "metadata": {
    "tags": []
   },
   "outputs": [],
   "source": [
    "\n",
    "    \n",
    "    "
   ]
  },
  {
   "cell_type": "code",
   "execution_count": 221,
   "id": "e27867c6-cdd9-42ae-8fcd-1da4686f9321",
   "metadata": {
    "tags": []
   },
   "outputs": [],
   "source": [
    "# output"
   ]
  },
  {
   "cell_type": "code",
   "execution_count": 214,
   "id": "7f95b1e3-5a20-42ab-8203-c25ef5958fd4",
   "metadata": {},
   "outputs": [
    {
     "data": {
      "text/plain": [
       "array(['GC', 'UA', 'UG', 'GC', 'UA', 'AU', 'UG', 'AU', 'UG', 'AU', 'AU',\n",
       "       'AU', 'CG', 'UG', 'UA', 'GU', 'GU', 'CG', 'CG', 'CG', 'AU', 'GU',\n",
       "       'GU', 'GU', 'GU', 'GU', 'UA', 'UG', 'AU', 'GU', 'GU', 'GU', 'AU',\n",
       "       'GC', 'UA', 'UG', 'CG', 'CG', 'GU', 'CG', 'CG', 'GC', 'AU', 'GU',\n",
       "       'GU', 'GU', 'UG', 'CG', 'GC', 'GC', 'AU', 'UA', 'UG', 'GU', 'GU',\n",
       "       'UG', 'AU', 'CG', 'UG', 'UA', 'UA', 'AU', 'UA', 'GC', 'UG', 'UG',\n",
       "       'UG', 'UA', 'AU', 'UA', 'AU', 'AU', 'UG', 'AU', 'AU', 'GU', 'GU',\n",
       "       'CG', 'AU', 'CG', 'AU', 'GC', 'GU', 'GU', 'GU', 'AU', 'UA', 'CG',\n",
       "       'UG', 'GC', 'GC', 'AU', 'GU', 'AU', 'AU', 'GU', 'UG', 'UA', 'GU',\n",
       "       'UA', 'UG', 'UG'], dtype='<U2')"
      ]
     },
     "execution_count": 214,
     "metadata": {},
     "output_type": "execute_result"
    }
   ],
   "source": [
    "\n",
    "pair_predictions"
   ]
  },
  {
   "cell_type": "code",
   "execution_count": 218,
   "id": "56beab7b-7d67-4a31-a6dd-e51a59a52a93",
   "metadata": {},
   "outputs": [
    {
     "data": {
      "text/plain": [
       "array(['A', 'U', 'G', 'A', 'A', 'G', 'U', 'C', 'G', 'G', 'U', 'C', 'C',\n",
       "       'U', 'A', 'G', 'A', 'G', 'U', 'A', 'C', 'G', 'G', 'A', 'C', 'A',\n",
       "       'G', 'U', 'U', 'U', 'C', 'U', 'C', 'U', 'G', 'G', 'U', 'A', 'G',\n",
       "       'A', 'C', 'U', 'G', 'U', 'G', 'A', 'C', 'U', 'G', 'U', 'C', 'A',\n",
       "       'C', 'C', 'U', 'G', 'G', 'C', 'C', 'G', 'C', 'A', 'U', 'G', 'U',\n",
       "       'G', 'A', 'U', 'G', 'U', 'C', 'A', 'C', 'G', 'A', 'C', 'A', 'G',\n",
       "       'C', 'G', 'U', 'C', 'C', 'U', 'U', 'U', 'C', 'U', 'G', 'U', 'G',\n",
       "       'A', 'G', 'U', 'G', 'C', 'G', 'U', 'A', 'G', 'G', 'G', 'C', 'U',\n",
       "       'C', 'G', 'A', 'G', 'C', 'A', 'C', 'C', 'C', 'C', 'C', 'U', 'C',\n",
       "       'C', 'G', 'C', 'C', 'G', 'C', 'A', 'A', 'U', 'A', 'G', 'G', 'G',\n",
       "       'A', 'C', 'A', 'U', 'U', 'G', 'G', 'C', 'G', 'U', 'A', 'G', 'G',\n",
       "       'C', 'A', 'C', 'G', 'A', 'U', 'G', 'A', 'U', 'C', 'C', 'A', 'U',\n",
       "       'G', 'A', 'G', 'U', 'A', 'U', 'U', 'A', 'G', 'A', 'C', 'U', 'A',\n",
       "       'A', 'C', 'U', 'C', 'A', 'G', 'U', 'U', 'A', 'A', 'A', 'C', 'A',\n",
       "       'U', 'A', 'C'], dtype='<U1')"
      ]
     },
     "execution_count": 218,
     "metadata": {},
     "output_type": "execute_result"
    }
   ],
   "source": [
    "\n",
    "\n",
    "single_predictions"
   ]
  },
  {
   "cell_type": "code",
   "execution_count": 116,
   "id": "ffb0fa0f-ce54-4199-8fb7-1b5d711a274b",
   "metadata": {},
   "outputs": [
    {
     "name": "stdout",
     "output_type": "stream",
     "text": [
      "(0, 2, 1, 3, 4, 5, 0, 2, 3, 4, 0, 3, 0, 5, 1, 3, 4, 4, 4, 3, 3, 2, 4, 2, 0, 3, 3, 0, 2, 5, 5, 2, 1, 0, 3, 2, 2, 3, 0, 5, 0, 0, 2, 0, 0, 2, 0, 0, 3, 5, 5, 1, 0, 2, 2, 2, 2, 2, 0, 3, 3, 1, 0, 1, 3, 0, 0, 0, 0, 1, 1, 0, 5, 2, 1, 2, 2, 1, 5, 3, 0, 3, 2, 2, 3, 2, 1, 0, 0, 1, 5, 4, 5, 3, 4, 2, 5, 0, 2, 0, 2, 0, 0, 3, 1, 2, 4, 0, 2, 3, 0, 3, 3, 1, 2, 3, 0, 0, 1, 2, 2, 0, 2, 1, 5, 2, 4, 4, 1, 1, 3, 2, 3, 4, 2, 2, 1, 0, 1, 1, 3, 1, 2, 1, 3, 0, 1, 2, 2, 0, 0, 3, 2, 2, 5, 0, 2, 2, 0, 1, 2, 2, 3, 2, 0, 5, 3, 5, 4, 1, 4, 3, 2, 0, 2, 0, 1, 4, 2, 1, 3, 0, 2, 3, 0, 0, 3, 4, 2, 0, 1, 3, 3, 3, 1, 2, 0, 3, 3, 1, 1, 4, 1, 2, 0, 1, 0, 1, 1, 1, 4, 0, 0, 3, 1, 3, 3, 3, 3, 0, 5, 0, 3, 1, 2, 0, 5, 5, 4, 3, 3, 2, 3, 2, 3, 1, 2, 3, 4, 3, 0, 4, 4, 0, 5, 3, 2, 0, 3, 2, 0, 2, 0, 1, 2, 4, 1, 1, 2, 3, 0, 2, 5, 2, 1, 2, 1, 1, 2, 0, 1, 2, 4, 1, 0, 0, 0, 0, 3, 1, 2, 5, 3, 1, 2, 4, 2, 0, 3, 3, 0, 3, 2, 1, 0, 0, 0, 0, 0, 3, 3, 5, 5, 3, 3, 0, 2, 1, 4, 2, 3, 2, 2, 5, 3, 2, 2, 0, 4, 3, 2, 0, 0, 2, 3, 3, 5, 0, 5, 0, 0, 0, 3, 0, 3, 4, 0, 1, 1, 5, 0, 0, 2, 0, 3, 2, 3, 2, 1, 4, 2, 2, 1, 2, 3, 3, 3, 1, 3, 3, 3, 3, 2, 2, 2, 4, 1, 1, 4, 3, 3, 3, 4, 3, 2, 1, 0, 2, 5, 2, 1, 3, 5, 3, 5, 2, 4, 5, 4)\n"
     ]
    }
   ],
   "source": [
    "print(rna_inv_env.observation_space.sample())"
   ]
  },
  {
   "cell_type": "code",
   "execution_count": 209,
   "id": "d61a9b03-a262-420f-9bb7-396d81b144b7",
   "metadata": {},
   "outputs": [],
   "source": []
  },
  {
   "cell_type": "code",
   "execution_count": 161,
   "id": "ad7dfc2f-26fc-4a29-ac64-7fdb48149dac",
   "metadata": {},
   "outputs": [],
   "source": [
    "bond_tuples, singles = bracket_to_bonds_and_singles(objective_structure)"
   ]
  },
  {
   "cell_type": "code",
   "execution_count": 208,
   "id": "f1635f25-6db7-44f4-921f-434814c9e31a",
   "metadata": {},
   "outputs": [
    {
     "data": {
      "text/plain": [
       "[15,\n",
       " 21,\n",
       " 24,\n",
       " 25,\n",
       " 26,\n",
       " 27,\n",
       " 28,\n",
       " 31,\n",
       " 34,\n",
       " 35,\n",
       " 36,\n",
       " 37,\n",
       " 38,\n",
       " 41,\n",
       " 44,\n",
       " 45,\n",
       " 46,\n",
       " 47,\n",
       " 48,\n",
       " 51,\n",
       " 54,\n",
       " 55,\n",
       " 56,\n",
       " 57,\n",
       " 58,\n",
       " 61,\n",
       " 64,\n",
       " 65,\n",
       " 66,\n",
       " 67,\n",
       " 68,\n",
       " 71,\n",
       " 77,\n",
       " 81,\n",
       " 82,\n",
       " 83,\n",
       " 84,\n",
       " 85,\n",
       " 89,\n",
       " 95,\n",
       " 98,\n",
       " 99,\n",
       " 100,\n",
       " 101,\n",
       " 102,\n",
       " 105,\n",
       " 108,\n",
       " 109,\n",
       " 110,\n",
       " 111,\n",
       " 112,\n",
       " 115,\n",
       " 118,\n",
       " 119,\n",
       " 120,\n",
       " 121,\n",
       " 122,\n",
       " 125,\n",
       " 128,\n",
       " 129,\n",
       " 130,\n",
       " 131,\n",
       " 132,\n",
       " 135,\n",
       " 138,\n",
       " 139,\n",
       " 140,\n",
       " 141,\n",
       " 142,\n",
       " 145,\n",
       " 151,\n",
       " 155,\n",
       " 156,\n",
       " 157,\n",
       " 158,\n",
       " 159,\n",
       " 163,\n",
       " 169,\n",
       " 172,\n",
       " 173,\n",
       " 174,\n",
       " 175,\n",
       " 176,\n",
       " 179,\n",
       " 182,\n",
       " 183,\n",
       " 184,\n",
       " 185,\n",
       " 186,\n",
       " 189,\n",
       " 192,\n",
       " 193,\n",
       " 194,\n",
       " 195,\n",
       " 196,\n",
       " 199,\n",
       " 202,\n",
       " 203,\n",
       " 204,\n",
       " 205,\n",
       " 206,\n",
       " 209,\n",
       " 212,\n",
       " 213,\n",
       " 214,\n",
       " 215,\n",
       " 216,\n",
       " 219,\n",
       " 225,\n",
       " 229,\n",
       " 230,\n",
       " 231,\n",
       " 232,\n",
       " 233,\n",
       " 237,\n",
       " 243,\n",
       " 246,\n",
       " 247,\n",
       " 248,\n",
       " 249,\n",
       " 250,\n",
       " 253,\n",
       " 256,\n",
       " 257,\n",
       " 258,\n",
       " 259,\n",
       " 260,\n",
       " 263,\n",
       " 266,\n",
       " 267,\n",
       " 268,\n",
       " 269,\n",
       " 270,\n",
       " 273,\n",
       " 276,\n",
       " 277,\n",
       " 278,\n",
       " 279,\n",
       " 280,\n",
       " 283,\n",
       " 286,\n",
       " 287,\n",
       " 288,\n",
       " 289,\n",
       " 290,\n",
       " 293,\n",
       " 299,\n",
       " 303,\n",
       " 304,\n",
       " 305,\n",
       " 306,\n",
       " 307,\n",
       " 311,\n",
       " 317,\n",
       " 320,\n",
       " 321,\n",
       " 322,\n",
       " 323,\n",
       " 324,\n",
       " 327,\n",
       " 330,\n",
       " 331,\n",
       " 332,\n",
       " 333,\n",
       " 334,\n",
       " 337,\n",
       " 340,\n",
       " 341,\n",
       " 342,\n",
       " 343,\n",
       " 344,\n",
       " 347,\n",
       " 350,\n",
       " 351,\n",
       " 352,\n",
       " 353,\n",
       " 354,\n",
       " 357,\n",
       " 360,\n",
       " 361,\n",
       " 362,\n",
       " 363,\n",
       " 364,\n",
       " 367,\n",
       " 373]"
      ]
     },
     "execution_count": 208,
     "metadata": {},
     "output_type": "execute_result"
    }
   ],
   "source": [
    "# bond_tuples\n",
    "singles"
   ]
  },
  {
   "cell_type": "code",
   "execution_count": 151,
   "id": "274b5191-1d6c-4943-9eac-7382f2e88db4",
   "metadata": {},
   "outputs": [
    {
     "data": {
      "text/plain": [
       "389"
      ]
     },
     "execution_count": 151,
     "metadata": {},
     "output_type": "execute_result"
    }
   ],
   "source": [
    "len(objective_structure)"
   ]
  },
  {
   "cell_type": "code",
   "execution_count": null,
   "id": "784f4e39-40fe-4689-8913-cce38fe936ba",
   "metadata": {},
   "outputs": [],
   "source": [
    "pair_action_to_sequence = {}\n",
    "{i: (i, j) for i, j in enumerate(rna_inv_env.bonds)}"
   ]
  },
  {
   "cell_type": "code",
   "execution_count": 136,
   "id": "bddab88a-f847-4fe3-ad9e-b9ab8f190822",
   "metadata": {},
   "outputs": [
    {
     "data": {
      "text/plain": [
       "array([ True,  True,  True,  True,  True,  True,  True,  True,  True,\n",
       "        True,  True,  True,  True,  True,  True, False,  True,  True,\n",
       "        True,  True,  True, False,  True,  True, False, False, False,\n",
       "       False, False,  True,  True, False,  True,  True, False, False,\n",
       "       False, False, False,  True,  True, False,  True,  True, False,\n",
       "       False, False, False, False,  True,  True, False,  True,  True,\n",
       "       False, False, False, False, False,  True,  True, False,  True,\n",
       "        True, False, False, False, False, False,  True,  True, False,\n",
       "        True,  True,  True,  True,  True, False,  True,  True,  True,\n",
       "       False, False, False, False, False,  True,  True,  True, False,\n",
       "        True,  True,  True,  True,  True, False,  True,  True, False,\n",
       "       False, False, False, False,  True,  True, False,  True,  True,\n",
       "       False, False, False, False, False,  True,  True, False,  True,\n",
       "        True, False, False, False, False, False,  True,  True, False,\n",
       "        True,  True, False, False, False, False, False,  True,  True,\n",
       "       False,  True,  True, False, False, False, False, False,  True,\n",
       "        True, False,  True,  True,  True,  True,  True, False,  True,\n",
       "        True,  True, False, False, False, False, False,  True,  True,\n",
       "        True, False,  True,  True,  True,  True,  True, False,  True,\n",
       "        True, False, False, False, False, False,  True,  True, False,\n",
       "        True,  True, False, False, False, False, False,  True,  True,\n",
       "       False,  True,  True, False, False, False, False, False,  True,\n",
       "        True, False,  True,  True, False, False, False, False, False,\n",
       "        True,  True, False,  True,  True, False, False, False, False,\n",
       "       False,  True,  True, False,  True,  True,  True,  True,  True,\n",
       "       False,  True,  True,  True, False, False, False, False, False,\n",
       "        True,  True,  True, False,  True,  True,  True,  True,  True,\n",
       "       False,  True,  True, False, False, False, False, False,  True,\n",
       "        True, False,  True,  True, False, False, False, False, False,\n",
       "        True,  True, False,  True,  True, False, False, False, False,\n",
       "       False,  True,  True, False,  True,  True, False, False, False,\n",
       "       False, False,  True,  True, False,  True,  True, False, False,\n",
       "       False, False, False,  True,  True, False,  True,  True,  True,\n",
       "        True,  True, False,  True,  True,  True, False, False, False,\n",
       "       False, False,  True,  True,  True, False,  True,  True,  True,\n",
       "        True,  True, False,  True,  True, False, False, False, False,\n",
       "       False,  True,  True, False,  True,  True, False, False, False,\n",
       "       False, False,  True,  True, False,  True,  True, False, False,\n",
       "       False, False, False,  True,  True, False,  True,  True, False,\n",
       "       False, False, False, False,  True,  True, False,  True,  True,\n",
       "       False, False, False, False, False,  True,  True, False,  True,\n",
       "        True,  True,  True,  True, False,  True,  True,  True,  True,\n",
       "        True,  True,  True,  True,  True,  True,  True,  True,  True,\n",
       "        True,  True])"
      ]
     },
     "execution_count": 136,
     "metadata": {},
     "output_type": "execute_result"
    }
   ],
   "source": [
    "np.array(rna_inv_env.bonds) != None"
   ]
  },
  {
   "cell_type": "code",
   "execution_count": null,
   "id": "b65bcaa3-ca12-4a0b-8193-698694e8de4f",
   "metadata": {},
   "outputs": [],
   "source": []
  }
 ],
 "metadata": {
  "kernelspec": {
   "display_name": "Python 3",
   "language": "python",
   "name": "python3"
  },
  "language_info": {
   "codemirror_mode": {
    "name": "ipython",
    "version": 3
   },
   "file_extension": ".py",
   "mimetype": "text/x-python",
   "name": "python",
   "nbconvert_exporter": "python",
   "pygments_lexer": "ipython3",
   "version": "3.7.3"
  }
 },
 "nbformat": 4,
 "nbformat_minor": 5
}
