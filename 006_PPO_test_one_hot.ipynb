{
 "cells": [
  {
   "cell_type": "code",
   "execution_count": 11,
   "id": "9d8fbc93-3148-41d1-ab8e-1ec42681ae7e",
   "metadata": {},
   "outputs": [
    {
     "name": "stdout",
     "output_type": "stream",
     "text": [
      "The autoreload extension is already loaded. To reload it, use:\n",
      "  %reload_ext autoreload\n"
     ]
    }
   ],
   "source": [
    "%load_ext autoreload\n",
    "%autoreload 2"
   ]
  },
  {
   "cell_type": "code",
   "execution_count": 12,
   "id": "4d78a310-2a2d-4ab2-b180-98ebb67998e4",
   "metadata": {},
   "outputs": [],
   "source": [
    "from environment import RNAInvEnvironment, make_vec_env"
   ]
  },
  {
   "cell_type": "code",
   "execution_count": 13,
   "id": "2a0a0611-cc1f-4998-ad92-194815047030",
   "metadata": {},
   "outputs": [],
   "source": [
    "max_steps = 512"
   ]
  },
  {
   "cell_type": "code",
   "execution_count": 14,
   "id": "9aeed67c-4ab9-4129-91b1-02bbb7d3e212",
   "metadata": {},
   "outputs": [],
   "source": [
    "objective_structure = '(((((((....(((...........)))((((((((..(((((((((((((((((((...(((((......))))).)))))).)))))))))))))..))))))))..)))))))'\n",
    "# objective_structure = '(((((((((((((((.(((((.((.....)).((.....)).((.....)).((.....)).((.....)).))))).(((.....))).(((((.((.....)).((.....)).((.....)).((.....)).((.....)).))))).(((.....))).(((((.((.....)).((.....)).((.....)).((.....)).((.....)).))))).(((.....))).(((((.((.....)).((.....)).((.....)).((.....)).((.....)).))))).(((.....))).(((((.((.....)).((.....)).((.....)).((.....)).((.....)).))))).)))))))))))))))'\n",
    "n_envs=12\n",
    "env = make_vec_env(RNAInvEnvironment, n_envs=n_envs, env_kwargs={'objective_structure': objective_structure, 'max_steps': max_steps})"
   ]
  },
  {
   "cell_type": "code",
   "execution_count": 171,
   "id": "fc0f704e-0fe1-4841-b2af-d0173b63ea79",
   "metadata": {},
   "outputs": [],
   "source": [
    "from stable_baselines3 import PPO, DQN\n",
    "from stable_baselines3.common.callbacks import EvalCallback\n",
    "from stable_baselines3.common.policies import CombinedExtractor\n",
    "from stable_baselines3.common.preprocessing import preprocess_obs"
   ]
  },
  {
   "cell_type": "code",
   "execution_count": 163,
   "id": "c6d4b324-1aab-468b-8505-7b161b6aad2b",
   "metadata": {},
   "outputs": [],
   "source": [
    "# observation"
   ]
  },
  {
   "cell_type": "code",
   "execution_count": 181,
   "id": "cc6968e2-90da-4c8c-95eb-fda0d6bc3be9",
   "metadata": {
    "collapsed": true,
    "jupyter": {
     "outputs_hidden": true
    },
    "tags": []
   },
   "outputs": [
    {
     "name": "stdout",
     "output_type": "stream",
     "text": [
      "{'0': tensor([[0., 0., 1., 0., 0., 0.]], device='cuda:0'), '1': tensor([[1., 0., 0., 0., 0., 0.]], device='cuda:0'), '10': tensor([[0., 0., 1., 0.]], device='cuda:0'), '100': tensor([[0., 0., 0., 1., 0., 0.]], device='cuda:0'), '101': tensor([[0., 0., 0., 0., 0., 1.]], device='cuda:0'), '102': tensor([[1., 0., 0., 0., 0., 0.]], device='cuda:0'), '103': tensor([[0., 0., 1., 0., 0., 0.]], device='cuda:0'), '104': tensor([[0., 0., 1., 0., 0., 0.]], device='cuda:0'), '105': tensor([[0., 0., 1., 0., 0., 0.]], device='cuda:0'), '106': tensor([[0., 0., 0., 0., 0., 1.]], device='cuda:0'), '107': tensor([[0., 0., 0., 1.]], device='cuda:0'), '108': tensor([[0., 0., 0., 1.]], device='cuda:0'), '109': tensor([[0., 0., 0., 0., 0., 1.]], device='cuda:0'), '11': tensor([[0., 0., 0., 0., 0., 1.]], device='cuda:0'), '110': tensor([[0., 0., 0., 1., 0., 0.]], device='cuda:0'), '111': tensor([[0., 1., 0., 0., 0., 0.]], device='cuda:0'), '112': tensor([[0., 0., 1., 0., 0., 0.]], device='cuda:0'), '113': tensor([[1., 0., 0., 0., 0., 0.]], device='cuda:0'), '114': tensor([[0., 0., 0., 0., 0., 1.]], device='cuda:0'), '115': tensor([[1., 0., 0., 0., 0., 0.]], device='cuda:0'), '12': tensor([[1., 0., 0., 0., 0., 0.]], device='cuda:0'), '13': tensor([[0., 0., 0., 1., 0., 0.]], device='cuda:0'), '14': tensor([[0., 0., 0., 1.]], device='cuda:0'), '15': tensor([[0., 1., 0., 0.]], device='cuda:0'), '16': tensor([[0., 0., 1., 0.]], device='cuda:0'), '17': tensor([[0., 1., 0., 0.]], device='cuda:0'), '18': tensor([[1., 0., 0., 0.]], device='cuda:0'), '19': tensor([[0., 0., 0., 1.]], device='cuda:0'), '2': tensor([[1., 0., 0., 0., 0., 0.]], device='cuda:0'), '20': tensor([[0., 1., 0., 0.]], device='cuda:0'), '21': tensor([[0., 1., 0., 0.]], device='cuda:0'), '22': tensor([[0., 1., 0., 0.]], device='cuda:0'), '23': tensor([[0., 0., 1., 0.]], device='cuda:0'), '24': tensor([[0., 0., 1., 0.]], device='cuda:0'), '25': tensor([[0., 0., 0., 1., 0., 0.]], device='cuda:0'), '26': tensor([[1., 0., 0., 0., 0., 0.]], device='cuda:0'), '27': tensor([[1., 0., 0., 0., 0., 0.]], device='cuda:0'), '28': tensor([[0., 1., 0., 0., 0., 0.]], device='cuda:0'), '29': tensor([[0., 0., 1., 0., 0., 0.]], device='cuda:0'), '3': tensor([[0., 1., 0., 0., 0., 0.]], device='cuda:0'), '30': tensor([[0., 1., 0., 0., 0., 0.]], device='cuda:0'), '31': tensor([[0., 0., 1., 0., 0., 0.]], device='cuda:0'), '32': tensor([[0., 0., 0., 0., 0., 1.]], device='cuda:0'), '33': tensor([[0., 0., 0., 1., 0., 0.]], device='cuda:0'), '34': tensor([[0., 0., 1., 0., 0., 0.]], device='cuda:0'), '35': tensor([[0., 0., 0., 0., 1., 0.]], device='cuda:0'), '36': tensor([[0., 1., 0., 0.]], device='cuda:0'), '37': tensor([[0., 1., 0., 0.]], device='cuda:0'), '38': tensor([[0., 0., 0., 0., 0., 1.]], device='cuda:0'), '39': tensor([[0., 0., 0., 1., 0., 0.]], device='cuda:0'), '4': tensor([[0., 0., 1., 0., 0., 0.]], device='cuda:0'), '40': tensor([[0., 0., 1., 0., 0., 0.]], device='cuda:0'), '41': tensor([[0., 0., 0., 1., 0., 0.]], device='cuda:0'), '42': tensor([[0., 0., 0., 1., 0., 0.]], device='cuda:0'), '43': tensor([[0., 0., 0., 1., 0., 0.]], device='cuda:0'), '44': tensor([[0., 0., 1., 0., 0., 0.]], device='cuda:0'), '45': tensor([[1., 0., 0., 0., 0., 0.]], device='cuda:0'), '46': tensor([[0., 0., 0., 0., 1., 0.]], device='cuda:0'), '47': tensor([[0., 1., 0., 0., 0., 0.]], device='cuda:0'), '48': tensor([[0., 0., 1., 0., 0., 0.]], device='cuda:0'), '49': tensor([[0., 0., 1., 0., 0., 0.]], device='cuda:0'), '5': tensor([[0., 0., 0., 0., 0., 1.]], device='cuda:0'), '50': tensor([[0., 1., 0., 0., 0., 0.]], device='cuda:0'), '51': tensor([[0., 0., 0., 0., 0., 1.]], device='cuda:0'), '52': tensor([[0., 0., 1., 0., 0., 0.]], device='cuda:0'), '53': tensor([[1., 0., 0., 0., 0., 0.]], device='cuda:0'), '54': tensor([[0., 0., 0., 0., 1., 0.]], device='cuda:0'), '55': tensor([[0., 0., 1., 0., 0., 0.]], device='cuda:0'), '56': tensor([[0., 0., 1., 0., 0., 0.]], device='cuda:0'), '57': tensor([[0., 0., 1., 0.]], device='cuda:0'), '58': tensor([[1., 0., 0., 0.]], device='cuda:0'), '59': tensor([[1., 0., 0., 0.]], device='cuda:0'), '6': tensor([[0., 0., 0., 0., 0., 1.]], device='cuda:0'), '60': tensor([[0., 1., 0., 0., 0., 0.]], device='cuda:0'), '61': tensor([[0., 1., 0., 0., 0., 0.]], device='cuda:0'), '62': tensor([[0., 0., 1., 0., 0., 0.]], device='cuda:0'), '63': tensor([[1., 0., 0., 0., 0., 0.]], device='cuda:0'), '64': tensor([[0., 0., 0., 0., 1., 0.]], device='cuda:0'), '65': tensor([[1., 0., 0., 0.]], device='cuda:0'), '66': tensor([[0., 0., 1., 0.]], device='cuda:0'), '67': tensor([[0., 0., 1., 0.]], device='cuda:0'), '68': tensor([[0., 1., 0., 0.]], device='cuda:0'), '69': tensor([[0., 1., 0., 0.]], device='cuda:0'), '7': tensor([[0., 0., 0., 1.]], device='cuda:0'), '70': tensor([[0., 0., 1., 0.]], device='cuda:0'), '71': tensor([[0., 0., 0., 1., 0., 0.]], device='cuda:0'), '72': tensor([[0., 0., 1., 0., 0., 0.]], device='cuda:0'), '73': tensor([[0., 0., 1., 0., 0., 0.]], device='cuda:0'), '74': tensor([[1., 0., 0., 0., 0., 0.]], device='cuda:0'), '75': tensor([[0., 0., 0., 0., 0., 1.]], device='cuda:0'), '76': tensor([[1., 0., 0., 0.]], device='cuda:0'), '77': tensor([[0., 0., 0., 0., 0., 1.]], device='cuda:0'), '78': tensor([[0., 0., 0., 0., 1., 0.]], device='cuda:0'), '79': tensor([[0., 0., 0., 1., 0., 0.]], device='cuda:0'), '8': tensor([[0., 0., 1., 0.]], device='cuda:0'), '80': tensor([[0., 0., 0., 0., 1., 0.]], device='cuda:0'), '81': tensor([[0., 0., 0., 1., 0., 0.]], device='cuda:0'), '82': tensor([[0., 0., 1., 0., 0., 0.]], device='cuda:0'), '83': tensor([[0., 0., 1., 0.]], device='cuda:0'), '84': tensor([[0., 0., 0., 0., 1., 0.]], device='cuda:0'), '85': tensor([[0., 1., 0., 0., 0., 0.]], device='cuda:0'), '86': tensor([[0., 1., 0., 0., 0., 0.]], device='cuda:0'), '87': tensor([[1., 0., 0., 0., 0., 0.]], device='cuda:0'), '88': tensor([[1., 0., 0., 0., 0., 0.]], device='cuda:0'), '89': tensor([[0., 0., 0., 1., 0., 0.]], device='cuda:0'), '9': tensor([[0., 0., 0., 1.]], device='cuda:0'), '90': tensor([[0., 1., 0., 0., 0., 0.]], device='cuda:0'), '91': tensor([[0., 0., 1., 0., 0., 0.]], device='cuda:0'), '92': tensor([[0., 0., 0., 0., 1., 0.]], device='cuda:0'), '93': tensor([[0., 0., 0., 1., 0., 0.]], device='cuda:0'), '94': tensor([[0., 0., 1., 0., 0., 0.]], device='cuda:0'), '95': tensor([[0., 0., 0., 0., 0., 1.]], device='cuda:0'), '96': tensor([[0., 1., 0., 0., 0., 0.]], device='cuda:0'), '97': tensor([[0., 0., 1., 0.]], device='cuda:0'), '98': tensor([[0., 0., 0., 1.]], device='cuda:0'), '99': tensor([[0., 0., 0., 0., 1., 0.]], device='cuda:0')}\n"
     ]
    }
   ],
   "source": [
    "def preprocess_observation(observation):\n",
    "\n",
    "    for key, obs in observation.items():\n",
    "        obs_space = env.observation_space.spaces[key]\n",
    "\n",
    "        obs_ = np.array(obs)\n",
    "    #     vectorized_env = vectorized_env or is_vectorized_observation(obs_, obs_space)\n",
    "        # Add batch dimension if needed\n",
    "        observation[key] = obs_.reshape((-1,) + env.observation_space[key].shape)\n",
    "    observation = {key: torch.as_tensor(_obs).to(model.device) for (key, _obs) in observation.items()}\n",
    "\n",
    "    observation = preprocess_obs(observation, env.observation_space)\n",
    "    return observation\n",
    "\n",
    "observation = env.observation_space.sample()\n",
    "observation = preprocess_observation(observation)\n",
    "print(observation)\n",
    "ce = CombinedExtractor(env.observation_space)\n"
   ]
  },
  {
   "cell_type": "code",
   "execution_count": 183,
   "id": "35085ee9-78ff-4f19-814e-97a4898ad4a5",
   "metadata": {},
   "outputs": [
    {
     "data": {
      "text/plain": [
       "CombinedExtractor(\n",
       "  (extractors): ModuleDict(\n",
       "    (0): Flatten(start_dim=1, end_dim=-1)\n",
       "    (1): Flatten(start_dim=1, end_dim=-1)\n",
       "    (10): Flatten(start_dim=1, end_dim=-1)\n",
       "    (100): Flatten(start_dim=1, end_dim=-1)\n",
       "    (101): Flatten(start_dim=1, end_dim=-1)\n",
       "    (102): Flatten(start_dim=1, end_dim=-1)\n",
       "    (103): Flatten(start_dim=1, end_dim=-1)\n",
       "    (104): Flatten(start_dim=1, end_dim=-1)\n",
       "    (105): Flatten(start_dim=1, end_dim=-1)\n",
       "    (106): Flatten(start_dim=1, end_dim=-1)\n",
       "    (107): Flatten(start_dim=1, end_dim=-1)\n",
       "    (108): Flatten(start_dim=1, end_dim=-1)\n",
       "    (109): Flatten(start_dim=1, end_dim=-1)\n",
       "    (11): Flatten(start_dim=1, end_dim=-1)\n",
       "    (110): Flatten(start_dim=1, end_dim=-1)\n",
       "    (111): Flatten(start_dim=1, end_dim=-1)\n",
       "    (112): Flatten(start_dim=1, end_dim=-1)\n",
       "    (113): Flatten(start_dim=1, end_dim=-1)\n",
       "    (114): Flatten(start_dim=1, end_dim=-1)\n",
       "    (115): Flatten(start_dim=1, end_dim=-1)\n",
       "    (12): Flatten(start_dim=1, end_dim=-1)\n",
       "    (13): Flatten(start_dim=1, end_dim=-1)\n",
       "    (14): Flatten(start_dim=1, end_dim=-1)\n",
       "    (15): Flatten(start_dim=1, end_dim=-1)\n",
       "    (16): Flatten(start_dim=1, end_dim=-1)\n",
       "    (17): Flatten(start_dim=1, end_dim=-1)\n",
       "    (18): Flatten(start_dim=1, end_dim=-1)\n",
       "    (19): Flatten(start_dim=1, end_dim=-1)\n",
       "    (2): Flatten(start_dim=1, end_dim=-1)\n",
       "    (20): Flatten(start_dim=1, end_dim=-1)\n",
       "    (21): Flatten(start_dim=1, end_dim=-1)\n",
       "    (22): Flatten(start_dim=1, end_dim=-1)\n",
       "    (23): Flatten(start_dim=1, end_dim=-1)\n",
       "    (24): Flatten(start_dim=1, end_dim=-1)\n",
       "    (25): Flatten(start_dim=1, end_dim=-1)\n",
       "    (26): Flatten(start_dim=1, end_dim=-1)\n",
       "    (27): Flatten(start_dim=1, end_dim=-1)\n",
       "    (28): Flatten(start_dim=1, end_dim=-1)\n",
       "    (29): Flatten(start_dim=1, end_dim=-1)\n",
       "    (3): Flatten(start_dim=1, end_dim=-1)\n",
       "    (30): Flatten(start_dim=1, end_dim=-1)\n",
       "    (31): Flatten(start_dim=1, end_dim=-1)\n",
       "    (32): Flatten(start_dim=1, end_dim=-1)\n",
       "    (33): Flatten(start_dim=1, end_dim=-1)\n",
       "    (34): Flatten(start_dim=1, end_dim=-1)\n",
       "    (35): Flatten(start_dim=1, end_dim=-1)\n",
       "    (36): Flatten(start_dim=1, end_dim=-1)\n",
       "    (37): Flatten(start_dim=1, end_dim=-1)\n",
       "    (38): Flatten(start_dim=1, end_dim=-1)\n",
       "    (39): Flatten(start_dim=1, end_dim=-1)\n",
       "    (4): Flatten(start_dim=1, end_dim=-1)\n",
       "    (40): Flatten(start_dim=1, end_dim=-1)\n",
       "    (41): Flatten(start_dim=1, end_dim=-1)\n",
       "    (42): Flatten(start_dim=1, end_dim=-1)\n",
       "    (43): Flatten(start_dim=1, end_dim=-1)\n",
       "    (44): Flatten(start_dim=1, end_dim=-1)\n",
       "    (45): Flatten(start_dim=1, end_dim=-1)\n",
       "    (46): Flatten(start_dim=1, end_dim=-1)\n",
       "    (47): Flatten(start_dim=1, end_dim=-1)\n",
       "    (48): Flatten(start_dim=1, end_dim=-1)\n",
       "    (49): Flatten(start_dim=1, end_dim=-1)\n",
       "    (5): Flatten(start_dim=1, end_dim=-1)\n",
       "    (50): Flatten(start_dim=1, end_dim=-1)\n",
       "    (51): Flatten(start_dim=1, end_dim=-1)\n",
       "    (52): Flatten(start_dim=1, end_dim=-1)\n",
       "    (53): Flatten(start_dim=1, end_dim=-1)\n",
       "    (54): Flatten(start_dim=1, end_dim=-1)\n",
       "    (55): Flatten(start_dim=1, end_dim=-1)\n",
       "    (56): Flatten(start_dim=1, end_dim=-1)\n",
       "    (57): Flatten(start_dim=1, end_dim=-1)\n",
       "    (58): Flatten(start_dim=1, end_dim=-1)\n",
       "    (59): Flatten(start_dim=1, end_dim=-1)\n",
       "    (6): Flatten(start_dim=1, end_dim=-1)\n",
       "    (60): Flatten(start_dim=1, end_dim=-1)\n",
       "    (61): Flatten(start_dim=1, end_dim=-1)\n",
       "    (62): Flatten(start_dim=1, end_dim=-1)\n",
       "    (63): Flatten(start_dim=1, end_dim=-1)\n",
       "    (64): Flatten(start_dim=1, end_dim=-1)\n",
       "    (65): Flatten(start_dim=1, end_dim=-1)\n",
       "    (66): Flatten(start_dim=1, end_dim=-1)\n",
       "    (67): Flatten(start_dim=1, end_dim=-1)\n",
       "    (68): Flatten(start_dim=1, end_dim=-1)\n",
       "    (69): Flatten(start_dim=1, end_dim=-1)\n",
       "    (7): Flatten(start_dim=1, end_dim=-1)\n",
       "    (70): Flatten(start_dim=1, end_dim=-1)\n",
       "    (71): Flatten(start_dim=1, end_dim=-1)\n",
       "    (72): Flatten(start_dim=1, end_dim=-1)\n",
       "    (73): Flatten(start_dim=1, end_dim=-1)\n",
       "    (74): Flatten(start_dim=1, end_dim=-1)\n",
       "    (75): Flatten(start_dim=1, end_dim=-1)\n",
       "    (76): Flatten(start_dim=1, end_dim=-1)\n",
       "    (77): Flatten(start_dim=1, end_dim=-1)\n",
       "    (78): Flatten(start_dim=1, end_dim=-1)\n",
       "    (79): Flatten(start_dim=1, end_dim=-1)\n",
       "    (8): Flatten(start_dim=1, end_dim=-1)\n",
       "    (80): Flatten(start_dim=1, end_dim=-1)\n",
       "    (81): Flatten(start_dim=1, end_dim=-1)\n",
       "    (82): Flatten(start_dim=1, end_dim=-1)\n",
       "    (83): Flatten(start_dim=1, end_dim=-1)\n",
       "    (84): Flatten(start_dim=1, end_dim=-1)\n",
       "    (85): Flatten(start_dim=1, end_dim=-1)\n",
       "    (86): Flatten(start_dim=1, end_dim=-1)\n",
       "    (87): Flatten(start_dim=1, end_dim=-1)\n",
       "    (88): Flatten(start_dim=1, end_dim=-1)\n",
       "    (89): Flatten(start_dim=1, end_dim=-1)\n",
       "    (9): Flatten(start_dim=1, end_dim=-1)\n",
       "    (90): Flatten(start_dim=1, end_dim=-1)\n",
       "    (91): Flatten(start_dim=1, end_dim=-1)\n",
       "    (92): Flatten(start_dim=1, end_dim=-1)\n",
       "    (93): Flatten(start_dim=1, end_dim=-1)\n",
       "    (94): Flatten(start_dim=1, end_dim=-1)\n",
       "    (95): Flatten(start_dim=1, end_dim=-1)\n",
       "    (96): Flatten(start_dim=1, end_dim=-1)\n",
       "    (97): Flatten(start_dim=1, end_dim=-1)\n",
       "    (98): Flatten(start_dim=1, end_dim=-1)\n",
       "    (99): Flatten(start_dim=1, end_dim=-1)\n",
       "  )\n",
       ")"
      ]
     },
     "execution_count": 183,
     "metadata": {},
     "output_type": "execute_result"
    }
   ],
   "source": [
    "ce"
   ]
  },
  {
   "cell_type": "code",
   "execution_count": 182,
   "id": "a7990770-c369-4608-882a-317052416625",
   "metadata": {},
   "outputs": [
    {
     "data": {
      "text/plain": [
       "tensor([[0., 0., 1., 0., 0., 0., 1., 0., 0., 0., 0., 0., 0., 0., 1., 0., 0., 0.,\n",
       "         0., 1., 0., 0., 0., 0., 0., 0., 0., 1., 1., 0., 0., 0., 0., 0., 0., 0.,\n",
       "         1., 0., 0., 0., 0., 0., 1., 0., 0., 0., 0., 0., 1., 0., 0., 0., 0., 0.,\n",
       "         0., 0., 0., 1., 0., 0., 0., 1., 0., 0., 0., 1., 0., 0., 0., 0., 0., 1.,\n",
       "         0., 0., 0., 0., 0., 1., 0., 0., 0., 1., 0., 0., 0., 1., 0., 0., 0., 0.,\n",
       "         0., 0., 1., 0., 0., 0., 1., 0., 0., 0., 0., 0., 0., 0., 0., 0., 0., 1.,\n",
       "         1., 0., 0., 0., 0., 0., 1., 0., 0., 0., 0., 0., 0., 0., 0., 1., 0., 0.,\n",
       "         0., 0., 0., 1., 0., 1., 0., 0., 0., 0., 1., 0., 0., 1., 0., 0., 1., 0.,\n",
       "         0., 0., 0., 0., 0., 1., 1., 0., 0., 0., 0., 0., 0., 1., 0., 0., 0., 1.,\n",
       "         0., 0., 0., 1., 0., 0., 0., 0., 1., 0., 0., 0., 1., 0., 0., 0., 0., 1.,\n",
       "         0., 0., 1., 0., 0., 0., 0., 0., 1., 0., 0., 0., 0., 0., 0., 1., 0., 0.,\n",
       "         0., 0., 0., 0., 1., 0., 0., 0., 0., 1., 0., 0., 0., 0., 0., 1., 0., 0.,\n",
       "         0., 0., 0., 0., 1., 0., 0., 0., 0., 0., 0., 0., 0., 1., 0., 0., 0., 1.,\n",
       "         0., 0., 0., 0., 1., 0., 0., 0., 0., 0., 0., 0., 1., 0., 0., 1., 0., 0.,\n",
       "         0., 1., 0., 0., 0., 0., 0., 0., 0., 1., 0., 0., 0., 1., 0., 0., 0., 0.,\n",
       "         1., 0., 0., 0., 0., 0., 1., 0., 0., 0., 0., 0., 0., 1., 0., 0., 0., 0.,\n",
       "         0., 1., 0., 0., 0., 0., 0., 1., 0., 0., 0., 0., 1., 0., 0., 0., 1., 0.,\n",
       "         0., 0., 0., 0., 0., 0., 0., 0., 1., 0., 0., 1., 0., 0., 0., 0., 0., 0.,\n",
       "         1., 0., 0., 0., 0., 0., 1., 0., 0., 0., 0., 0., 0., 0., 0., 1., 0., 1.,\n",
       "         0., 0., 0., 0., 0., 0., 0., 0., 0., 1., 0., 0., 1., 0., 0., 0., 1., 0.,\n",
       "         0., 0., 0., 0., 0., 0., 0., 0., 1., 0., 0., 0., 1., 0., 0., 0., 0., 0.,\n",
       "         1., 0., 0., 0., 0., 0., 1., 0., 1., 0., 0., 0., 1., 0., 0., 0., 0., 0.,\n",
       "         0., 0., 0., 1., 0., 1., 0., 0., 0., 0., 0., 1., 0., 0., 0., 0., 0., 0.,\n",
       "         1., 0., 0., 0., 1., 0., 0., 0., 0., 0., 0., 0., 0., 0., 1., 0., 1., 0.,\n",
       "         0., 0., 0., 0., 1., 0., 0., 0., 1., 0., 0., 1., 0., 0., 0., 1., 0., 0.,\n",
       "         0., 0., 0., 1., 0., 0., 1., 0., 0., 0., 0., 1., 0., 0., 0., 0., 1., 0.,\n",
       "         0., 0., 0., 0., 1., 0., 0., 0., 1., 0., 0., 0., 0., 0., 0., 0., 0., 0.,\n",
       "         0., 1., 1., 0., 0., 0., 0., 0., 0., 0., 0., 1., 0., 0., 0., 0., 1., 0.,\n",
       "         0., 0., 0., 1., 0., 0., 0., 0., 1., 0., 0., 0., 0., 0., 1., 0., 0., 0.,\n",
       "         0., 1., 0., 0., 0., 0., 1., 0., 0., 0., 0., 0., 1., 0., 0., 0., 0., 0.,\n",
       "         1., 0., 0., 1., 0., 0., 0., 0., 0., 1., 0., 0., 0., 0., 1., 0., 0., 0.,\n",
       "         0., 0., 1., 0., 0., 0., 0., 0., 0., 0., 0., 1., 0., 0., 0., 0., 0., 1.,\n",
       "         0., 1., 0., 0., 0., 0., 0., 0., 1., 0., 0., 0., 0., 0., 0., 0., 1., 0.,\n",
       "         0., 0., 0., 1., 0., 0., 0., 0., 1., 0., 0., 0., 0., 0., 0., 0., 0., 1.,\n",
       "         0., 1., 0., 0., 0., 0., 0., 0., 1., 0., 0., 0., 0., 1., 0., 0., 0., 0.,\n",
       "         1., 0.]], device='cuda:0')"
      ]
     },
     "execution_count": 182,
     "metadata": {},
     "output_type": "execute_result"
    }
   ],
   "source": [
    "ce(observation)"
   ]
  },
  {
   "cell_type": "code",
   "execution_count": null,
   "id": "525ec2b5-8eea-486a-a276-1e1f9e872dc1",
   "metadata": {},
   "outputs": [],
   "source": []
  },
  {
   "cell_type": "code",
   "execution_count": null,
   "id": "36da6057-577c-49e8-99be-609de43ac56b",
   "metadata": {},
   "outputs": [],
   "source": []
  },
  {
   "cell_type": "code",
   "execution_count": null,
   "id": "cab30de0-8840-4513-8429-01bd4af8d3bc",
   "metadata": {},
   "outputs": [],
   "source": []
  },
  {
   "cell_type": "code",
   "execution_count": null,
   "id": "2ebca339-8267-43b2-95c5-3ea6f7b4d00a",
   "metadata": {},
   "outputs": [],
   "source": []
  },
  {
   "cell_type": "code",
   "execution_count": null,
   "id": "b8d1df12-d2c3-4d09-841a-54954bbdd40d",
   "metadata": {},
   "outputs": [],
   "source": []
  },
  {
   "cell_type": "code",
   "execution_count": null,
   "id": "95b6fd40-be88-4311-955a-c527e8612ca5",
   "metadata": {},
   "outputs": [],
   "source": []
  },
  {
   "cell_type": "code",
   "execution_count": null,
   "id": "2b1da18a-4bec-4fbf-8b67-282ce257a5f7",
   "metadata": {},
   "outputs": [],
   "source": []
  },
  {
   "cell_type": "code",
   "execution_count": null,
   "id": "d1c39bb0-7233-4df5-b8c7-837499f49a23",
   "metadata": {},
   "outputs": [],
   "source": []
  },
  {
   "cell_type": "code",
   "execution_count": null,
   "id": "d88fb546-40ea-4743-8616-70e175030b5c",
   "metadata": {},
   "outputs": [],
   "source": []
  },
  {
   "cell_type": "code",
   "execution_count": null,
   "id": "cc4bc9ba-68f1-4f23-97a6-07a620fc7ef8",
   "metadata": {},
   "outputs": [],
   "source": []
  },
  {
   "cell_type": "code",
   "execution_count": null,
   "id": "e1284e53-5af1-4bb0-ba8c-80e5b2d3febd",
   "metadata": {},
   "outputs": [],
   "source": []
  },
  {
   "cell_type": "code",
   "execution_count": null,
   "id": "ccc60846-5bbf-42e6-a1dc-1de6739fd172",
   "metadata": {},
   "outputs": [],
   "source": []
  },
  {
   "cell_type": "code",
   "execution_count": null,
   "id": "640162c7-df1c-4b3a-9778-d9bbe069fc50",
   "metadata": {},
   "outputs": [],
   "source": []
  },
  {
   "cell_type": "code",
   "execution_count": 34,
   "id": "aa2e7540-dc56-41f9-8a06-2accb8a3cf94",
   "metadata": {},
   "outputs": [
    {
     "data": {
      "text/plain": [
       "True"
      ]
     },
     "execution_count": 34,
     "metadata": {},
     "output_type": "execute_result"
    }
   ],
   "source": [
    "import RNA\n",
    "sol_1 = 'CUGCUUGGUUUGGGCCCUUUCUUUCCCCGCCCUAUACGGGGGUAAUCGUGGUCAAGGGGGUCGGUGGAUUGACCGAACUUUGAUUCACGGUUAUUUCGAUGUGGGGCAAUAAGUAG'\n",
    "sol_2 = 'CGUUCGGCCAUGUCCUCGAAAAAUUGACGCUAAACGGCAUACCGGCGAUUUUUAGGCUACUCACCGAAAAGGGUGGCGCUUGACAGAUUGUUGGUGUUACGUUUGGCACCCGAAUG'\n",
    "sol_3 = 'UUGACCCUGGGCGUGGUGUGGGUGAACGAGCAGUGUCUGAAUAUUUUAGUCCACCCUUGCUGGGGCCUCUAUUCUAUAGGGUGAGGUUGGAAUAUUUUAAUAUUGUUGUGGGUCGA'\n",
    "sol_4 = 'GGUGGAGAAUAUCGCCUAGCCCUAACGAGCGCGCAUAUAUAGGCUUUUGACGGUGUGCAGCAGAGUGGACCCUCUGAUACGCUAGUUGGAGGCUUGUUAGUGUGUGUAACUCCACC'\n",
    "\n",
    "objective_structure_simple_1 = '(((((((....(((...........)))((((((((..(((((((((((((((((((...(((((......))))).)))))).)))))))))))))..))))))))..)))))))'\n",
    "\n",
    "sec_struct, energy = RNA.fold(sol_3)\n",
    "sec_struct == objective_structure_simple_1"
   ]
  },
  {
   "cell_type": "code",
   "execution_count": 136,
   "id": "deb0267c-01f2-42ae-bae4-7a6a6083be52",
   "metadata": {},
   "outputs": [
    {
     "data": {
      "text/plain": [
       "True"
      ]
     },
     "execution_count": 136,
     "metadata": {},
     "output_type": "execute_result"
    }
   ],
   "source": [
    "sec_struct == objective_structure"
   ]
  },
  {
   "cell_type": "code",
   "execution_count": null,
   "id": "6286786d-41f7-40a2-93ea-e70492595a28",
   "metadata": {},
   "outputs": [],
   "source": [
    "model.learn(total_timesteps=25000)\n",
    "model.save(\"ppo_cartpole\")"
   ]
  }
 ],
 "metadata": {
  "kernelspec": {
   "display_name": "Python 3",
   "language": "python",
   "name": "python3"
  },
  "language_info": {
   "codemirror_mode": {
    "name": "ipython",
    "version": 3
   },
   "file_extension": ".py",
   "mimetype": "text/x-python",
   "name": "python",
   "nbconvert_exporter": "python",
   "pygments_lexer": "ipython3",
   "version": "3.7.3"
  }
 },
 "nbformat": 4,
 "nbformat_minor": 5
}
