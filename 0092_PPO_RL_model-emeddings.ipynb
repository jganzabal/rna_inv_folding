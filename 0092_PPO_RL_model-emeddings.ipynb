{
 "cells": [
  {
   "cell_type": "code",
   "execution_count": 16,
   "id": "9d8fbc93-3148-41d1-ab8e-1ec42681ae7e",
   "metadata": {},
   "outputs": [
    {
     "name": "stdout",
     "output_type": "stream",
     "text": [
      "The autoreload extension is already loaded. To reload it, use:\n",
      "  %reload_ext autoreload\n"
     ]
    }
   ],
   "source": [
    "%load_ext autoreload\n",
    "%autoreload 2"
   ]
  },
  {
   "cell_type": "code",
   "execution_count": 2,
   "id": "4d78a310-2a2d-4ab2-b180-98ebb67998e4",
   "metadata": {},
   "outputs": [],
   "source": [
    "from environment import RNAInvEnvironment, make_vec_env, Monitor\n",
    "from RNA_helper import get_puzzle\n",
    "import torch as th\n",
    "from models import EmbeddinsFeatureExtractor\n",
    "from stable_baselines3.common import logger"
   ]
  },
  {
   "cell_type": "code",
   "execution_count": 3,
   "id": "30e1b624-d75b-4bb1-8948-109f8b7c1544",
   "metadata": {
    "tags": []
   },
   "outputs": [
    {
     "name": "stdout",
     "output_type": "stream",
     "text": [
      "5 -209.8000030517578 -209.8000030517578\n",
      "yes\n",
      "\n"
     ]
    },
    {
     "data": {
      "text/plain": [
       "379"
      ]
     },
     "execution_count": 3,
     "metadata": {},
     "output_type": "execute_result"
    }
   ],
   "source": [
    "# 1, 41, 84, 92, 97, 5\n",
    "puzzle_idx=5\n",
    "objective_structure, sequence, puzzle_name = get_puzzle(idx=puzzle_idx, return_name=True, verbose=False)\n",
    "len(objective_structure)"
   ]
  },
  {
   "cell_type": "code",
   "execution_count": 4,
   "id": "2a0a0611-cc1f-4998-ad92-194815047030",
   "metadata": {},
   "outputs": [
    {
     "name": "stdout",
     "output_type": "stream",
     "text": [
      "saccharomyces_cerevisiae_-_difficulty_level_0_512_16_energies_mse\n"
     ]
    }
   ],
   "source": [
    "max_steps = 1\n",
    "features_dim = 512\n",
    "EMBEDDING_DIM = 16\n",
    "metric = 'energies_mse'\n",
    "model_name = puzzle_name.lower().replace(' ', '_') + f'_{features_dim}_{EMBEDDING_DIM}_{metric}'\n",
    "print(model_name)"
   ]
  },
  {
   "cell_type": "code",
   "execution_count": 5,
   "id": "3c3f5cff-d137-4d55-8bf9-5d18305c7096",
   "metadata": {},
   "outputs": [],
   "source": [
    "env_kwargs = {\n",
    "    'objective_structure': objective_structure,\n",
    "    'max_steps': max_steps,\n",
    "    'tuple_obs_space': True,\n",
    "    'metric_type': metric,\n",
    "    'sequences_file': f'solved_puzzles/{model_name}.txt'\n",
    "}"
   ]
  },
  {
   "cell_type": "code",
   "execution_count": 6,
   "id": "9aeed67c-4ab9-4129-91b1-02bbb7d3e212",
   "metadata": {},
   "outputs": [
    {
     "name": "stderr",
     "output_type": "stream",
     "text": [
      "/opt/tljh/user/lib/python3.7/site-packages/gym/logger.py:30: UserWarning: \u001b[33mWARN: Box bound precision lowered by casting to float32\u001b[0m\n",
      "  warnings.warn(colorize('%s: %s'%('WARN', msg % args), 'yellow'))\n"
     ]
    }
   ],
   "source": [
    "n_envs=12\n",
    "env = make_vec_env(RNAInvEnvironment, n_envs=n_envs, env_kwargs=env_kwargs)\n",
    "# env = RNAInvEnvironment(objective_structure=objective_structure, max_steps=max_steps, tuple_obs_space=True)"
   ]
  },
  {
   "cell_type": "code",
   "execution_count": 7,
   "id": "fc0f704e-0fe1-4841-b2af-d0173b63ea79",
   "metadata": {},
   "outputs": [],
   "source": [
    "from stable_baselines3 import PPO\n",
    "from stable_baselines3.common.callbacks import EvalCallback\n",
    "from stable_baselines3.common.policies import ActorCriticPolicy"
   ]
  },
  {
   "cell_type": "code",
   "execution_count": 8,
   "id": "3b582fb0-4051-4534-958a-3154b4113610",
   "metadata": {},
   "outputs": [],
   "source": [
    "policy_kwargs = dict(\n",
    "    features_extractor_class=EmbeddinsFeatureExtractor,\n",
    "    features_extractor_kwargs=dict(EMBEDDING_DIM=EMBEDDING_DIM, features_dim=features_dim),\n",
    ")"
   ]
  },
  {
   "cell_type": "code",
   "execution_count": 9,
   "id": "5da7e0b4-c8d5-42cb-b4e7-ca80404eaff8",
   "metadata": {},
   "outputs": [
    {
     "name": "stdout",
     "output_type": "stream",
     "text": [
      "Using cuda device\n"
     ]
    }
   ],
   "source": [
    "model = PPO(\n",
    "    ActorCriticPolicy,\n",
    "    env,\n",
    "    verbose=1,\n",
    "    tensorboard_log='tensorboard_logs',\n",
    "    n_steps=512,\n",
    "    gamma=0.99,\n",
    "    policy_kwargs=policy_kwargs\n",
    ")"
   ]
  },
  {
   "cell_type": "code",
   "execution_count": 10,
   "id": "051b89fb-f97f-4ac7-8d16-8c5a6222ebcf",
   "metadata": {},
   "outputs": [],
   "source": [
    "# log_path = f\"logs/{model_name}\"\n",
    "# # set up logger\n",
    "# new_logger = logger.configure(log_path, [\"stdout\", \"csv\", \"log\", \"tensorboard\", \"json\"])\n",
    "# model.set_logger(new_logger)"
   ]
  },
  {
   "cell_type": "code",
   "execution_count": 11,
   "id": "94faa1ad-4164-4488-b59e-0eeecf7292c2",
   "metadata": {},
   "outputs": [],
   "source": [
    "# eval_env = make_vec_env(\n",
    "#     RNAInvEnvironment, n_envs=1,\n",
    "#     env_kwargs={'objective_structure': objective_structure, 'max_steps': max_steps, 'tuple_obs_space': True}\n",
    "# )\n",
    "\n",
    "eval_env = make_vec_env(\n",
    "    RNAInvEnvironment, n_envs=1,\n",
    "    env_kwargs=env_kwargs,\n",
    "    monitor_dir=f'logs/{model_name}',\n",
    "    monitor_kwargs={\n",
    "        'info_keywords': (\n",
    "            'free_energy',\n",
    "            'structure_distance',\n",
    "            'energy_to_objective',\n",
    "            'energy_reward',\n",
    "            'distance_reward',\n",
    "            'folding_struc',\n",
    "            'sequence',\n",
    "            'solved',\n",
    "            'unique_sequences_N'\n",
    "        )\n",
    "    }\n",
    ")"
   ]
  },
  {
   "cell_type": "code",
   "execution_count": 12,
   "id": "fd71229b-f87c-4228-9d9c-cdfdf39c5045",
   "metadata": {},
   "outputs": [],
   "source": [
    "eval_callback = EvalCallback(\n",
    "    eval_env = eval_env,\n",
    "    eval_freq=512*5,\n",
    "    n_eval_episodes=1024,\n",
    "    deterministic=True,\n",
    "    verbose=1,\n",
    "    best_model_save_path=f'models/{model_name}',\n",
    ")\n"
   ]
  },
  {
   "cell_type": "code",
   "execution_count": null,
   "id": "718fc440-11fd-44b4-a991-aaadb84d1af4",
   "metadata": {
    "tags": []
   },
   "outputs": [
    {
     "name": "stdout",
     "output_type": "stream",
     "text": [
      "Logging to tensorboard_logs/saccharomyces_cerevisiae_-_difficulty_level_0_512_16_energies_mse_1\n",
      "----------------------------------\n",
      "| rollout/           |           |\n",
      "|    ep_len_mean     | 1         |\n",
      "|    ep_rew_mean     | -7.54e+03 |\n",
      "| time/              |           |\n",
      "|    fps             | 5         |\n",
      "|    iterations      | 1         |\n",
      "|    time_elapsed    | 1135      |\n",
      "|    total_timesteps | 6144      |\n",
      "----------------------------------\n",
      "-----------------------------------------\n",
      "| rollout/                |             |\n",
      "|    ep_len_mean          | 1           |\n",
      "|    ep_rew_mean          | -7.44e+03   |\n",
      "| time/                   |             |\n",
      "|    fps                  | 5           |\n",
      "|    iterations           | 2           |\n",
      "|    time_elapsed         | 2426        |\n",
      "|    total_timesteps      | 12288       |\n",
      "| train/                  |             |\n",
      "|    approx_kl            | 0.036745187 |\n",
      "|    clip_fraction        | 0.374       |\n",
      "|    clip_range           | 0.2         |\n",
      "|    entropy_loss         | -424        |\n",
      "|    explained_variance   | 7.03e-06    |\n",
      "|    learning_rate        | 0.0003      |\n",
      "|    loss                 | 3.23e+07    |\n",
      "|    n_updates            | 10          |\n",
      "|    policy_gradient_loss | -0.104      |\n",
      "|    value_loss           | 6.53e+07    |\n",
      "-----------------------------------------\n",
      "-----------------------------------------\n",
      "| rollout/                |             |\n",
      "|    ep_len_mean          | 1           |\n",
      "|    ep_rew_mean          | -7.06e+03   |\n",
      "| time/                   |             |\n",
      "|    fps                  | 5           |\n",
      "|    iterations           | 3           |\n",
      "|    time_elapsed         | 3672        |\n",
      "|    total_timesteps      | 18432       |\n",
      "| train/                  |             |\n",
      "|    approx_kl            | 0.039558988 |\n",
      "|    clip_fraction        | 0.389       |\n",
      "|    clip_range           | 0.2         |\n",
      "|    entropy_loss         | -424        |\n",
      "|    explained_variance   | 0           |\n",
      "|    learning_rate        | 0.0003      |\n",
      "|    loss                 | 3.16e+07    |\n",
      "|    n_updates            | 20          |\n",
      "|    policy_gradient_loss | -0.106      |\n",
      "|    value_loss           | 5.94e+07    |\n",
      "-----------------------------------------\n"
     ]
    }
   ],
   "source": [
    "%%time\n",
    "model.learn(\n",
    "    total_timesteps=1_000_000,\n",
    "    tb_log_name=model_name,\n",
    "    callback=[eval_callback]\n",
    ")"
   ]
  },
  {
   "cell_type": "code",
   "execution_count": null,
   "id": "f0bf2b51-fca7-4749-b51b-3142e7bd510d",
   "metadata": {},
   "outputs": [],
   "source": []
  },
  {
   "cell_type": "code",
   "execution_count": null,
   "id": "2de6c137-2676-4ad7-8d9c-74cb97e73e2c",
   "metadata": {},
   "outputs": [],
   "source": []
  },
  {
   "cell_type": "code",
   "execution_count": null,
   "id": "124928ba-c5ef-4ab9-8ad7-c0faa8afb217",
   "metadata": {},
   "outputs": [],
   "source": []
  },
  {
   "cell_type": "code",
   "execution_count": null,
   "id": "a27ed65d-e585-47f8-99e4-34c7684d18e9",
   "metadata": {},
   "outputs": [],
   "source": []
  },
  {
   "cell_type": "code",
   "execution_count": null,
   "id": "80d61acd-d2ab-4dbf-beec-e1ee9df9c0e2",
   "metadata": {},
   "outputs": [],
   "source": []
  },
  {
   "cell_type": "code",
   "execution_count": null,
   "id": "e7cc1d02-3d4e-4b06-bc3d-abe5def7ff3f",
   "metadata": {},
   "outputs": [],
   "source": []
  },
  {
   "cell_type": "code",
   "execution_count": null,
   "id": "2c8ac3a3-b811-44f2-9ee4-c5f87357a9d1",
   "metadata": {},
   "outputs": [],
   "source": []
  },
  {
   "cell_type": "code",
   "execution_count": null,
   "id": "ce2bb9d4-0b7f-4c0b-ab52-c6ad99a0ebc9",
   "metadata": {},
   "outputs": [],
   "source": []
  },
  {
   "cell_type": "code",
   "execution_count": null,
   "id": "afbbfacf-cc1d-49db-a230-ffc7db8159bc",
   "metadata": {},
   "outputs": [],
   "source": []
  },
  {
   "cell_type": "code",
   "execution_count": null,
   "id": "15817702-398d-405a-a23d-210454d69782",
   "metadata": {},
   "outputs": [],
   "source": []
  },
  {
   "cell_type": "code",
   "execution_count": null,
   "id": "d1db7281-98c4-4989-bad3-5c1e1431ca2d",
   "metadata": {},
   "outputs": [],
   "source": []
  },
  {
   "cell_type": "code",
   "execution_count": null,
   "id": "566fc605-e522-45c0-8ddb-896e8b82c0e3",
   "metadata": {},
   "outputs": [],
   "source": []
  }
 ],
 "metadata": {
  "kernelspec": {
   "display_name": "Python 3",
   "language": "python",
   "name": "python3"
  },
  "language_info": {
   "codemirror_mode": {
    "name": "ipython",
    "version": 3
   },
   "file_extension": ".py",
   "mimetype": "text/x-python",
   "name": "python",
   "nbconvert_exporter": "python",
   "pygments_lexer": "ipython3",
   "version": "3.7.3"
  }
 },
 "nbformat": 4,
 "nbformat_minor": 5
}
